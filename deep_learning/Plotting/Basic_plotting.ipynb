{
  "nbformat": 4,
  "nbformat_minor": 0,
  "metadata": {
    "colab": {
      "name": "Basic_plotting.ipynb",
      "provenance": []
    },
    "kernelspec": {
      "name": "python3",
      "display_name": "Python 3"
    }
  },
  "cells": [
    {
      "cell_type": "markdown",
      "metadata": {
        "id": "5WYYuH0lJYkZ",
        "colab_type": "text"
      },
      "source": [
        "# **Basic Plotting**"
      ]
    },
    {
      "cell_type": "code",
      "metadata": {
        "id": "TeRevdrOI09k",
        "colab_type": "code",
        "colab": {}
      },
      "source": [
        "import matplotlib.pyplot as plt\n",
        "import numpy as np\n",
        "import seaborn as sns"
      ],
      "execution_count": 0,
      "outputs": []
    },
    {
      "cell_type": "code",
      "metadata": {
        "id": "h8Y4oLvtJBxo",
        "colab_type": "code",
        "colab": {}
      },
      "source": [
        "x = np.random.random((10, 1))\n",
        "print(x)"
      ],
      "execution_count": 0,
      "outputs": []
    },
    {
      "cell_type": "code",
      "metadata": {
        "id": "NR87916PJPp9",
        "colab_type": "code",
        "colab": {}
      },
      "source": [
        "plt.plot(x, '*-')\n",
        "plt.show()"
      ],
      "execution_count": 0,
      "outputs": []
    },
    {
      "cell_type": "code",
      "metadata": {
        "id": "N0wY_LR4JNWL",
        "colab_type": "code",
        "colab": {}
      },
      "source": [
        "x = np.linspace(0, 100, 50)\n",
        "y = np.power(x, .5)\n",
        "plt.plot(x, y, '+-')\n",
        "plt.show()"
      ],
      "execution_count": 0,
      "outputs": []
    },
    {
      "cell_type": "markdown",
      "metadata": {
        "id": "ko0yVI-XJU26",
        "colab_type": "text"
      },
      "source": [
        "**Seaborn Plotting**"
      ]
    },
    {
      "cell_type": "code",
      "metadata": {
        "id": "JkAKx9J4JbJK",
        "colab_type": "code",
        "colab": {}
      },
      "source": [
        "sns.set()\n",
        "sns.lineplot(x, y)\n",
        "plt.show()"
      ],
      "execution_count": 0,
      "outputs": []
    },
    {
      "cell_type": "code",
      "metadata": {
        "id": "8vV4yhGhJnxd",
        "colab_type": "code",
        "colab": {}
      },
      "source": [
        "uniform_data = np.random.rand(10, 12)\n",
        "print(uniform_data)\n",
        "ax = sns.heatmap(uniform_data, cmap=\"YlGnBu\")\n",
        "plt.show()"
      ],
      "execution_count": 0,
      "outputs": []
    }
  ]
}