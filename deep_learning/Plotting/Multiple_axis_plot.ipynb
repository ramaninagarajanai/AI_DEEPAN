{
  "nbformat": 4,
  "nbformat_minor": 0,
  "metadata": {
    "colab": {
      "name": "Untitled10.ipynb",
      "provenance": [],
      "toc_visible": true
    },
    "kernelspec": {
      "name": "python3",
      "display_name": "Python 3"
    }
  },
  "cells": [
    {
      "cell_type": "markdown",
      "metadata": {
        "id": "pBzayTO1LQAn",
        "colab_type": "text"
      },
      "source": [
        "# **Mobile Dataset plotting**"
      ]
    },
    {
      "cell_type": "code",
      "metadata": {
        "id": "n6eDTk9gJ_oZ",
        "colab_type": "code",
        "colab": {}
      },
      "source": [
        "import matplotlib.pyplot as plt\n",
        "import numpy as np\n",
        "import seaborn as sns\n",
        "import pandas as pd"
      ],
      "execution_count": 0,
      "outputs": []
    },
    {
      "cell_type": "code",
      "metadata": {
        "id": "7l5vMEgpLVdN",
        "colab_type": "code",
        "colab": {}
      },
      "source": [
        "! git clone https://github.com/deepanrajm/deep_learning.git"
      ],
      "execution_count": 0,
      "outputs": []
    },
    {
      "cell_type": "code",
      "metadata": {
        "id": "ArQ4Z_-ILrX4",
        "colab_type": "code",
        "colab": {}
      },
      "source": [
        "data = pd.read_csv('deep_learning/Plotting/mobile_cleaned.csv')\n",
        "data.head()"
      ],
      "execution_count": 0,
      "outputs": []
    },
    {
      "cell_type": "code",
      "metadata": {
        "id": "WAZovIT0MDwL",
        "colab_type": "code",
        "colab": {}
      },
      "source": [
        "ax = sns.scatterplot(x=\"stand_by_time\", y=\"battery_capacity\", data=data)\n",
        "plt.show()"
      ],
      "execution_count": 0,
      "outputs": []
    },
    {
      "cell_type": "code",
      "metadata": {
        "id": "BiSn4TvqMEkr",
        "colab_type": "code",
        "colab": {}
      },
      "source": [
        "ax = sns.scatterplot(x = \"stand_by_time\", y = \"battery_capacity\", hue=\"thickness\", data=data)\n",
        "plt.show()"
      ],
      "execution_count": 0,
      "outputs": []
    },
    {
      "cell_type": "code",
      "metadata": {
        "id": "oM9SlCsxMF_L",
        "colab_type": "code",
        "colab": {}
      },
      "source": [
        "ax = sns.distplot(data[\"stand_by_time\"])\n",
        "plt.show()"
      ],
      "execution_count": 0,
      "outputs": []
    },
    {
      "cell_type": "code",
      "metadata": {
        "id": "neOcWsT0MIyO",
        "colab_type": "code",
        "colab": {}
      },
      "source": [
        "ax = sns.boxplot(x=\"is_liked\", y=\"battery_capacity\", data=data)\n",
        "plt.show()"
      ],
      "execution_count": 0,
      "outputs": []
    },
    {
      "cell_type": "code",
      "metadata": {
        "id": "Kkw3uFOIMKZP",
        "colab_type": "code",
        "colab": {}
      },
      "source": [
        "ax = sns.boxplot(x = \"expandable_memory\", y = \"price\", data=data)\n",
        "plt.show()"
      ],
      "execution_count": 0,
      "outputs": []
    },
    {
      "cell_type": "code",
      "metadata": {
        "id": "YFe5e1i2MdZf",
        "colab_type": "code",
        "colab": {}
      },
      "source": [
        "dataframe = pd.read_csv(\"deep_learning/Plotting/iris.csv\")\n",
        "print(dataframe.head())"
      ],
      "execution_count": 0,
      "outputs": []
    },
    {
      "cell_type": "code",
      "metadata": {
        "id": "CkfQISq0Mwjy",
        "colab_type": "code",
        "colab": {}
      },
      "source": [
        "ax = sns.scatterplot(x=\"petal.length\", y=\"petal.width\",hue=\"variety\",size = \"sepal.width\",data=dataframe)\n",
        "plt.show()"
      ],
      "execution_count": 0,
      "outputs": []
    }
  ]
}