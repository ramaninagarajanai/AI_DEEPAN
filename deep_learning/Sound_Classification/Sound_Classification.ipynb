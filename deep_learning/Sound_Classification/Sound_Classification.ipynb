{
  "nbformat": 4,
  "nbformat_minor": 0,
  "metadata": {
    "colab": {
      "name": "Sound_Classification.ipynb",
      "provenance": []
    },
    "kernelspec": {
      "name": "python3",
      "display_name": "Python 3"
    }
  },
  "cells": [
    {
      "cell_type": "code",
      "metadata": {
        "id": "j7Is1Y6rOh4Z",
        "colab_type": "code",
        "colab": {}
      },
      "source": [
        "!git clone https://github.com/deepanrajm/deep_learning.git"
      ],
      "execution_count": null,
      "outputs": []
    },
    {
      "cell_type": "code",
      "metadata": {
        "id": "8g-EEWE7OVJR",
        "colab_type": "code",
        "colab": {}
      },
      "source": [
        "#Importing required python libraries\n",
        "import os\n",
        "import librosa\n",
        "import tensorflow as tf\n",
        "import numpy as np\n",
        "from keras.models import Sequential\n",
        "from keras.layers import Dense\n",
        "from keras.layers import Dropout\n",
        "from keras.utils import np_utils\n",
        "from keras.models import load_model\n",
        "#from playsound import playsound"
      ],
      "execution_count": 15,
      "outputs": []
    },
    {
      "cell_type": "code",
      "metadata": {
        "id": "CXASZfj9RDxW",
        "colab_type": "code",
        "colab": {}
      },
      "source": [
        "label = [\"car_horn\",\"dog_bark\",\"engine_idling\",\"siren\"]"
      ],
      "execution_count": 13,
      "outputs": []
    },
    {
      "cell_type": "code",
      "metadata": {
        "id": "JqgZJbkiOWvL",
        "colab_type": "code",
        "colab": {}
      },
      "source": [
        "#Defining One-Hot as labels\n",
        "car_horn_onehot \t\t= [1,0,0,0]\n",
        "dog_bark_onehot \t\t= [0,1,0,0]\n",
        "engine_idling_onehot \t= [0,0,1,0]\n",
        "siren_onehot \t\t\t= [0,0,0,1]"
      ],
      "execution_count": 6,
      "outputs": []
    },
    {
      "cell_type": "code",
      "metadata": {
        "id": "U8rUzkWgOYku",
        "colab_type": "code",
        "colab": {}
      },
      "source": [
        "#Converting files in a folder into list of arrays containg the properties of the files\n",
        "def decodeFolder(category):\n",
        "\tprint(\"Starting decoding folder \"+category+\" ...\")\n",
        "\tlistOfFiles = os.listdir(category)\n",
        "\tarrays_sound = np.empty((0,193))\n",
        "\tfor file in listOfFiles:\n",
        "\t\tfilename = os.path.join(category,file)\n",
        "\t\tfeatures_sound = extract_feature(filename)\n",
        "\t\tarrays_sound = np.vstack((arrays_sound,features_sound))\n",
        "\treturn arrays_sound\n"
      ],
      "execution_count": 7,
      "outputs": []
    },
    {
      "cell_type": "code",
      "metadata": {
        "id": "o0VQrgWTOacm",
        "colab_type": "code",
        "colab": {}
      },
      "source": [
        "#Extracting the feataures of a wav file as inpurt to the data\n",
        "def extract_feature(file_name):\n",
        "\tprint(\"Extracting \"+file_name+\" ...\")\n",
        "\tX, sample_rate = librosa.load(file_name)\n",
        "\tstft = np.abs(librosa.stft(X))\n",
        "\tmfccs = np.mean(librosa.feature.mfcc(y=X, sr=sample_rate, n_mfcc=40).T,axis=0)\n",
        "\tchroma = np.mean(librosa.feature.chroma_stft(S=stft, sr=sample_rate).T,axis=0)\n",
        "\tmel = np.mean(librosa.feature.melspectrogram(X, sr=sample_rate).T,axis=0)\n",
        "\tcontrast = np.mean(librosa.feature.spectral_contrast(S=stft, sr=sample_rate).T,axis=0)\n",
        "\ttonnetz = np.mean(librosa.feature.tonnetz(y=librosa.effects.harmonic(X),sr=sample_rate).T,axis=0)\n",
        "\treturn np.hstack((mfccs,chroma,mel,contrast,tonnetz))\n"
      ],
      "execution_count": 8,
      "outputs": []
    },
    {
      "cell_type": "code",
      "metadata": {
        "id": "BKPOT_jNOcaG",
        "colab_type": "code",
        "colab": {}
      },
      "source": [
        "#train data\n",
        "car_horn_sounds = decodeFolder(\"deep_learning/Sound_Classification/car_horn\")\n",
        "car_horn_labels = [car_horn_onehot for items in car_horn_sounds]\n",
        "\n",
        "dog_bark_sounds = decodeFolder(\"deep_learning/Sound_Classification/dog_bark\")\n",
        "dog_bark_labels = [dog_bark_onehot for items in dog_bark_sounds]\n",
        "\n",
        "engine_idling_sounds = decodeFolder(\"deep_learning/Sound_Classification/engine_idling\")\n",
        "engine_idling_labels = [engine_idling_onehot for items in engine_idling_sounds]\n",
        "\n",
        "siren_sounds = decodeFolder(\"deep_learning/Sound_Classification/siren\")\n",
        "siren_labels = [siren_onehot for items in siren_sounds]\n"
      ],
      "execution_count": null,
      "outputs": []
    },
    {
      "cell_type": "code",
      "metadata": {
        "id": "8HeGb5FMOeye",
        "colab_type": "code",
        "colab": {}
      },
      "source": [
        "train_sounds = np.concatenate((car_horn_sounds, dog_bark_sounds,engine_idling_sounds,siren_sounds))\n",
        "train_labels = np.concatenate((car_horn_labels, dog_bark_labels,engine_idling_labels,siren_labels))\n",
        "print (train_sounds.shape)\n",
        "X_train = train_sounds.reshape(train_sounds.shape[0], train_sounds.shape[1]).astype('float32')\n",
        "#X_test = X_test.reshape(X_test.shape[0], num_pixels).astype('float32')\n",
        "#test_data\n",
        "\n",
        "test_sound = decodeFolder(\"deep_learning/Sound_Classification/test\")\n",
        "#test_sounds = np.concatenate(test_sound)\n",
        "print (test_sound.shape)\n",
        "X_test = test_sound.reshape(test_sound.shape[0], test_sound.shape[1]).astype('float32')\n",
        "#print (X_train.shape)"
      ],
      "execution_count": null,
      "outputs": []
    },
    {
      "cell_type": "code",
      "metadata": {
        "id": "5IPbpJ_JOge2",
        "colab_type": "code",
        "colab": {}
      },
      "source": [
        "model = Sequential()\n",
        "model.add(Dense(193, input_dim=193, init='uniform', activation='relu'))\n",
        "#model.add(Dense(8, init='uniform', activation='relu'))\n",
        "model.add(Dense(4, init='uniform', activation='softmax'))\n",
        "# Compile model\n",
        "model.compile(loss='categorical_crossentropy', optimizer='adam', metrics=['accuracy'])\n",
        "# Fit the model\n",
        "model.fit(X_train, train_labels, nb_epoch=150, batch_size=10)\n",
        "\n",
        "model.save('my_model.h5')"
      ],
      "execution_count": null,
      "outputs": []
    },
    {
      "cell_type": "code",
      "metadata": {
        "id": "KS0bGDBYRGxt",
        "colab_type": "code",
        "colab": {}
      },
      "source": [
        "model = load_model('my_model.h5')"
      ],
      "execution_count": 16,
      "outputs": []
    },
    {
      "cell_type": "code",
      "metadata": {
        "id": "fnDaSoAmRTqk",
        "colab_type": "code",
        "colab": {}
      },
      "source": [
        "pred = model.predict_classes(X_test)"
      ],
      "execution_count": 17,
      "outputs": []
    },
    {
      "cell_type": "code",
      "metadata": {
        "id": "p_2ddqFURnc2",
        "colab_type": "code",
        "colab": {}
      },
      "source": [
        "listOfFiles = os.listdir(\"deep_learning/Sound_Classification/test\")"
      ],
      "execution_count": 19,
      "outputs": []
    },
    {
      "cell_type": "code",
      "metadata": {
        "id": "7EBcYmxvRVll",
        "colab_type": "code",
        "colab": {}
      },
      "source": [
        "for i in range (0, len(listOfFiles)):\n",
        "\tprint (\"Listening to\",listOfFiles[i] )\n",
        "\t#playsound((\"test\\\\\"+str(listOfFiles[i])))\n",
        "\tprint (\"I think it is\", label[pred[i]],\"sound\")"
      ],
      "execution_count": null,
      "outputs": []
    }
  ]
}