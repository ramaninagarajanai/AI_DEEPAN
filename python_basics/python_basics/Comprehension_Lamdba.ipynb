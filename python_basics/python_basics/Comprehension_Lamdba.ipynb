{
  "nbformat": 4,
  "nbformat_minor": 0,
  "metadata": {
    "colab": {
      "name": "Comprehension_Lamdba.ipynb",
      "provenance": [],
      "collapsed_sections": []
    },
    "kernelspec": {
      "name": "python3",
      "display_name": "Python 3"
    },
    "language_info": {
      "name": "python"
    }
  },
  "cells": [
    {
      "cell_type": "markdown",
      "source": [
        "# List Comprehension"
      ],
      "metadata": {
        "id": "YORYNbEKpeQu"
      }
    },
    {
      "cell_type": "code",
      "execution_count": null,
      "metadata": {
        "id": "ew2_GaU_Xeah"
      },
      "outputs": [],
      "source": [
        "# l1= []\n",
        "# for i in range (10):\n",
        "# \tl1.append(i)\n",
        "\n",
        "l1= [i for i in range(10)]\n",
        "l1"
      ]
    },
    {
      "cell_type": "code",
      "source": [
        "# l1 = []\n",
        "# for i in range(0,10,2):\n",
        "# \tl1.append(i**2)\n",
        "\n",
        "l1 = [i**2 for i in range(0,10,2)]\n",
        "l1"
      ],
      "metadata": {
        "id": "B4uWpgwjiN2w"
      },
      "execution_count": null,
      "outputs": []
    },
    {
      "cell_type": "code",
      "source": [
        "# l1 = []\n",
        "# for i in range(10):\n",
        "# \tif i%2==0:\n",
        "# \t\tl1.append(i)\n",
        "\n",
        "l1=[i for i in range(10) if i%2==0]\n",
        "l1"
      ],
      "metadata": {
        "id": "XmJ4E1_foT_G"
      },
      "execution_count": null,
      "outputs": []
    },
    {
      "cell_type": "code",
      "source": [
        "# l1 =[]\n",
        "# for i in l2:\n",
        "# \tfor j in i:\n",
        "# \t\tif j>4:\n",
        "# \t\t\tl1.append(j)\n",
        "\n",
        "l2=[[1,2,3],[4,5,6]]\n",
        "\n",
        "l1 =[j for i in l2 for j in i if j > 4]"
      ],
      "metadata": {
        "id": "sXm780OmpTR-"
      },
      "execution_count": null,
      "outputs": []
    },
    {
      "cell_type": "markdown",
      "source": [
        "# Tuple Comprehension"
      ],
      "metadata": {
        "id": "EGfParcJphnl"
      }
    },
    {
      "cell_type": "code",
      "source": [
        "t1= tuple(i for i in range(10))\n",
        "t1"
      ],
      "metadata": {
        "id": "5WtSGR3VpcH3"
      },
      "execution_count": null,
      "outputs": []
    },
    {
      "cell_type": "code",
      "source": [
        "l1=[1,2,4,'a','b']\n",
        "\n",
        "t1=tuple(i for i in l1 if type(i)==str)\n",
        "t1"
      ],
      "metadata": {
        "id": "Grv6tbmZr1ea"
      },
      "execution_count": null,
      "outputs": []
    },
    {
      "cell_type": "markdown",
      "source": [
        "# Dictionary Comprehension"
      ],
      "metadata": {
        "id": "j-YgDUSIr6o_"
      }
    },
    {
      "cell_type": "code",
      "source": [
        "l1=[1,2,1,1,1,2,2,2,3,4,5,5]\n",
        "\n",
        "d4={i:i**2 for i in l1}\n",
        "d4"
      ],
      "metadata": {
        "id": "H7kOER1Qr9cO"
      },
      "execution_count": null,
      "outputs": []
    },
    {
      "cell_type": "code",
      "source": [
        "d4={i:l1.count(i) for i in l1}\n",
        "d4"
      ],
      "metadata": {
        "id": "lwhtm64xsCzK"
      },
      "execution_count": null,
      "outputs": []
    },
    {
      "cell_type": "code",
      "source": [
        "d4 ={i:l1.index(i) for i in l1}\n",
        "d4"
      ],
      "metadata": {
        "id": "59Rzqhb-sGm5"
      },
      "execution_count": null,
      "outputs": []
    },
    {
      "cell_type": "markdown",
      "source": [
        "# Lambda Function"
      ],
      "metadata": {
        "id": "HkMINJ9nsIZB"
      }
    },
    {
      "cell_type": "code",
      "source": [
        "#lambda arguments: expression\n",
        "\n",
        "#def double(x):\n",
        "#   return x * 2\n",
        "\n",
        "double = lambda x: x * 2\n",
        "\n",
        "print(double(5))"
      ],
      "metadata": {
        "id": "uMYaOUpEsU57"
      },
      "execution_count": null,
      "outputs": []
    },
    {
      "cell_type": "code",
      "source": [
        "l1 = [1, 2, 3, 4, 5, 6, 7, 8]\n",
        "\n",
        "l2 = list(map(lambda x: x * 2 , l1))\n",
        "\n",
        "print(l2)"
      ],
      "metadata": {
        "id": "3SvXeugMsxOi"
      },
      "execution_count": null,
      "outputs": []
    }
  ]
}