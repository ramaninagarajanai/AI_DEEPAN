{
  "nbformat": 4,
  "nbformat_minor": 0,
  "metadata": {
    "colab": {
      "name": "EDA_Fine_Tune.ipynb",
      "provenance": [],
      "collapsed_sections": []
    },
    "kernelspec": {
      "name": "python3",
      "display_name": "Python 3"
    },
    "language_info": {
      "name": "python"
    }
  },
  "cells": [
    {
      "cell_type": "code",
      "source": [
        "!git clone https://github.com/deepanrajm/python_basics.git"
      ],
      "metadata": {
        "id": "QaFC4k3vMRjD"
      },
      "execution_count": null,
      "outputs": []
    },
    {
      "cell_type": "code",
      "execution_count": null,
      "metadata": {
        "id": "jrth0A17ODEs"
      },
      "outputs": [],
      "source": [
        "import numpy as np\n",
        "import pandas as pd\n",
        "from sklearn.preprocessing import LabelEncoder"
      ]
    },
    {
      "cell_type": "code",
      "source": [
        "train = \"python_basics/KDDTrain+.txt\"\n",
        "\n",
        "feature=[\"duration\",\"protocol_type\",\"service\",\"flag\",\"src_bytes\",\"dst_bytes\",\"land\",\"wrong_fragment\",\"urgent\",\"hot\",\n",
        "          \"num_failed_logins\",\"logged_in\",\"num_compromised\",\"root_shell\",\"su_attempted\",\"num_root\",\"num_file_creations\",\"num_shells\",\n",
        "          \"num_access_files\",\"num_outbound_cmds\",\"is_host_login\",\"is_guest_login\",\"count\",\"srv_count\",\"serror_rate\",\"srv_serror_rate\",\n",
        "          \"rerror_rate\",\"srv_rerror_rate\",\"same_srv_rate\",\"diff_srv_rate\",\"srv_diff_host_rate\",\"dst_host_count\",\"dst_host_srv_count\", \n",
        "          \"dst_host_same_srv_rate\",\"dst_host_diff_srv_rate\",\"dst_host_same_src_port_rate\",\"dst_host_srv_diff_host_rate\",\"dst_host_serror_rate\",\n",
        "          \"dst_host_srv_serror_rate\",\"dst_host_rerror_rate\",\"dst_host_srv_rerror_rate\",\"label\",\"difficulty\"]"
      ],
      "metadata": {
        "id": "KemccqyDOb3E"
      },
      "execution_count": null,
      "outputs": []
    },
    {
      "cell_type": "code",
      "source": [
        "train_data=pd.read_csv(train,names=feature)"
      ],
      "metadata": {
        "id": "Ze97S8tuOdka"
      },
      "execution_count": null,
      "outputs": []
    },
    {
      "cell_type": "code",
      "source": [
        "train_data"
      ],
      "metadata": {
        "id": "pRTkBuVXOky0"
      },
      "execution_count": null,
      "outputs": []
    },
    {
      "cell_type": "code",
      "source": [
        "train_data.drop(['difficulty'],axis=1,inplace=True)\n",
        "test_data.drop(['difficulty'],axis=1,inplace=True)\n",
        "train_data.shape"
      ],
      "metadata": {
        "colab": {
          "base_uri": "https://localhost:8080/"
        },
        "id": "j1gjpy4aOmhL",
        "outputId": "24f2ba3f-babe-4140-c93c-b5cfc053469a"
      },
      "execution_count": null,
      "outputs": [
        {
          "output_type": "execute_result",
          "data": {
            "text/plain": [
              "(125973, 41)"
            ]
          },
          "metadata": {},
          "execution_count": 32
        }
      ]
    },
    {
      "cell_type": "code",
      "source": [
        "train_data.info()"
      ],
      "metadata": {
        "id": "ftHqLNflOpxs"
      },
      "execution_count": null,
      "outputs": []
    },
    {
      "cell_type": "code",
      "source": [
        "# number of attack labels \n",
        "train_data['label'].value_counts()"
      ],
      "metadata": {
        "id": "q0OBzmtvO3Mn"
      },
      "execution_count": null,
      "outputs": []
    },
    {
      "cell_type": "code",
      "source": [
        "def bar_graph(feature):\n",
        "  train_data[feature].value_counts().plot(kind=\"bar\")"
      ],
      "metadata": {
        "id": "W9HuiikdO9Qy"
      },
      "execution_count": null,
      "outputs": []
    },
    {
      "cell_type": "code",
      "source": [
        "bar_graph('label')"
      ],
      "metadata": {
        "id": "JQlb_X5WO9tb"
      },
      "execution_count": null,
      "outputs": []
    },
    {
      "cell_type": "code",
      "source": [
        "le = LabelEncoder()\n",
        "train_data['protocol_type'] = le.fit_transform(train_data['protocol_type'])\n",
        "test_data['protocol_type'] = le.transform(test_data['protocol_type'])\n",
        "train_data['service'] = le.fit_transform(train_data['service'])\n",
        "test_data['service'] =le.transform(test_data['service'])\n",
        "train_data['flag'] = le.fit_transform(train_data['flag'])\n",
        "test_data['flag'] = le.transform(test_data['flag'])"
      ],
      "metadata": {
        "id": "Q4Av9bBiPSac"
      },
      "execution_count": null,
      "outputs": []
    },
    {
      "cell_type": "code",
      "source": [
        "label = []\n",
        "for i in train_data.label :\n",
        "  if i == 'normal':\n",
        "    label.append(0)\n",
        "  else:\n",
        "    label.append(1)\n",
        "train_data['label'] = label "
      ],
      "metadata": {
        "id": "0JisOvxwPTpT"
      },
      "execution_count": null,
      "outputs": []
    },
    {
      "cell_type": "code",
      "source": [
        "label_test = []\n",
        "for i in test_data.label :\n",
        "  if i == 'normal':\n",
        "    label_test.append(0)\n",
        "  else:\n",
        "    label_test.append(1)\n",
        "test_data['label'] = label_test"
      ],
      "metadata": {
        "id": "eXPtnfMFPU4q"
      },
      "execution_count": null,
      "outputs": []
    },
    {
      "cell_type": "code",
      "source": [
        "train_data.drop('label',axis = 1,inplace = True)\n",
        "test_data.drop('label',axis = 1,inplace = True)"
      ],
      "metadata": {
        "id": "NFEvJ9w0PVv8"
      },
      "execution_count": null,
      "outputs": []
    },
    {
      "cell_type": "code",
      "source": [
        "test_data.head()"
      ],
      "metadata": {
        "id": "fFz3fB8LPahg"
      },
      "execution_count": null,
      "outputs": []
    },
    {
      "cell_type": "code",
      "source": [
        "train_data.head()"
      ],
      "metadata": {
        "id": "leLEbJ54Pj6N"
      },
      "execution_count": null,
      "outputs": []
    },
    {
      "cell_type": "code",
      "source": [
        "train_data_array = train_data.to_numpy()\n",
        "test_data_array = test_data.to_numpy()"
      ],
      "metadata": {
        "id": "KsovyjKpwAV5"
      },
      "execution_count": null,
      "outputs": []
    }
  ]
}