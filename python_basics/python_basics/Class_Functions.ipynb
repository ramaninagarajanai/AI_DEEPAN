{
  "nbformat": 4,
  "nbformat_minor": 0,
  "metadata": {
    "colab": {
      "name": "Class_Functions.ipynb",
      "provenance": [],
      "collapsed_sections": []
    },
    "kernelspec": {
      "name": "python3",
      "display_name": "Python 3"
    }
  },
  "cells": [
    {
      "cell_type": "markdown",
      "metadata": {
        "id": "pQtyOHQ3a2p5"
      },
      "source": [
        "# **Function**"
      ]
    },
    {
      "cell_type": "code",
      "metadata": {
        "id": "PwuAmvyAa5RN"
      },
      "source": [
        "def squared(x):\n",
        "    y = x*x\n",
        "    print (y)\n",
        "    return y"
      ],
      "execution_count": null,
      "outputs": []
    },
    {
      "cell_type": "code",
      "metadata": {
        "id": "Fq7If5fHa6qg"
      },
      "source": [
        "res = squared(4)\n",
        "print (\"result is\", res )"
      ],
      "execution_count": null,
      "outputs": []
    },
    {
      "cell_type": "markdown",
      "source": [
        "# Class"
      ],
      "metadata": {
        "id": "Ipk0JYPsFsDM"
      }
    },
    {
      "cell_type": "code",
      "source": [
        "class AI:\n",
        "    pass"
      ],
      "metadata": {
        "id": "1XLKPdB4FtZ2"
      },
      "execution_count": 1,
      "outputs": []
    },
    {
      "cell_type": "code",
      "source": [
        "class AI:\n",
        "     \n",
        "    # A simple class\n",
        "    # attribute\n",
        "    attr1 = \"ML\"\n",
        "    attr2 = \"DL\"\n",
        " \n",
        "    # A sample method \n",
        "    def fun(self):\n",
        "        print(\"We need\", self.attr1)\n",
        "        print(\"We need\", self.attr2)\n",
        " \n",
        "# Driver code\n",
        "# Object instantiation\n",
        "me = AI()\n",
        " \n",
        "# Accessing class attributes\n",
        "# and method through objects\n",
        "print(me.attr1)\n",
        "me.fun()"
      ],
      "metadata": {
        "id": "iWkt-7TuF1sM"
      },
      "execution_count": null,
      "outputs": []
    },
    {
      "cell_type": "code",
      "source": [
        "# A Sample class with init method\n",
        "class Person:\n",
        "   \n",
        "    # init method or constructor \n",
        "    def __init__(self, name):\n",
        "        self.name = name\n",
        "        self.profession = \"Data\"\n",
        "   \n",
        "    # Sample Method \n",
        "    def say_hi(self):\n",
        "        print('Hello, my name is', self.name)\n",
        "        print('He plays', self.profession, \"for living\")\n",
        "   \n",
        "p = Person('Deepan')\n",
        "p.say_hi()"
      ],
      "metadata": {
        "id": "5OgdYzAWGRRj"
      },
      "execution_count": null,
      "outputs": []
    },
    {
      "cell_type": "markdown",
      "metadata": {
        "id": "wAz497akagUz"
      },
      "source": [
        "# **Exception Handling**"
      ]
    },
    {
      "cell_type": "code",
      "metadata": {
        "id": "LC_jYmA8ap6f"
      },
      "source": [
        "y =10\n",
        "try:\n",
        "    print (z)\n",
        "    x = y/0\n",
        "except NameError :\n",
        "    print (\"value error\")\n",
        "except Exception as e:\n",
        "    print(\"Something is wrong!\")\n",
        "    print (e)"
      ],
      "execution_count": null,
      "outputs": []
    },
    {
      "cell_type": "code",
      "metadata": {
        "id": "i0eokz3masIT"
      },
      "source": [
        "try:\n",
        "    print(s)\n",
        "except: \n",
        "    print(\"Something is wrong!\")\n",
        "finally:\n",
        "    print(\"Finally always execute after try-except.\")"
      ],
      "execution_count": null,
      "outputs": []
    }
  ]
}