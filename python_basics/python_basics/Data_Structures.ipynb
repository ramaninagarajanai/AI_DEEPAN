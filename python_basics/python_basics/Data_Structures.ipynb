{
  "nbformat": 4,
  "nbformat_minor": 0,
  "metadata": {
    "colab": {
      "name": "Data_Structures.ipynb",
      "provenance": [],
      "collapsed_sections": []
    },
    "kernelspec": {
      "name": "python3",
      "display_name": "Python 3"
    }
  },
  "cells": [
    {
      "cell_type": "markdown",
      "metadata": {
        "id": "BuTeInlbVYw5"
      },
      "source": [
        "# **List**"
      ]
    },
    {
      "cell_type": "code",
      "metadata": {
        "id": "_H8A2_BlU-sA"
      },
      "source": [
        "l = [1,2,3,4,5]\n",
        "\n",
        "print(len(l)) "
      ],
      "execution_count": null,
      "outputs": []
    },
    {
      "cell_type": "code",
      "metadata": {
        "id": "8QJ_EJHgV1XN"
      },
      "source": [
        "print(l[0])        \n",
        "print(l[1]) "
      ],
      "execution_count": null,
      "outputs": []
    },
    {
      "cell_type": "code",
      "metadata": {
        "id": "9Y3fxTNMVff5"
      },
      "source": [
        "print(l[len(l)-1]) \n",
        "print(l[-1])  "
      ],
      "execution_count": null,
      "outputs": []
    },
    {
      "cell_type": "code",
      "metadata": {
        "id": "k8p_rW55VqeR"
      },
      "source": [
        "l.append(6)       \n",
        "print(l)          \n",
        "item = l.pop()    \n",
        "print(item)       \n",
        "l.append(\"string\")\n",
        "print(l) "
      ],
      "execution_count": null,
      "outputs": []
    },
    {
      "cell_type": "code",
      "source": [
        "l2=[88,55,66]"
      ],
      "metadata": {
        "id": "6CvUbEusDZ8H"
      },
      "execution_count": 7,
      "outputs": []
    },
    {
      "cell_type": "code",
      "source": [
        "l.extend([55,74])\n",
        "l"
      ],
      "metadata": {
        "id": "kDahwCurDaZ0"
      },
      "execution_count": null,
      "outputs": []
    },
    {
      "cell_type": "code",
      "metadata": {
        "id": "pexlYo2mV53s"
      },
      "source": [
        "l = [10,20,30,40,50,60]\n",
        "\n",
        "print(l[1:2])     \n",
        "print(l[1:3])     \n",
        "print(l[0:])      \n",
        "print(l[0:-1])    \n",
        "print(l[:])\n",
        "print (l[3:5])  "
      ],
      "execution_count": null,
      "outputs": []
    },
    {
      "cell_type": "code",
      "metadata": {
        "id": "d2Q8nkCQWDht"
      },
      "source": [
        "b = [1,5,7,2,4,9,11,12]\n",
        "b.sort()\n",
        "print(b) "
      ],
      "execution_count": null,
      "outputs": []
    },
    {
      "cell_type": "code",
      "metadata": {
        "id": "Pbh3ybBBWFWe"
      },
      "source": [
        "b.sort(reverse=True)\n",
        "print(b)"
      ],
      "execution_count": null,
      "outputs": []
    },
    {
      "cell_type": "code",
      "metadata": {
        "id": "66fZNCKxWIJe",
        "colab": {
          "base_uri": "https://localhost:8080/"
        },
        "outputId": "0c82ebe7-491d-4beb-e714-a003187d6ffc"
      },
      "source": [
        "a = [\"dhoni\", \"sachin\", \"warner\", \"abd\"]\n",
        "a.reverse()\n",
        "print(a)"
      ],
      "execution_count": null,
      "outputs": [
        {
          "output_type": "stream",
          "text": [
            "['abd', 'warner', 'sachin', 'dhoni']\n"
          ],
          "name": "stdout"
        }
      ]
    },
    {
      "cell_type": "code",
      "metadata": {
        "id": "10JG8aZVWJ2g"
      },
      "source": [
        "a = [66, 55, 44, 22, 11, 55, 22] \n",
        "print(a.count(0))"
      ],
      "execution_count": null,
      "outputs": []
    },
    {
      "cell_type": "code",
      "source": [
        "11 in a"
      ],
      "metadata": {
        "id": "P0_Jjn8kC7Pw"
      },
      "execution_count": null,
      "outputs": []
    },
    {
      "cell_type": "code",
      "source": [
        "l1=[1,2,5,8,7,4,9,'a','z']"
      ],
      "metadata": {
        "id": "TLxQUkNiDJRy"
      },
      "execution_count": 4,
      "outputs": []
    },
    {
      "cell_type": "code",
      "source": [
        "for i in l1:\n",
        "     print (l1.index(i), i)"
      ],
      "metadata": {
        "id": "Iy4Wwzm_DHmz"
      },
      "execution_count": null,
      "outputs": []
    },
    {
      "cell_type": "code",
      "source": [
        "for i,value in enumerate (l1):\n",
        "     print (i, value)"
      ],
      "metadata": {
        "id": "qxjiddtYDKX9"
      },
      "execution_count": null,
      "outputs": []
    },
    {
      "cell_type": "code",
      "source": [
        "l1 = [1,2,3,4,5,6,7,8,9]"
      ],
      "metadata": {
        "id": "49VOi6FODksV"
      },
      "execution_count": 11,
      "outputs": []
    },
    {
      "cell_type": "code",
      "source": [
        "min(l1)"
      ],
      "metadata": {
        "id": "HtSVmnUdDoN-"
      },
      "execution_count": null,
      "outputs": []
    },
    {
      "cell_type": "code",
      "source": [
        "max(l1)"
      ],
      "metadata": {
        "id": "YwlyO9DFDtqI"
      },
      "execution_count": null,
      "outputs": []
    },
    {
      "cell_type": "code",
      "source": [
        "l1.insert(2,'q')\n",
        "l1"
      ],
      "metadata": {
        "id": "k0MNUSC_DzxQ"
      },
      "execution_count": null,
      "outputs": []
    },
    {
      "cell_type": "code",
      "source": [
        "l1.remove(2)\n",
        "l1"
      ],
      "metadata": {
        "id": "6GxP3LE1D3Ui"
      },
      "execution_count": null,
      "outputs": []
    },
    {
      "cell_type": "code",
      "source": [
        ""
      ],
      "metadata": {
        "id": "1JcqiKv1EEAv"
      },
      "execution_count": null,
      "outputs": []
    },
    {
      "cell_type": "code",
      "source": [
        "b='Artificial Intelligence'\n",
        "c=b.split(' ') \n",
        "c"
      ],
      "metadata": {
        "id": "hJKypQnsEGwd"
      },
      "execution_count": null,
      "outputs": []
    },
    {
      "cell_type": "code",
      "source": [
        "' '.join(c) "
      ],
      "metadata": {
        "colab": {
          "base_uri": "https://localhost:8080/",
          "height": 35
        },
        "id": "q2g8oedYET3j",
        "outputId": "90e7c89e-c1f1-47e7-80e7-50fb719af205"
      },
      "execution_count": 28,
      "outputs": [
        {
          "output_type": "execute_result",
          "data": {
            "text/plain": [
              "'Artificial Intelligence'"
            ],
            "application/vnd.google.colaboratory.intrinsic+json": {
              "type": "string"
            }
          },
          "metadata": {},
          "execution_count": 28
        }
      ]
    },
    {
      "cell_type": "markdown",
      "metadata": {
        "id": "dgEqvF90Ya2R"
      },
      "source": [
        "# **Tuple**"
      ]
    },
    {
      "cell_type": "code",
      "metadata": {
        "id": "Ik0BKAD0YcxO"
      },
      "source": [
        "t = (\"500\", \"200\")\n",
        "\n",
        "print(type(t))\n",
        "\n",
        "print(t[1]) "
      ],
      "execution_count": null,
      "outputs": []
    },
    {
      "cell_type": "code",
      "metadata": {
        "id": "Skx9XKhPYh9u"
      },
      "source": [
        "print(len(t)) \n",
        "print(max(t))\n",
        "print(min(t))"
      ],
      "execution_count": null,
      "outputs": []
    },
    {
      "cell_type": "code",
      "metadata": {
        "id": "lrU0NFW2YoA-"
      },
      "source": [
        "l = [400, 800, 1200]\n",
        "print (type(l))\n",
        "l_to_t = tuple(l)\n",
        "print(type(l_to_t))\n"
      ],
      "execution_count": null,
      "outputs": []
    },
    {
      "cell_type": "markdown",
      "metadata": {
        "id": "Fa9dyO_vZBnI"
      },
      "source": [
        "# **Dictionary**"
      ]
    },
    {
      "cell_type": "code",
      "metadata": {
        "id": "bZFraEweZA9g"
      },
      "source": [
        "d = { \"1\" : \"Captain America\", \n",
        "      \"2\" : \"Ironman\", \n",
        "      \"3\" : \"Thor\"\n",
        "    }"
      ],
      "execution_count": null,
      "outputs": []
    },
    {
      "cell_type": "code",
      "metadata": {
        "id": "3FY5LHRwZJ9N"
      },
      "source": [
        "print(type(d))    \n",
        "print(d[\"1\"])     "
      ],
      "execution_count": null,
      "outputs": []
    },
    {
      "cell_type": "code",
      "metadata": {
        "id": "rpk4UHSCZPgf"
      },
      "source": [
        "for key in d:\n",
        "    print(key)  \n",
        "    print(d[key])"
      ],
      "execution_count": null,
      "outputs": []
    },
    {
      "cell_type": "code",
      "metadata": {
        "id": "Z3EbGJdGZTnN"
      },
      "source": [
        "d[\"2\"] = \"Hulk\"\n",
        "for key, value in d.items():\n",
        "    print(key + \" - \" + value)"
      ],
      "execution_count": null,
      "outputs": []
    },
    {
      "cell_type": "code",
      "metadata": {
        "id": "wgPDloQMZYQ3"
      },
      "source": [
        "d[\"4\"] = \"Thanos\"\n",
        "d[\"2\"] = \"KIT\"\n",
        "\n",
        "print (d.items())\n",
        "d.pop(\"4\")\n",
        "\n",
        "del d[\"2\"]"
      ],
      "execution_count": null,
      "outputs": []
    },
    {
      "cell_type": "markdown",
      "source": [
        "# Set"
      ],
      "metadata": {
        "id": "djYEtWThEha9"
      }
    },
    {
      "cell_type": "code",
      "source": [
        "s1=set()\n",
        "\n",
        "l1=[1,1,1,2,2,1,2,3,4,5]\n",
        "\n",
        "set(l1)"
      ],
      "metadata": {
        "id": "kYtP30uOEgDN"
      },
      "execution_count": null,
      "outputs": []
    }
  ]
}