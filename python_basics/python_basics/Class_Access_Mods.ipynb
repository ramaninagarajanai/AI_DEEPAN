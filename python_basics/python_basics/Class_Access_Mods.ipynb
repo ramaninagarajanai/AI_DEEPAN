{
  "nbformat": 4,
  "nbformat_minor": 0,
  "metadata": {
    "colab": {
      "name": "Class_Access_Mods.ipynb",
      "provenance": [],
      "collapsed_sections": []
    },
    "kernelspec": {
      "name": "python3",
      "display_name": "Python 3"
    },
    "language_info": {
      "name": "python"
    }
  },
  "cells": [
    {
      "cell_type": "markdown",
      "source": [
        "# Public"
      ],
      "metadata": {
        "id": "01f6A2p5wvmp"
      }
    },
    {
      "cell_type": "code",
      "execution_count": 1,
      "metadata": {
        "colab": {
          "base_uri": "https://localhost:8080/"
        },
        "id": "X1Opdzyjt9If",
        "outputId": "64cf8e70-ea1b-43fc-c06e-2f832abde9ac"
      },
      "outputs": [
        {
          "output_type": "stream",
          "name": "stdout",
          "text": [
            "Hello, my name is Deepan\n",
            "He plays Data for living\n"
          ]
        }
      ],
      "source": [
        "# A Sample class with init method\n",
        "class Person:\n",
        "   \n",
        "    # init method or constructor \n",
        "    def __init__(self, name):\n",
        "        self.name = name\n",
        "        self.profession = \"Data\"\n",
        "   \n",
        "    # Sample Method \n",
        "    def say_hi(self):\n",
        "        print('Hello, my name is', self.name)\n",
        "        print('He plays', self.profession, \"for living\")\n",
        "   \n",
        "p = Person('Deepan')\n",
        "p.say_hi()"
      ]
    },
    {
      "cell_type": "markdown",
      "source": [
        "# Private"
      ],
      "metadata": {
        "id": "mXsXUYgXwzMz"
      }
    },
    {
      "cell_type": "code",
      "source": [
        "class Person:\n",
        "\n",
        "    def __init__(self, name):\n",
        "        self.__name = name\n",
        "        self.__profession = \"Data\"\n",
        "\n",
        "    def __say_hi(self):\n",
        "        print('Hello, my name is', self.__name)\n",
        "        print('He plays', self.__profession, \"for living\")\n",
        "    \n",
        "    def access_private(self):\n",
        "      self.__say_hi()\n",
        "   \n",
        "p = Person('Deepan')\n",
        "p.access_private()"
      ],
      "metadata": {
        "id": "JSOQLSGxw1dQ"
      },
      "execution_count": null,
      "outputs": []
    },
    {
      "cell_type": "markdown",
      "source": [
        "#Protected"
      ],
      "metadata": {
        "id": "8-Q4QQ-pxV_b"
      }
    },
    {
      "cell_type": "code",
      "source": [
        "#super class\n",
        "class Person:\n",
        "   \n",
        "    def __init__(self, name):\n",
        "        self._name = name\n",
        "        self._profession = \"Data\"\n",
        "   \n",
        "    def _say_hi(self):\n",
        "        print('Hello, my name is', self._name)\n",
        "        print('He plays', self._profession, \"for living\")\n",
        "\n",
        "#derived class \n",
        "class broker(Person):\n",
        "  def __init__(self, name):\n",
        "    Person.__init__(self, name)\n",
        "\n",
        "  def displayDetails(self):\n",
        "    print(\"Name: \", self._name)\n",
        "    self._say_hi()\n",
        "\n",
        "p = broker('Deepan')\n",
        "p.displayDetails()\n"
      ],
      "metadata": {
        "colab": {
          "base_uri": "https://localhost:8080/"
        },
        "id": "pLLwxw5OxXnJ",
        "outputId": "e383340b-0de0-4471-b73e-3b2c5d3d38c7"
      },
      "execution_count": 5,
      "outputs": [
        {
          "output_type": "stream",
          "name": "stdout",
          "text": [
            "Name:  Deepan\n",
            "Hello, my name is Deepan\n",
            "He plays Data for living\n"
          ]
        }
      ]
    }
  ]
}