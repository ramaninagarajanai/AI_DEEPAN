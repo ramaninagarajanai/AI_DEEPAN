{
  "nbformat": 4,
  "nbformat_minor": 0,
  "metadata": {
    "colab": {
      "name": "Scipy.ipynb",
      "provenance": []
    },
    "kernelspec": {
      "name": "python3",
      "display_name": "Python 3"
    },
    "language_info": {
      "name": "python"
    }
  },
  "cells": [
    {
      "cell_type": "markdown",
      "source": [
        "# Constants"
      ],
      "metadata": {
        "id": "pqdyj1QaXgG2"
      }
    },
    {
      "cell_type": "code",
      "execution_count": null,
      "metadata": {
        "id": "qTUZJC7MPKOc"
      },
      "outputs": [],
      "source": [
        "from scipy import constants\n",
        "\n",
        "print(constants.c)\n",
        "print(constants.G)\n",
        "print(constants.pi)"
      ]
    },
    {
      "cell_type": "code",
      "source": [
        "from scipy.constants import find  \n",
        "find('boltzmann')"
      ],
      "metadata": {
        "id": "MFGF0ZDKRIVF"
      },
      "execution_count": null,
      "outputs": []
    },
    {
      "cell_type": "code",
      "source": [
        "print(constants.kibi)    \n",
        "print(constants.mebi)   \n",
        "print(constants.gibi)    \n",
        "print(constants.tebi) "
      ],
      "metadata": {
        "id": "KLDftFfERzbH"
      },
      "execution_count": null,
      "outputs": []
    },
    {
      "cell_type": "code",
      "source": [
        "print(constants.minute)     \n",
        "print(constants.hour)       \n",
        "print(constants.day)         \n",
        "print(constants.week)        \n",
        "print(constants.year) "
      ],
      "metadata": {
        "id": "kP47q_3gSH0u"
      },
      "execution_count": null,
      "outputs": []
    },
    {
      "cell_type": "markdown",
      "source": [
        "# Non Linear root"
      ],
      "metadata": {
        "id": "5d1RsMIWXjY8"
      }
    },
    {
      "cell_type": "code",
      "source": [
        "from scipy.optimize import root\n",
        "from math import cos\n",
        "\n",
        "def eqn(x):\n",
        "  return x + cos(x)\n",
        "\n",
        "myroot = root(eqn, 0)\n",
        "\n",
        "print(myroot.x)"
      ],
      "metadata": {
        "id": "umZQoskFSOw5"
      },
      "execution_count": null,
      "outputs": []
    },
    {
      "cell_type": "markdown",
      "source": [
        "# Sparse Data"
      ],
      "metadata": {
        "id": "Y4GJzXApXmEB"
      }
    },
    {
      "cell_type": "code",
      "source": [
        "from scipy.sparse import csr_matrix\n",
        "\n",
        "arr = np.array([0, 0, 0, 0, 0, 1, 1, 0, 2])\n",
        "\n",
        "print(csr_matrix(arr))"
      ],
      "metadata": {
        "id": "J03V7CtqS1Pw"
      },
      "execution_count": null,
      "outputs": []
    },
    {
      "cell_type": "markdown",
      "source": [
        "# Triangulation"
      ],
      "metadata": {
        "id": "HLqbsYuKXoav"
      }
    },
    {
      "cell_type": "code",
      "source": [
        "from scipy.spatial import Delaunay\n",
        "import matplotlib.pyplot as plt\n",
        "\n",
        "points = np.array([\n",
        "  [2, 4],\n",
        "  [3, 4],\n",
        "  [3, 0],\n",
        "  [2, 2],\n",
        "  [4, 1]\n",
        "])\n",
        "\n",
        "simplices = Delaunay(points).simplices\n",
        "\n",
        "print(simplices)\n",
        "\n",
        "plt.triplot(points[:, 0], points[:, 1], simplices)\n",
        "plt.scatter(points[:, 0], points[:, 1], color='r')\n",
        "\n",
        "plt.show()"
      ],
      "metadata": {
        "id": "E9ayArdyWy89"
      },
      "execution_count": null,
      "outputs": []
    },
    {
      "cell_type": "markdown",
      "source": [
        "# Nearest Neighbour"
      ],
      "metadata": {
        "id": "C4D_lmaVXrPk"
      }
    },
    {
      "cell_type": "code",
      "source": [
        "from scipy.spatial import KDTree\n",
        "\n",
        "points = [(1, -1), (2, 3), (-2, 3), (2, -3)]\n",
        "\n",
        "kdtree = KDTree(points)\n",
        "\n",
        "res = kdtree.query((1, 1))\n",
        "\n",
        "print(res)"
      ],
      "metadata": {
        "id": "SGMhDmcpXbK7"
      },
      "execution_count": null,
      "outputs": []
    },
    {
      "cell_type": "markdown",
      "source": [
        "# Find distance"
      ],
      "metadata": {
        "id": "T93mqwXpXxFH"
      }
    },
    {
      "cell_type": "code",
      "source": [
        "from scipy.spatial.distance import euclidean\n",
        "\n",
        "p1 = (1, 0)\n",
        "p2 = (10, 2)\n",
        "\n",
        "res = euclidean(p1, p2)\n",
        "\n",
        "print(res)"
      ],
      "metadata": {
        "id": "zu_V0BC8XfH8"
      },
      "execution_count": null,
      "outputs": []
    },
    {
      "cell_type": "markdown",
      "source": [
        "# Manhattan Distance"
      ],
      "metadata": {
        "id": "iXcNda3kYQ9z"
      }
    },
    {
      "cell_type": "code",
      "source": [
        "from scipy.spatial.distance import cityblock\n",
        "\n",
        "p1 = (1, 0)\n",
        "p2 = (10, 2)\n",
        "\n",
        "res = cityblock(p1, p2)\n",
        "\n",
        "print(res)"
      ],
      "metadata": {
        "id": "sGuTh6ZMYQjj"
      },
      "execution_count": null,
      "outputs": []
    },
    {
      "cell_type": "code",
      "source": [
        "import scipy.misc\n",
        "import matplotlib.pyplot as plt\n",
        "face = scipy.misc.face()#returns an image of raccoon\n",
        "plt.imshow(face)\n",
        "plt.show()"
      ],
      "metadata": {
        "id": "-uxlTRELZH4t"
      },
      "execution_count": null,
      "outputs": []
    }
  ]
}