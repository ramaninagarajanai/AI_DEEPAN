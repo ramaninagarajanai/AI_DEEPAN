{
  "nbformat": 4,
  "nbformat_minor": 0,
  "metadata": {
    "colab": {
      "name": "Conditions_Loops.ipynb",
      "provenance": [],
      "collapsed_sections": []
    },
    "kernelspec": {
      "name": "python3",
      "display_name": "Python 3"
    }
  },
  "cells": [
    {
      "cell_type": "markdown",
      "metadata": {
        "id": "cgYdMC57SEoV"
      },
      "source": [
        "# **Conditions**"
      ]
    },
    {
      "cell_type": "code",
      "source": [
        "val = 5\n",
        "\n",
        "if val:\n",
        "     print (\"Expected Value\")\n",
        "else:\n",
        "     print (\"Unexpected Value\")"
      ],
      "metadata": {
        "id": "Yv6nk1kyAxFL"
      },
      "execution_count": null,
      "outputs": []
    },
    {
      "cell_type": "code",
      "metadata": {
        "id": "B_j3Bj_dSRIZ"
      },
      "source": [
        "Ticket_to_Mars = 5\n",
        "if (Ticket_to_Mars == 0):\n",
        "\tprint(\"Sadly No can Go to Mars\")\n",
        "elif (Ticket_to_Mars <= 2):\n",
        "  if (Ticket_to_Mars == 1):\n",
        "    print(\"Only you can got to Mars\")\n",
        "  else:\n",
        "    print (\"You and Your Partnet can go to Mars!\")\n",
        "else:\n",
        "    print(str(Ticket_to_Mars) + \" Members can go to Mars\")"
      ],
      "execution_count": null,
      "outputs": []
    },
    {
      "cell_type": "markdown",
      "source": [
        "# While Loop"
      ],
      "metadata": {
        "id": "Nrp1Z4o5A2YK"
      }
    },
    {
      "cell_type": "code",
      "source": [
        "count = 0\n",
        "while count < 5:\n",
        "   print (count, \" is  less than 5\")\n",
        "   count = count + 1\n",
        "else:\n",
        "   print (count, \" is not less than 5\")"
      ],
      "metadata": {
        "id": "ypO4VBOPAulF"
      },
      "execution_count": null,
      "outputs": []
    },
    {
      "cell_type": "code",
      "metadata": {
        "id": "4CACqcmHSdKf"
      },
      "source": [
        "c = 0\n",
        "while (c < 10): \n",
        "    print(c,end='')\n",
        "    c += 1"
      ],
      "execution_count": null,
      "outputs": []
    },
    {
      "cell_type": "markdown",
      "source": [
        "# Range"
      ],
      "metadata": {
        "id": "9FdwM2MkBhLx"
      }
    },
    {
      "cell_type": "code",
      "source": [
        "a = list(range(10))\n",
        "a"
      ],
      "metadata": {
        "id": "QhQtbvxcBmXj"
      },
      "execution_count": null,
      "outputs": []
    },
    {
      "cell_type": "code",
      "source": [
        "a = list(range (1,10))\n",
        "a"
      ],
      "metadata": {
        "id": "Ghw6HrrYBy71"
      },
      "execution_count": null,
      "outputs": []
    },
    {
      "cell_type": "code",
      "source": [
        "a = list(range (1,10,2))\n",
        "a"
      ],
      "metadata": {
        "id": "UrAJ11H1B8Ej"
      },
      "execution_count": null,
      "outputs": []
    },
    {
      "cell_type": "markdown",
      "source": [
        "# For Loop"
      ],
      "metadata": {
        "id": "ZLcRoBBfBJ6A"
      }
    },
    {
      "cell_type": "code",
      "metadata": {
        "id": "EWz7Ava5ShEP"
      },
      "source": [
        "numbers = [1, 2, 4]\n",
        "#for (i=0;i<len(numbers);i++)\n",
        "\n",
        "for x in numbers:\n",
        "    print(x)"
      ],
      "execution_count": null,
      "outputs": []
    },
    {
      "cell_type": "code",
      "metadata": {
        "id": "rSbvVM3KSktI"
      },
      "source": [
        "x = 5\n",
        "for c in range(x):  # for (i=0,i<5,i++)\n",
        "    print(c)"
      ],
      "execution_count": null,
      "outputs": []
    },
    {
      "cell_type": "code",
      "metadata": {
        "id": "7mcD7TCxSn9N"
      },
      "source": [
        "for c in range (0,10,2):  #for (i=1,i<10,i+2)\n",
        "\tprint (c)"
      ],
      "execution_count": null,
      "outputs": []
    },
    {
      "cell_type": "code",
      "metadata": {
        "id": "8de_MxqvSq5h"
      },
      "source": [
        "for c in range (10,0,-2):\n",
        "\tprint (c)"
      ],
      "execution_count": null,
      "outputs": []
    },
    {
      "cell_type": "markdown",
      "source": [
        "# Random"
      ],
      "metadata": {
        "id": "i_hxfF5KBd0r"
      }
    },
    {
      "cell_type": "code",
      "source": [
        "import random"
      ],
      "metadata": {
        "id": "l1jaag_hCByH"
      },
      "execution_count": 16,
      "outputs": []
    },
    {
      "cell_type": "code",
      "source": [
        "random.randint(0, 5)"
      ],
      "metadata": {
        "id": "3M38HlmQCD15"
      },
      "execution_count": null,
      "outputs": []
    },
    {
      "cell_type": "code",
      "source": [
        "random.random() * 100"
      ],
      "metadata": {
        "id": "0yysGUx_CFhg"
      },
      "execution_count": null,
      "outputs": []
    },
    {
      "cell_type": "code",
      "source": [
        "random.choice( ['red', 'black', 'green'] )"
      ],
      "metadata": {
        "id": "soIsM_sHCLKI"
      },
      "execution_count": null,
      "outputs": []
    },
    {
      "cell_type": "code",
      "source": [
        "for i in range(3):\n",
        "    print (random.randrange(0, 101, 5))"
      ],
      "metadata": {
        "id": "7thKgxb9BfpT"
      },
      "execution_count": null,
      "outputs": []
    },
    {
      "cell_type": "code",
      "source": [
        "from random import shuffle\n",
        "x = [1,2,3,4,5,6,7,8,9]\n",
        "shuffle(x)\n",
        "x"
      ],
      "metadata": {
        "id": "a_Yb1AOECSqy"
      },
      "execution_count": null,
      "outputs": []
    }
  ]
}