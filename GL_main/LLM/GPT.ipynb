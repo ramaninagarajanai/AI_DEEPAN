{
  "nbformat": 4,
  "nbformat_minor": 0,
  "metadata": {
    "colab": {
      "provenance": []
    },
    "kernelspec": {
      "name": "python3",
      "display_name": "Python 3"
    },
    "language_info": {
      "name": "python"
    }
  },
  "cells": [
    {
      "cell_type": "code",
      "source": [
        "!pip install transformers -q"
      ],
      "metadata": {
        "id": "u7rVpIDJg9u9"
      },
      "execution_count": 1,
      "outputs": []
    },
    {
      "cell_type": "code",
      "execution_count": null,
      "metadata": {
        "id": "Q6976Vkkg8S5"
      },
      "outputs": [],
      "source": [
        "\n",
        "from transformers import AutoTokenizer, AutoModelForCausalLM\n",
        "import torch\n",
        "\n",
        "tok = AutoTokenizer.from_pretrained(\"gpt2\")\n",
        "model = AutoModelForCausalLM.from_pretrained(\"gpt2\")\n",
        "prompt = \"Explain transformers to a 12-year-old:\"\n",
        "inputs = tok(prompt, return_tensors=\"pt\")\n",
        "out = model.generate(**inputs, max_length=120, do_sample=True, top_p=0.9, temperature=0.8)\n",
        "print(tok.decode(out[0], skip_special_tokens=True))"
      ]
    },
    {
      "cell_type": "code",
      "source": [
        "from transformers import AutoTokenizer, AutoModelForCausalLM\n",
        "tok = AutoTokenizer.from_pretrained(\"gpt2-xl\")\n",
        "model = AutoModelForCausalLM.from_pretrained(\"gpt2-xl\")\n",
        "\n",
        "prompt = \"\"\"Translate English to French:\n",
        "English: Good morning\n",
        "French: Bonjour\n",
        "\n",
        "English: How are you?\n",
        "French: Comment ça va ?\n",
        "\n",
        "English: I love machine learning\n",
        "French:\"\"\"\n",
        "inputs = tok(prompt, return_tensors=\"pt\")\n",
        "out = model.generate(**inputs, max_length=200, temperature=0.7, top_p=0.95)\n",
        "print(tok.decode(out[0], skip_special_tokens=True))"
      ],
      "metadata": {
        "id": "5j50JfS8hKZO"
      },
      "execution_count": null,
      "outputs": []
    }
  ]
}