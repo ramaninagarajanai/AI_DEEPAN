{
  "nbformat": 4,
  "nbformat_minor": 0,
  "metadata": {
    "colab": {
      "provenance": []
    },
    "kernelspec": {
      "name": "python3",
      "display_name": "Python 3"
    },
    "language_info": {
      "name": "python"
    }
  },
  "cells": [
    {
      "cell_type": "code",
      "source": [
        "# Install Hugging Face transformers if not already\n",
        "!pip install transformers"
      ],
      "metadata": {
        "id": "btrYRjNPXOOM"
      },
      "execution_count": null,
      "outputs": []
    },
    {
      "cell_type": "code",
      "source": [
        "from transformers import BertTokenizer, BertForMaskedLM\n",
        "import torch"
      ],
      "metadata": {
        "id": "bTxyEjhlXPA3"
      },
      "execution_count": 21,
      "outputs": []
    },
    {
      "cell_type": "code",
      "source": [
        "# 1. Load pretrained BERT + official vocab\n",
        "tokenizer = BertTokenizer.from_pretrained(\"bert-base-uncased\")\n",
        "model = BertForMaskedLM.from_pretrained(\"bert-base-uncased\")\n",
        "\n",
        "mask_token = tokenizer.mask_token   # \"[MASK]\"\n",
        "mask_token_id = tokenizer.mask_token_id\n",
        "print(\"Mask token:\", mask_token, \"| ID:\", mask_token_id)"
      ],
      "metadata": {
        "id": "m02w708GXQ11"
      },
      "execution_count": null,
      "outputs": []
    },
    {
      "cell_type": "code",
      "source": [
        "# 2. Function to predict masked token(s)\n",
        "def predict_masked_tokens(text, top_k=5):\n",
        "    # Encode text\n",
        "    inputs = tokenizer(text, return_tensors=\"pt\")\n",
        "    input_ids = inputs[\"input_ids\"]\n",
        "\n",
        "    # Ensure [MASK] exists\n",
        "    if mask_token_id not in input_ids:\n",
        "        return f\"⚠️ No {mask_token} token found in: {text}\"\n",
        "\n",
        "    # Forward pass\n",
        "    with torch.no_grad():\n",
        "        outputs = model(**inputs)\n",
        "        predictions = outputs.logits\n",
        "\n",
        "    # Find mask positions\n",
        "    mask_positions = (input_ids == mask_token_id).nonzero(as_tuple=True)[1]\n",
        "\n",
        "    results = []\n",
        "    for pos in mask_positions:\n",
        "        probs = predictions[0, pos].softmax(dim=0)\n",
        "        top_tokens = torch.topk(probs, top_k)\n",
        "        tokens = [tokenizer.decode([i]) for i in top_tokens.indices]\n",
        "        scores = [round(float(s), 4) for s in top_tokens.values]\n",
        "        results.append(list(zip(tokens, scores)))\n",
        "\n",
        "    return results\n"
      ],
      "metadata": {
        "id": "z6h0j_xlXVyg"
      },
      "execution_count": 23,
      "outputs": []
    },
    {
      "cell_type": "code",
      "source": [
        "\n",
        "examples = [\n",
        "    \"The capital of France is [MASK].\",\n",
        "    \"Tesla is building a [MASK] robot.\",\n",
        "    \"Football legend Messi joined [MASK].\"\n",
        "]\n",
        "\n",
        "for ex in examples:\n",
        "    print(f\"\\nInput: {ex}\")\n",
        "    print(\"Predictions:\", predict_masked_tokens(ex))"
      ],
      "metadata": {
        "id": "UQeoX-suXc8E"
      },
      "execution_count": null,
      "outputs": []
    }
  ]
}