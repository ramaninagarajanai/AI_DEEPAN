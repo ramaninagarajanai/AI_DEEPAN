{
 "cells": [
  {
   "cell_type": "code",
   "execution_count": 1,
   "metadata": {},
   "outputs": [],
   "source": [
    "from langchain_community.document_loaders import PDFPlumberLoader\n",
    "from langchain_experimental.text_splitter import SemanticChunker\n",
    "from langchain_community.embeddings import HuggingFaceEmbeddings\n",
    "from langchain_community.vectorstores import FAISS"
   ]
  },
  {
   "cell_type": "code",
   "execution_count": 2,
   "metadata": {},
   "outputs": [
    {
     "name": "stdout",
     "output_type": "stream",
     "text": [
      "Number of pages in the PDF: 3\n"
     ]
    },
    {
     "data": {
      "text/plain": [
       "'\\uf0b7 Warm Lemon Water: Drink on an empty stomach to stimulate digestion.\\n\\uf0b7 Flaxseeds: Soak overnight and consume in the morning for fiber intake.\\n\\uf0b7 Aloe Vera Juice: Helps in smooth bowel movements.\\n2.6 Skin Problems (Acne, Dry Skin, Sunburn)\\n\\uf0b7 Aloe Vera Gel: Apply fresh aloe vera gel to reduce acne and soothe burns.\\n\\uf0b7 Coconut Oil: Moisturizes dry skin and prevents infections.\\n\\uf0b7 Cucumber & Honey Face Pack: Hydrates skin and reduces irritation.\\n2.7 Joint Pain & Inflammation\\n\\uf0b7 Turmeric & Black Pepper: Mix 1 tsp turmeric with a pinch of black pepper in warm\\nmilk. Reduces inflammation.\\n\\uf0b7 Epsom Salt Bath: Soak in warm water with Epsom salt for muscle relaxation.\\n\\uf0b7 Ginger Tea: Acts as a natural pain reliever.\\n2.8 Insomnia (Sleep Issues)\\n\\uf0b7 Chamomile Tea: Calms the mind and promotes sleep.\\n\\uf0b7 Warm Milk & Nutmeg: Drink before bed to improve sleep quality.\\n\\uf0b7 Lavender Essential Oil: Diffuse in the bedroom to relax the mind.\\n3. Healthy Lifestyle Tips\\n3.1 Balanced Diet\\n\\uf0b7 Eat whole foods, including fruits, vegetables, whole grains, and lean proteins.\\n\\uf0b7 Reduce processed foods, sugar, and unhealthy fats.\\n\\uf0b7 Drink 8-10 glasses of water daily to stay hydrated.\\n3.2 Regular Exercise\\n\\uf0b7 Aim for 30 minutes of physical activity daily (walking, yoga, strength training).\\n\\uf0b7 Stretch to improve flexibility and reduce muscle stiffness.\\n\\uf0b7 Engage in outdoor activities for fresh air and vitamin D.\\n3.3 Stress Management\\n\\uf0b7 Practice deep breathing exercises.\\n\\uf0b7 Meditate for 10-15 minutes daily to calm the mind.\\n\\uf0b7 Engage in hobbies like gardening, reading, or painting.\\n'"
      ]
     },
     "execution_count": 2,
     "metadata": {},
     "output_type": "execute_result"
    }
   ],
   "source": [
    "loader = PDFPlumberLoader(r\"D:\\Petramount\\Courses\\AI\\LLM\\Basic_Home_Remedies.pdf\")\n",
    "docs = loader.load()\n",
    "\n",
    "# Check the number of pages\n",
    "print(\"Number of pages in the PDF:\",len(docs))\n",
    "\n",
    "# Load the random page content\n",
    "docs[1].page_content"
   ]
  },
  {
   "cell_type": "code",
   "execution_count": 3,
   "metadata": {},
   "outputs": [
    {
     "name": "stderr",
     "output_type": "stream",
     "text": [
      "c:\\Users\\deepa\\.conda\\envs\\rag\\lib\\site-packages\\tqdm\\auto.py:21: TqdmWarning: IProgress not found. Please update jupyter and ipywidgets. See https://ipywidgets.readthedocs.io/en/stable/user_install.html\n",
      "  from .autonotebook import tqdm as notebook_tqdm\n"
     ]
    }
   ],
   "source": [
    "text_splitter = SemanticChunker(HuggingFaceEmbeddings())\n",
    "documents = text_splitter.split_documents(docs)"
   ]
  },
  {
   "cell_type": "code",
   "execution_count": 4,
   "metadata": {},
   "outputs": [
    {
     "name": "stdout",
     "output_type": "stream",
     "text": [
      "Number of chunks created:  7\n",
      "Basic Home Remedies & Healthy Lifestyle\n",
      "Guide\n",
      "1. Introduction\n",
      "Home remedies have been used for centuries to treat common ailments using natural ingredients. Combined with a healthy lifestyle, these remedies can support overall well-being and disease\n",
      "prevention. 2. Home Remedies for Common Ailments\n",
      "2.1 Cold & Flu\n",
      " Ginger Tea: Boil ginger slices in water, add honey and lemon. Helps relieve congestion\n",
      "and sore throat.  Turmeric Milk: Mix 1 tsp turmeric in warm milk. Acts as an anti-inflammatory and\n",
      "boosts immunity.  Steam Inhalation: Boil water, add eucalyptus oil, and inhale steam to clear nasal\n",
      "congestion. 2.2 Cough\n",
      " Honey & Lemon: Mix 1 tbsp honey with warm water and lemon juice. Soothes the\n",
      "throat and reduces cough.  Tulsi (Holy Basil) Tea: Boil tulsi leaves in water and drink. Helps with respiratory\n",
      "issues. 2.3 Headache\n",
      " Peppermint Oil: Apply a few drops on the temples for relief.  Ginger Paste: Make a paste of ginger and water, apply on forehead. Reduces headache\n",
      "symptoms.  Hydration: Drink plenty of water, as dehydration is a common cause of headaches. 2.4 Indigestion & Acidity\n",
      " Fennel Seeds: Chew fennel seeds after meals to aid digestion.\n"
     ]
    }
   ],
   "source": [
    "print(\"Number of chunks created: \", len(documents))\n",
    "\n",
    "print(documents[0].page_content)"
   ]
  },
  {
   "cell_type": "code",
   "execution_count": 5,
   "metadata": {},
   "outputs": [],
   "source": [
    "from langchain.text_splitter import RecursiveCharacterTextSplitter\n",
    "\n",
    "text_splitter = RecursiveCharacterTextSplitter(\n",
    "    chunk_size=500,       # size of each chunk\n",
    "    chunk_overlap=50,     # overlap between chunks\n",
    "    separators=[\"\\n\\n\", \"\\n\", \".\", \" \", \"\"]  # fallback hierarchy\n",
    ")\n",
    "\n",
    "documents = text_splitter.split_documents(docs)"
   ]
  },
  {
   "cell_type": "code",
   "execution_count": null,
   "metadata": {},
   "outputs": [],
   "source": [
    "print(\"Number of chunks created: \", len(documents))\n",
    "\n",
    "print(documents[0].page_content)"
   ]
  },
  {
   "cell_type": "code",
   "execution_count": 5,
   "metadata": {},
   "outputs": [],
   "source": [
    "# Instantiate the embedding model\n",
    "embedder = HuggingFaceEmbeddings()\n",
    "\n",
    "# Create the vector store \n",
    "vector = FAISS.from_documents(documents, embedder)\n",
    "retriever = vector.as_retriever(search_type=\"similarity\", search_kwargs={\"k\": 1})"
   ]
  },
  {
   "cell_type": "code",
   "execution_count": null,
   "metadata": {},
   "outputs": [],
   "source": [
    "# from langchain_community.llms import Ollama\n",
    "\n",
    "# llm = Ollama(model=\"llama3.2:1b\")"
   ]
  },
  {
   "cell_type": "code",
   "execution_count": null,
   "metadata": {},
   "outputs": [],
   "source": [
    "from langchain.chat_models import ChatOpenAI\n",
    "from langchain.schema import AIMessage, HumanMessage, SystemMessage\n",
    "\n",
    "llm = ChatOpenAI(openai_api_base = \"http://localhost:1234/v1\", openai_api_key = \"lm_studio\", model = \"qwen3-0.6b\")\n",
    "\n"
   ]
  },
  {
   "cell_type": "code",
   "execution_count": null,
   "metadata": {},
   "outputs": [],
   "source": [
    "# 2. If you don't know the answer, just say that \"I don't know\" but don't make up an answer on your own.\\n"
   ]
  },
  {
   "cell_type": "code",
   "execution_count": 7,
   "metadata": {},
   "outputs": [],
   "source": [
    "from langchain.chains import RetrievalQA\n",
    "from langchain.chains.llm import LLMChain\n",
    "from langchain.chains.combine_documents.stuff import StuffDocumentsChain\n",
    "from langchain.prompts import PromptTemplate\n",
    "\n",
    "prompt = \"\"\"\n",
    "1. You are doctor\n",
    "2. Use the following pieces of context to answer the question at the end.\n",
    "3. Answer only by using the context and articulate it better, use bullet point and emoji if required\n",
    "4. Keep the answer crisp and limited to 3,4 sentences.\n",
    "\n",
    "Context: {context}\n",
    "\n",
    "Question: {question}\n",
    "\n",
    "Answer to the question:\"\"\"\n",
    "\n",
    "\n",
    "QA_CHAIN_PROMPT = PromptTemplate.from_template(prompt) \n",
    "\n",
    "llm_chain = LLMChain(\n",
    "                  llm=llm, \n",
    "                  prompt=QA_CHAIN_PROMPT, \n",
    "                  callbacks=None, \n",
    "                  verbose=True)\n",
    "\n",
    "document_prompt = PromptTemplate(\n",
    "    input_variables=[\"page_content\", \"source\"],\n",
    "    template=\"Context:\\ncontent:{page_content}\\nsource:{source}\",\n",
    ")\n",
    "\n",
    "combine_documents_chain = StuffDocumentsChain(\n",
    "                  llm_chain=llm_chain,\n",
    "                  document_variable_name=\"context\",\n",
    "                  document_prompt=document_prompt,\n",
    "                  callbacks=None,\n",
    "              )\n",
    "\n",
    "qa = RetrievalQA(\n",
    "                  combine_documents_chain=combine_documents_chain,\n",
    "                  verbose=True,\n",
    "                  retriever=retriever,\n",
    "                  return_source_documents=True,\n",
    "              )"
   ]
  },
  {
   "cell_type": "code",
   "execution_count": null,
   "metadata": {},
   "outputs": [],
   "source": [
    "print(qa(\"remedy for cough?\")[\"result\"])"
   ]
  }
 ],
 "metadata": {
  "kernelspec": {
   "display_name": "rag",
   "language": "python",
   "name": "python3"
  },
  "language_info": {
   "codemirror_mode": {
    "name": "ipython",
    "version": 3
   },
   "file_extension": ".py",
   "mimetype": "text/x-python",
   "name": "python",
   "nbconvert_exporter": "python",
   "pygments_lexer": "ipython3",
   "version": "3.9.21"
  }
 },
 "nbformat": 4,
 "nbformat_minor": 2
}
