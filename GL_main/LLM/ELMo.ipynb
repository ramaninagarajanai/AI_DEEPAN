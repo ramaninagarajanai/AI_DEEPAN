{
  "nbformat": 4,
  "nbformat_minor": 0,
  "metadata": {
    "colab": {
      "provenance": []
    },
    "kernelspec": {
      "name": "python3",
      "display_name": "Python 3"
    },
    "language_info": {
      "name": "python"
    }
  },
  "cells": [
    {
      "cell_type": "code",
      "execution_count": 1,
      "metadata": {
        "id": "w5RB-Vu1M-0Z"
      },
      "outputs": [],
      "source": [
        "import tensorflow as tf\n",
        "import tensorflow_hub as hub\n",
        "import numpy as np\n",
        "from sklearn.metrics.pairwise import cosine_similarity\n"
      ]
    },
    {
      "cell_type": "code",
      "source": [
        "# --- Step 1: Load the Pre-trained ELMo model ---\n",
        "\n",
        "print(\"Loading ELMo model...\")\n",
        "\n",
        "elmo_model_url = \"https://tfhub.dev/google/elmo/3\"\n",
        "elmo_layer = hub.KerasLayer(elmo_model_url, trainable=False, dtype=tf.string, signature='default', signature_outputs_as_dict=True)\n",
        "print(\"ELMo model loaded successfully! ✅\")"
      ],
      "metadata": {
        "id": "KtyuBA2GNEii"
      },
      "execution_count": null,
      "outputs": []
    },
    {
      "cell_type": "code",
      "source": [
        "# --- Step 2: Define Sentences with the same word (\"bank\") in different contexts ---\n",
        "sentences = [\n",
        "    \"I went to the river bank to fish.\", # Context 1: \"bank\" as in geography\n",
        "    \"I need to go to the bank to withdraw money.\" # Context 2: \"bank\" as in finance\n",
        "]"
      ],
      "metadata": {
        "id": "VNV0d8H8NIcK"
      },
      "execution_count": 3,
      "outputs": []
    },
    {
      "cell_type": "code",
      "source": [
        "# --- Step 3: Get the ELMo Embeddings ---\n",
        "# The model expects a list of strings.\n",
        "# The output is a dictionary.\n",
        "# The shape of the output tensor will be: (number_of_sentences, max_sentence_length, 1024)\n",
        "elmo_outputs = elmo_layer(tf.constant(sentences))\n",
        "elmo_embeddings = elmo_outputs['elmo']\n",
        "\n",
        "print(f\"\\nShape of the output embeddings tensor: {elmo_embeddings.shape}\")"
      ],
      "metadata": {
        "id": "p6wQMwQcNPEf"
      },
      "execution_count": null,
      "outputs": []
    },
    {
      "cell_type": "code",
      "source": [
        "# --- Step 4: Extract the vector for the word \"bank\" from each sentence ---\n",
        "\n",
        "\n",
        "# Sentence 1: \"I went to the river bank to fish.\" -> \"bank\" is the 5th word (index 4)\n",
        "bank_vec_1 = elmo_embeddings[0, 4, :]\n",
        "\n",
        "# Sentence 2: \"I need to go to the bank to withdraw money.\" -> \"bank\" is the 6th word (index 5)\n",
        "bank_vec_2 = elmo_embeddings[1, 5, :]\n",
        "\n",
        "# Let's also get the vector for \"river\" to compare\n",
        "river_vec = elmo_embeddings[0, 3, :]"
      ],
      "metadata": {
        "id": "4AE80DxANQmh"
      },
      "execution_count": 5,
      "outputs": []
    },
    {
      "cell_type": "code",
      "source": [
        "# --- Step 5: Compare the vectors using Cosine Similarity ---\n",
        "# Cosine similarity measures the cosine of the angle between two vectors.\n",
        "# A value of 1 means they are identical. A value of 0 means they are orthogonal (unrelated).\n",
        "\n",
        "# Reshape vectors for the function (it expects 2D arrays)\n",
        "bank_vec_1_reshaped = bank_vec_1.numpy().reshape(1, -1)\n",
        "bank_vec_2_reshaped = bank_vec_2.numpy().reshape(1, -1)\n",
        "river_vec_reshaped = river_vec.numpy().reshape(1, -1)\n",
        "\n",
        "# Compare the two \"bank\" vectors\n",
        "similarity_banks = cosine_similarity(bank_vec_1_reshaped, bank_vec_2_reshaped)[0][0]\n",
        "\n",
        "# Compare \"bank\" (from sentence 1) with \"river\"\n",
        "similarity_bank_river = cosine_similarity(bank_vec_1_reshaped, river_vec_reshaped)[0][0]\n",
        "\n"
      ],
      "metadata": {
        "id": "eQkcyz1GNDKL"
      },
      "execution_count": 6,
      "outputs": []
    },
    {
      "cell_type": "code",
      "source": [
        "\n",
        "# --- Step 6: Print the results ---\n",
        "print(\"\\n--- Cosine Similarity Results ---\")\n",
        "print(f\"Similarity between 'bank' (river context) and 'bank' (money context): {similarity_banks:.4f}\")\n",
        "print(f\"Similarity between 'bank' (river context) and 'river': {similarity_bank_river:.4f}\")"
      ],
      "metadata": {
        "id": "C9u26I3POFYA"
      },
      "execution_count": null,
      "outputs": []
    }
  ]
}