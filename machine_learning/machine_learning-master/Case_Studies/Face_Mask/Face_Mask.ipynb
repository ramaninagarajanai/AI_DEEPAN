{
  "nbformat": 4,
  "nbformat_minor": 0,
  "metadata": {
    "colab": {
      "name": "Face_Mask.ipynb",
      "provenance": [],
      "include_colab_link": true
    },
    "kernelspec": {
      "name": "python3",
      "display_name": "Python 3"
    }
  },
  "cells": [
    {
      "cell_type": "markdown",
      "metadata": {
        "id": "view-in-github",
        "colab_type": "text"
      },
      "source": [
        "<a href=\"https://colab.research.google.com/github/deepanrajm/machine_learning/blob/master/Case_Studies/Face_Mask/Face_Mask.ipynb\" target=\"_parent\"><img src=\"https://colab.research.google.com/assets/colab-badge.svg\" alt=\"Open In Colab\"/></a>"
      ]
    },
    {
      "cell_type": "markdown",
      "metadata": {
        "id": "wGXxEuyfJdMG"
      },
      "source": [
        "# **Face mask Detection**"
      ]
    },
    {
      "cell_type": "code",
      "metadata": {
        "id": "3OGIIBuDEUVH"
      },
      "source": [
        "!git clone https://github.com/deepanrajm/machine_learning.git"
      ],
      "execution_count": null,
      "outputs": []
    },
    {
      "cell_type": "code",
      "metadata": {
        "id": "yDqG0k3RTcku"
      },
      "source": [
        "!pip install opencv-python==3.4.3.18"
      ],
      "execution_count": null,
      "outputs": []
    },
    {
      "cell_type": "code",
      "metadata": {
        "id": "kZzChaosAOkI"
      },
      "source": [
        "from skimage import feature\n",
        "from sklearn.model_selection import train_test_split\n",
        "from sklearn.metrics import classification_report\n",
        "from sklearn.ensemble import RandomForestClassifier\n",
        "from imutils import paths\n",
        "import cv2\n",
        "import numpy as np\n",
        "import pickle as cPickle\n",
        "from google.colab.patches import cv2_imshow"
      ],
      "execution_count": null,
      "outputs": []
    },
    {
      "cell_type": "code",
      "metadata": {
        "id": "iMgKozTqFCtH"
      },
      "source": [
        "def LBPH(image, eps=1e-7):\n",
        "\n",
        "\t\tlbp = feature.local_binary_pattern(image, numPoints,\n",
        "\t\t\tradius, method=\"uniform\")\n",
        "\t\t(hist, _) = np.histogram(lbp.ravel(),\n",
        "\t\t\tbins=np.arange(0, numPoints + 3),\n",
        "\t\t\trange=(0, numPoints + 2))\n",
        "  \n",
        "\t\thist = hist.astype(\"float\")\n",
        "\t\thist /= (hist.sum() + eps)\n",
        "\n",
        "\t\treturn hist"
      ],
      "execution_count": null,
      "outputs": []
    },
    {
      "cell_type": "code",
      "metadata": {
        "id": "2urxbJ_uFHCv"
      },
      "source": [
        "numPoints = 24\n",
        "radius = 8\n",
        "detector = cv2.CascadeClassifier(\"machine_learning/Case_Studies/Face_Mask/haarcascade_frontalface_default.xml\")\n",
        "\n",
        "data = []\n",
        "labels = []"
      ],
      "execution_count": null,
      "outputs": []
    },
    {
      "cell_type": "code",
      "metadata": {
        "id": "ahZt54cpFysa"
      },
      "source": [
        "for imagePath in paths.list_images(\"machine_learning/Case_Studies/Face_Mask/data/Train\"):\n",
        "\timage = cv2.imread(imagePath)\n",
        "\tprint (imagePath)\n",
        "\tgray = cv2.cvtColor(image, cv2.COLOR_BGR2GRAY)\n",
        "\tfaceRects = detector.detectMultiScale(gray, scaleFactor=1.05, minNeighbors=5, minSize=(30, 30), flags=cv2.CASCADE_SCALE_IMAGE)\n",
        "\tif len(faceRects)>0:\t\n",
        "\t\tfor (x, y, w, h) in faceRects:\n",
        "\t\t\tface_img = gray[y:y+h,x:x+w]\n",
        "\t\t\thist = LBPH(face_img)\n",
        "\t\t\tlabels.append(imagePath.split(\"/\")[-2])\n",
        "\t\t\tdata.append(hist)"
      ],
      "execution_count": null,
      "outputs": []
    },
    {
      "cell_type": "code",
      "metadata": {
        "id": "iFIsOgv1F6Km"
      },
      "source": [
        "model = RandomForestClassifier(n_estimators=20, random_state=42)\n",
        "model.fit(data, labels)\n",
        "f = open(\"classifier.cPickle\", \"wb\")\n",
        "f.write(cPickle.dumps(model))\n",
        "f.close()"
      ],
      "execution_count": null,
      "outputs": []
    },
    {
      "cell_type": "code",
      "metadata": {
        "id": "AO6BND2VF__2"
      },
      "source": [
        "loaded_model = cPickle.load(open(\"classifier.cPickle\", 'rb'))"
      ],
      "execution_count": null,
      "outputs": []
    },
    {
      "cell_type": "code",
      "metadata": {
        "id": "7BqLTnk8GCX1"
      },
      "source": [
        "for imagePath in paths.list_images(\"machine_learning/Case_Studies/Face_Mask/data/val\"):\n",
        "\timage = cv2.imread(imagePath)\n",
        "\tgray = cv2.cvtColor(image, cv2.COLOR_BGR2GRAY)\n",
        "\tfaceRects = detector.detectMultiScale(gray, scaleFactor=1.05, minNeighbors=5, minSize=(30, 30), flags=cv2.CASCADE_SCALE_IMAGE)\n",
        "\tif len(faceRects)>0:\n",
        "\t\tfor (x, y, w, h) in faceRects:\n",
        "\t\t\tface_img = gray[y:y+h,x:x+w]\n",
        "\t\t\tcv2.rectangle(image, (x, y), (x + w, y + h), (255,0, 0), 3)\n",
        "\t\t\thist = LBPH(face_img)\n",
        "\t\t\tprediction = loaded_model.predict(hist.reshape(1, -1))[0]\n",
        "\t\t\tcv2.putText(image, prediction, (10, 30), cv2.FONT_HERSHEY_SIMPLEX,1.0, (0, 0, 255), 3)\n",
        "\t\t\tcv2_imshow(image)"
      ],
      "execution_count": null,
      "outputs": []
    }
  ]
}