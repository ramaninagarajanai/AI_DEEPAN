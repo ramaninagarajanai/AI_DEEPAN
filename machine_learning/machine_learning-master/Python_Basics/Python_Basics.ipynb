{
  "nbformat": 4,
  "nbformat_minor": 0,
  "metadata": {
    "colab": {
      "name": "Untitled14.ipynb",
      "provenance": [],
      "collapsed_sections": []
    },
    "kernelspec": {
      "name": "python3",
      "display_name": "Python 3"
    }
  },
  "cells": [
    {
      "cell_type": "markdown",
      "metadata": {
        "id": "mBgNudPIPwvk"
      },
      "source": [
        "# **Hello World in Python!**"
      ]
    },
    {
      "cell_type": "code",
      "metadata": {
        "id": "WBzyGTIcPodV",
        "outputId": "9ff9b283-d943-477d-c743-3dbbc55f625b",
        "colab": {
          "base_uri": "https://localhost:8080/"
        }
      },
      "source": [
        "print(\"Hello World how are you?\")\n",
        "# This a is a comment"
      ],
      "execution_count": 11,
      "outputs": [
        {
          "output_type": "stream",
          "text": [
            "Hello World how are you?\n"
          ],
          "name": "stdout"
        }
      ]
    },
    {
      "cell_type": "markdown",
      "metadata": {
        "id": "ElXqPGUsQeW3"
      },
      "source": [
        "# **Datatype**"
      ]
    },
    {
      "cell_type": "code",
      "metadata": {
        "id": "KHr3dSAlQaXk",
        "outputId": "e935eeda-f954-4651-ffea-8fd72aaf73fe",
        "colab": {
          "base_uri": "https://localhost:8080/"
        }
      },
      "source": [
        "a = 12\n",
        "print(a)       \n",
        "print(type(a))"
      ],
      "execution_count": 12,
      "outputs": [
        {
          "output_type": "stream",
          "text": [
            "12\n",
            "<class 'int'>\n"
          ],
          "name": "stdout"
        }
      ]
    },
    {
      "cell_type": "code",
      "metadata": {
        "id": "3E-c8ymwQyuR",
        "outputId": "08a3ceba-5059-4bcb-f0bf-8aea6ede6bc3",
        "colab": {
          "base_uri": "https://localhost:8080/"
        }
      },
      "source": [
        "b = 1.7\n",
        "print(b)       \n",
        "print(type(b))"
      ],
      "execution_count": 13,
      "outputs": [
        {
          "output_type": "stream",
          "text": [
            "1.7\n",
            "<class 'float'>\n"
          ],
          "name": "stdout"
        }
      ]
    },
    {
      "cell_type": "code",
      "metadata": {
        "id": "lLLgBaYNQ3Bp",
        "outputId": "41324d65-bd56-44d7-9372-e5cf988fc98c",
        "colab": {
          "base_uri": "https://localhost:8080/"
        }
      },
      "source": [
        "c = \"Python\"\n",
        "print(c)       \n",
        "print(type(c))"
      ],
      "execution_count": 14,
      "outputs": [
        {
          "output_type": "stream",
          "text": [
            "Python\n",
            "<class 'str'>\n"
          ],
          "name": "stdout"
        }
      ]
    },
    {
      "cell_type": "code",
      "metadata": {
        "id": "c1HVwJj3Q6_c",
        "outputId": "a967677d-e34f-4e95-b171-2bb3ecef3feb",
        "colab": {
          "base_uri": "https://localhost:8080/"
        }
      },
      "source": [
        "d = True\n",
        "print(d)\n",
        "print(type(d))"
      ],
      "execution_count": 15,
      "outputs": [
        {
          "output_type": "stream",
          "text": [
            "True\n",
            "<class 'bool'>\n"
          ],
          "name": "stdout"
        }
      ]
    },
    {
      "cell_type": "code",
      "metadata": {
        "id": "pfASQU9UQ-UN",
        "outputId": "42f70596-a8f7-4244-97b6-9a686c2a3e1b",
        "colab": {
          "base_uri": "https://localhost:8080/"
        }
      },
      "source": [
        "a, b, c = 1, 2, 3\n",
        "a, b, c = 1, 3.5, \"hello\"\n",
        "print(type(a))\n",
        "print(type(b)) \n",
        "print(type(c))"
      ],
      "execution_count": 16,
      "outputs": [
        {
          "output_type": "stream",
          "text": [
            "<class 'int'>\n",
            "<class 'float'>\n",
            "<class 'str'>\n"
          ],
          "name": "stdout"
        }
      ]
    },
    {
      "cell_type": "markdown",
      "metadata": {
        "id": "r_7fd7J2Rr9f"
      },
      "source": [
        "# **Math Operation**"
      ]
    },
    {
      "cell_type": "code",
      "metadata": {
        "id": "mpIoTifoRxVT",
        "outputId": "5e3b91fb-a4a4-43e4-ae97-ccbc03bcb2f2",
        "colab": {
          "base_uri": "https://localhost:8080/"
        }
      },
      "source": [
        "a = 10\n",
        "print(a + 1)  \n",
        "print(a - 1)  \n",
        "print(a * 2)  \n",
        "print(a / 2)  \n",
        "print(a ** 2)"
      ],
      "execution_count": 17,
      "outputs": [
        {
          "output_type": "stream",
          "text": [
            "11\n",
            "9\n",
            "20\n",
            "5.0\n",
            "100\n"
          ],
          "name": "stdout"
        }
      ]
    },
    {
      "cell_type": "code",
      "metadata": {
        "id": "scwoueSfR4fv",
        "outputId": "8c74e72c-c59d-45ec-912c-67c25416b956",
        "colab": {
          "base_uri": "https://localhost:8080/"
        }
      },
      "source": [
        "x = True\n",
        "y = False\n",
        "print(x and y)  \n",
        "print(x or y)   \n",
        "print(not x)    \n",
        "print(x & y)"
      ],
      "execution_count": 18,
      "outputs": [
        {
          "output_type": "stream",
          "text": [
            "False\n",
            "True\n",
            "False\n",
            "False\n"
          ],
          "name": "stdout"
        }
      ]
    },
    {
      "cell_type": "markdown",
      "metadata": {
        "id": "cgYdMC57SEoV"
      },
      "source": [
        "# **Conditions**"
      ]
    },
    {
      "cell_type": "code",
      "metadata": {
        "id": "RVRiE8P6SHcO"
      },
      "source": [
        "Ticket_to_Mars = 5"
      ],
      "execution_count": 25,
      "outputs": []
    },
    {
      "cell_type": "code",
      "metadata": {
        "id": "B_j3Bj_dSRIZ"
      },
      "source": [
        "if (Ticket_to_Mars == 0):\n",
        "\tprint(\"Sadly No can Go to Mars\")\n",
        "elif (Ticket_to_Mars <= 2):\n",
        "  if (Ticket_to_Mars == 1):\n",
        "    print(\"Only you can got to Mars\")\n",
        "  else:\n",
        "    print (\"You and Your Partnet can go to Mars!\")\n",
        "else:\n",
        "    print(str(Ticket_to_Mars) + \" Members can go to Mars\")"
      ],
      "execution_count": null,
      "outputs": []
    },
    {
      "cell_type": "markdown",
      "metadata": {
        "id": "zLConAy4Sag4"
      },
      "source": [
        "# **Loops**"
      ]
    },
    {
      "cell_type": "code",
      "metadata": {
        "id": "4CACqcmHSdKf"
      },
      "source": [
        "c = 0\n",
        "while (c < 10): \n",
        "    print(c,end='')\n",
        "    c += 1"
      ],
      "execution_count": null,
      "outputs": []
    },
    {
      "cell_type": "code",
      "metadata": {
        "id": "EWz7Ava5ShEP"
      },
      "source": [
        "numbers = [1, 2, 4]\n",
        "#for (i=0;i<len(numbers);i++)\n",
        "\n",
        "for x in numbers:\n",
        "    print(x)"
      ],
      "execution_count": null,
      "outputs": []
    },
    {
      "cell_type": "code",
      "metadata": {
        "id": "rSbvVM3KSktI"
      },
      "source": [
        "x = 5\n",
        "for c in range(x):  # for (i=0,i<5,i++)\n",
        "    print(c)"
      ],
      "execution_count": null,
      "outputs": []
    },
    {
      "cell_type": "code",
      "metadata": {
        "id": "7mcD7TCxSn9N"
      },
      "source": [
        "for c in range (0,10,2):  #for (i=1,i<10,i+2)\n",
        "\tprint (c)"
      ],
      "execution_count": null,
      "outputs": []
    },
    {
      "cell_type": "code",
      "metadata": {
        "id": "8de_MxqvSq5h"
      },
      "source": [
        "for c in range (10,0,-2):\n",
        "\tprint (c)"
      ],
      "execution_count": null,
      "outputs": []
    },
    {
      "cell_type": "markdown",
      "metadata": {
        "id": "7x9D9GhpT2-h"
      },
      "source": [
        "# **String**"
      ]
    },
    {
      "cell_type": "code",
      "metadata": {
        "id": "rvvtaPr0UGOB"
      },
      "source": [
        "a = \"Python\"\n",
        "b = \" is python awesome!\"\n",
        "\n",
        "print(len(a))                        \n",
        "print(len(b)) "
      ],
      "execution_count": null,
      "outputs": []
    },
    {
      "cell_type": "code",
      "metadata": {
        "id": "bE9CvWxCUL7l"
      },
      "source": [
        "print(a + b)                         \n",
        "print(a, b)                          "
      ],
      "execution_count": null,
      "outputs": []
    },
    {
      "cell_type": "code",
      "metadata": {
        "id": "SqZgtovnUfm8"
      },
      "source": [
        "print(\"this is a {} this is b {}\".format(a, b))          \n",
        "print(\"%s%s\" % (a, b))               "
      ],
      "execution_count": null,
      "outputs": []
    },
    {
      "cell_type": "code",
      "metadata": {
        "id": "1_JAiZveUssF"
      },
      "source": [
        "print(a.upper())                    \n",
        "print(a.lower())  "
      ],
      "execution_count": null,
      "outputs": []
    },
    {
      "cell_type": "code",
      "metadata": {
        "id": "wxr3LchHUx16"
      },
      "source": [
        "print(b.strip())                     \n",
        "print(b.replace(\"awesome\", \"great\"))"
      ],
      "execution_count": null,
      "outputs": []
    },
    {
      "cell_type": "code",
      "metadata": {
        "id": "G_7otd7zT15a"
      },
      "source": [
        "if a in b:\n",
        "\tprint (\"True\")\n",
        "else:\n",
        "\tprint (\"false\")"
      ],
      "execution_count": null,
      "outputs": []
    },
    {
      "cell_type": "markdown",
      "metadata": {
        "id": "BuTeInlbVYw5"
      },
      "source": [
        "# **List**"
      ]
    },
    {
      "cell_type": "code",
      "metadata": {
        "id": "_H8A2_BlU-sA"
      },
      "source": [
        "l = [1,2,3,4,5]\n",
        "\n",
        "print(len(l)) "
      ],
      "execution_count": null,
      "outputs": []
    },
    {
      "cell_type": "code",
      "metadata": {
        "id": "8QJ_EJHgV1XN"
      },
      "source": [
        "print(l[0])        \n",
        "print(l[1]) "
      ],
      "execution_count": null,
      "outputs": []
    },
    {
      "cell_type": "code",
      "metadata": {
        "id": "9Y3fxTNMVff5"
      },
      "source": [
        "print(l[len(l)-1]) \n",
        "print(l[-1])  "
      ],
      "execution_count": null,
      "outputs": []
    },
    {
      "cell_type": "code",
      "metadata": {
        "id": "k8p_rW55VqeR"
      },
      "source": [
        "l.append(6)       \n",
        "print(l)          \n",
        "item = l.pop()    \n",
        "print(item)       \n",
        "l.append(\"string\")\n",
        "print(l) "
      ],
      "execution_count": null,
      "outputs": []
    },
    {
      "cell_type": "code",
      "metadata": {
        "id": "pexlYo2mV53s"
      },
      "source": [
        "l = [10,20,30,40,50,60]\n",
        "\n",
        "print(l[1:2])     \n",
        "print(l[1:3])     \n",
        "print(l[0:])      \n",
        "print(l[0:-1])    \n",
        "print(l[:])\n",
        "print (l[3:5])  "
      ],
      "execution_count": null,
      "outputs": []
    },
    {
      "cell_type": "code",
      "metadata": {
        "id": "d2Q8nkCQWDht"
      },
      "source": [
        "b = [1,5,7,2,4,9,11,12]\n",
        "b.sort()\n",
        "print(b) "
      ],
      "execution_count": null,
      "outputs": []
    },
    {
      "cell_type": "code",
      "metadata": {
        "id": "Pbh3ybBBWFWe"
      },
      "source": [
        "b.sort(reverse=True)\n",
        "print(b)"
      ],
      "execution_count": null,
      "outputs": []
    },
    {
      "cell_type": "code",
      "metadata": {
        "id": "66fZNCKxWIJe",
        "colab": {
          "base_uri": "https://localhost:8080/"
        },
        "outputId": "0c82ebe7-491d-4beb-e714-a003187d6ffc"
      },
      "source": [
        "a = [\"dhoni\", \"sachin\", \"warner\", \"abd\"]\n",
        "a.reverse()\n",
        "print(a)"
      ],
      "execution_count": null,
      "outputs": [
        {
          "output_type": "stream",
          "text": [
            "['abd', 'warner', 'sachin', 'dhoni']\n"
          ],
          "name": "stdout"
        }
      ]
    },
    {
      "cell_type": "code",
      "metadata": {
        "id": "10JG8aZVWJ2g"
      },
      "source": [
        "a = [66, 55, 44, 22, 11, 55, 22] \n",
        "print(a.count(0))"
      ],
      "execution_count": null,
      "outputs": []
    },
    {
      "cell_type": "markdown",
      "metadata": {
        "id": "dgEqvF90Ya2R"
      },
      "source": [
        "# **Tuple**"
      ]
    },
    {
      "cell_type": "code",
      "metadata": {
        "id": "Ik0BKAD0YcxO"
      },
      "source": [
        "t = (\"500\", \"200\")\n",
        "\n",
        "print(type(t))\n",
        "\n",
        "print(t[1]) "
      ],
      "execution_count": null,
      "outputs": []
    },
    {
      "cell_type": "code",
      "metadata": {
        "id": "Skx9XKhPYh9u"
      },
      "source": [
        "print(len(t)) \n",
        "print(max(t))\n",
        "print(min(t))"
      ],
      "execution_count": null,
      "outputs": []
    },
    {
      "cell_type": "code",
      "metadata": {
        "id": "lrU0NFW2YoA-"
      },
      "source": [
        "l = [400, 800, 1200]\n",
        "print (type(l))\n",
        "l_to_t = tuple(l)\n",
        "print(type(l_to_t))\n"
      ],
      "execution_count": null,
      "outputs": []
    },
    {
      "cell_type": "markdown",
      "metadata": {
        "id": "Fa9dyO_vZBnI"
      },
      "source": [
        "# **Dictionary**"
      ]
    },
    {
      "cell_type": "code",
      "metadata": {
        "id": "bZFraEweZA9g"
      },
      "source": [
        "d = { \"1\" : \"Captain America\", \n",
        "      \"2\" : \"Ironman\", \n",
        "      \"3\" : \"Thor\"\n",
        "    }"
      ],
      "execution_count": null,
      "outputs": []
    },
    {
      "cell_type": "code",
      "metadata": {
        "id": "3FY5LHRwZJ9N"
      },
      "source": [
        "print(type(d))    \n",
        "print(d[\"1\"])     "
      ],
      "execution_count": null,
      "outputs": []
    },
    {
      "cell_type": "code",
      "metadata": {
        "id": "rpk4UHSCZPgf"
      },
      "source": [
        "for key in d:\n",
        "    print(key)  \n",
        "    print(d[key])"
      ],
      "execution_count": null,
      "outputs": []
    },
    {
      "cell_type": "code",
      "metadata": {
        "id": "Z3EbGJdGZTnN"
      },
      "source": [
        "d[\"2\"] = \"Hulk\"\n",
        "for key, value in d.items():\n",
        "    print(key + \" - \" + value)"
      ],
      "execution_count": null,
      "outputs": []
    },
    {
      "cell_type": "code",
      "metadata": {
        "id": "wgPDloQMZYQ3"
      },
      "source": [
        "d[\"4\"] = \"Thanos\"\n",
        "d[\"2\"] = \"KIT\"\n",
        "\n",
        "print (d.items())\n",
        "d.pop(\"4\")\n",
        "\n",
        "del d[\"2\"]"
      ],
      "execution_count": null,
      "outputs": []
    },
    {
      "cell_type": "markdown",
      "metadata": {
        "id": "wAz497akagUz"
      },
      "source": [
        "# **Exception Handling**"
      ]
    },
    {
      "cell_type": "code",
      "metadata": {
        "id": "LC_jYmA8ap6f"
      },
      "source": [
        "y =10\n",
        "try:\n",
        "    print (z)\n",
        "    x = y/0\n",
        "except NameError :\n",
        "    print (\"value error\")\n",
        "except Exception as e:\n",
        "    print(\"Something is wrong!\")\n",
        "    print (e)"
      ],
      "execution_count": null,
      "outputs": []
    },
    {
      "cell_type": "code",
      "metadata": {
        "id": "i0eokz3masIT"
      },
      "source": [
        "try:\n",
        "    print(s)\n",
        "except: \n",
        "    print(\"Something is wrong!\")\n",
        "finally:\n",
        "    print(\"Finally always execute after try-except.\")"
      ],
      "execution_count": null,
      "outputs": []
    },
    {
      "cell_type": "markdown",
      "metadata": {
        "id": "pQtyOHQ3a2p5"
      },
      "source": [
        "# **Function**"
      ]
    },
    {
      "cell_type": "code",
      "metadata": {
        "id": "PwuAmvyAa5RN"
      },
      "source": [
        "def squared(x):\n",
        "    y = x*x\n",
        "    print (y)\n",
        "    return y"
      ],
      "execution_count": null,
      "outputs": []
    },
    {
      "cell_type": "code",
      "metadata": {
        "id": "Fq7If5fHa6qg"
      },
      "source": [
        "res = squared(4)\n",
        "print (\"result is\", res )"
      ],
      "execution_count": null,
      "outputs": []
    }
  ]
}