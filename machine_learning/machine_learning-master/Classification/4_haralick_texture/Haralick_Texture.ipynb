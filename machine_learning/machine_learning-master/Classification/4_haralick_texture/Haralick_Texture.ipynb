{
  "nbformat": 4,
  "nbformat_minor": 0,
  "metadata": {
    "colab": {
      "name": "Untitled30.ipynb",
      "provenance": [],
      "include_colab_link": true
    },
    "kernelspec": {
      "name": "python3",
      "display_name": "Python 3"
    }
  },
  "cells": [
    {
      "cell_type": "markdown",
      "metadata": {
        "id": "view-in-github",
        "colab_type": "text"
      },
      "source": [
        "<a href=\"https://colab.research.google.com/github/deepanrajm/machine_learning/blob/master/Classification/4_haralick_texture/Haralick_Texture.ipynb\" target=\"_parent\"><img src=\"https://colab.research.google.com/assets/colab-badge.svg\" alt=\"Open In Colab\"/></a>"
      ]
    },
    {
      "cell_type": "markdown",
      "metadata": {
        "id": "4QQtFO7wBzXt"
      },
      "source": [
        "# **Image Classfication using Texture**"
      ]
    },
    {
      "cell_type": "code",
      "metadata": {
        "id": "-offc0_oB5Z9"
      },
      "source": [
        "!git clone https://github.com/deepanrajm/machine_learning.git"
      ],
      "execution_count": null,
      "outputs": []
    },
    {
      "cell_type": "code",
      "metadata": {
        "id": "ZX7idTXXCW-x"
      },
      "source": [
        "!pip install mahotas"
      ],
      "execution_count": null,
      "outputs": []
    },
    {
      "cell_type": "code",
      "metadata": {
        "id": "SzFhXPhmBvOg"
      },
      "source": [
        "from sklearn.svm import LinearSVC\n",
        "import argparse\n",
        "import mahotas\n",
        "import glob\n",
        "import cv2\n",
        "from sklearn.linear_model import LogisticRegression\n",
        "from google.colab.patches import cv2_imshow"
      ],
      "execution_count": 3,
      "outputs": []
    },
    {
      "cell_type": "code",
      "metadata": {
        "id": "HEATvcJSB7Z1"
      },
      "source": [
        "data = []\n",
        "labels = []"
      ],
      "execution_count": 4,
      "outputs": []
    },
    {
      "cell_type": "markdown",
      "metadata": {
        "id": "Cs1v1Sfzz6fE"
      },
      "source": [
        "**HARALICK TEXTURE**"
      ]
    },
    {
      "cell_type": "markdown",
      "metadata": {
        "id": "0wjDTEZzzxuc"
      },
      "source": [
        "![alt text](https://drive.google.com/uc?id=1wW6kZ9ESBY7hminUlHnlsNDLUol2Fqqk)"
      ]
    },
    {
      "cell_type": "code",
      "metadata": {
        "id": "Cw_oFa0JB_Xf"
      },
      "source": [
        "for imagePath in glob.glob(\"/content/machine_learning/Classification/4_haralick_texture/training\" + \"/*.png\"):\n",
        "\t# load the image, convert it to grayscale, and extract the texture\n",
        "\t# name from the filename\n",
        "\timage = cv2.imread(imagePath)\n",
        "\timage = cv2.cvtColor(image, cv2.COLOR_BGR2GRAY)\n",
        "\ttexture = imagePath[imagePath.rfind(\"/\") + 1:].split(\"_\")[0]\n",
        "\n",
        "\t# extract Haralick texture features in 4 directions, then take the\n",
        "\t# mean of each direction\n",
        "\tfeatures = mahotas.features.haralick(image).mean(axis=0)\n",
        "\n",
        "\t# update the data and labels\n",
        "\tdata.append(features)\n",
        "\tlabels.append(texture)"
      ],
      "execution_count": 9,
      "outputs": []
    },
    {
      "cell_type": "code",
      "metadata": {
        "id": "ECHhAv94Clx4"
      },
      "source": [
        "print(\"[INFO] training model...\")\n",
        "model = LogisticRegression()\n",
        "model.fit(data, labels)\n",
        "print(\"[INFO] classifying...\")"
      ],
      "execution_count": null,
      "outputs": []
    },
    {
      "cell_type": "code",
      "metadata": {
        "id": "mtvX7CbiCo1r"
      },
      "source": [
        "for imagePath in glob.glob(\"/content/machine_learning/Classification/4_haralick_texture/testing\"+ \"/*.png\"):\n",
        "\t# load the image, convert it to grayscale, and extract Haralick\n",
        "\t# texture from the test image\n",
        "\timage = cv2.imread(imagePath)\n",
        "\tgray = cv2.cvtColor(image, cv2.COLOR_BGR2GRAY)\n",
        "\tfeatures = mahotas.features.haralick(gray).mean(axis=0)\n",
        "\n",
        "\t# classify the test image\n",
        "\tpred = model.predict(features.reshape(1, -1))[0]\n",
        "\tcv2.putText(image, pred, (20, 30), cv2.FONT_HERSHEY_SIMPLEX, 1.0,\n",
        "\t\t(0, 255, 0), 3)\n",
        "\n",
        "\t# show the output image\n",
        "\tcv2_imshow(image)"
      ],
      "execution_count": null,
      "outputs": []
    }
  ]
}