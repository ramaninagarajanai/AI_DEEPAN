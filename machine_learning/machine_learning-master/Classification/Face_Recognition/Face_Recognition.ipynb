{
  "nbformat": 4,
  "nbformat_minor": 0,
  "metadata": {
    "colab": {
      "name": "Face_Recognition.ipynb",
      "provenance": [],
      "include_colab_link": true
    },
    "kernelspec": {
      "name": "python3",
      "display_name": "Python 3"
    }
  },
  "cells": [
    {
      "cell_type": "markdown",
      "metadata": {
        "id": "view-in-github",
        "colab_type": "text"
      },
      "source": [
        "<a href=\"https://colab.research.google.com/github/deepanrajm/machine_learning/blob/master/Classification/Face_Recognition/Face_Recognition.ipynb\" target=\"_parent\"><img src=\"https://colab.research.google.com/assets/colab-badge.svg\" alt=\"Open In Colab\"/></a>"
      ]
    },
    {
      "cell_type": "markdown",
      "metadata": {
        "id": "-b6fbXFiAdkv"
      },
      "source": [
        "# **Face Recognition using LBPH**"
      ]
    },
    {
      "cell_type": "markdown",
      "metadata": {
        "id": "ovSki8eYAlL0"
      },
      "source": [
        "![](https://drive.google.com/uc?export=view&id=11Y1L6VxaxAgwms5k0Iaw5NSyGq3nTQjj)"
      ]
    },
    {
      "cell_type": "markdown",
      "metadata": {
        "id": "TMOlagDCD6un"
      },
      "source": [
        "![](https://drive.google.com/uc?export=view&id=1axqiIBOiVbbuyCwTJ31xcxfCsWXvZoe-)"
      ]
    },
    {
      "cell_type": "code",
      "metadata": {
        "id": "3OGIIBuDEUVH",
        "outputId": "bbc5dcd9-e06a-41a4-a4db-83daf6e441ec",
        "colab": {
          "base_uri": "https://localhost:8080/"
        }
      },
      "source": [
        "!git clone https://github.com/deepanrajm/machine_learning.git"
      ],
      "execution_count": 1,
      "outputs": [
        {
          "output_type": "stream",
          "name": "stdout",
          "text": [
            "Cloning into 'machine_learning'...\n",
            "remote: Enumerating objects: 72689, done.\u001b[K\n",
            "remote: Counting objects: 100% (2659/2659), done.\u001b[K\n",
            "remote: Compressing objects: 100% (2511/2511), done.\u001b[K\n",
            "remote: Total 72689 (delta 152), reused 2640 (delta 141), pack-reused 70030\u001b[K\n",
            "Receiving objects: 100% (72689/72689), 122.27 MiB | 23.19 MiB/s, done.\n",
            "Resolving deltas: 100% (154/154), done.\n",
            "Updating files: 100% (5561/5561), done.\n"
          ]
        }
      ]
    },
    {
      "cell_type": "code",
      "metadata": {
        "id": "yDqG0k3RTcku"
      },
      "source": [
        "!pip install opencv-python==3.4.3.18"
      ],
      "execution_count": null,
      "outputs": []
    },
    {
      "cell_type": "code",
      "metadata": {
        "id": "kZzChaosAOkI"
      },
      "source": [
        "from skimage import feature\n",
        "from sklearn.model_selection import train_test_split\n",
        "from sklearn.metrics import classification_report\n",
        "from sklearn.ensemble import RandomForestClassifier\n",
        "from imutils import paths\n",
        "import cv2\n",
        "import numpy as np\n",
        "import pickle as cPickle\n",
        "from google.colab.patches import cv2_imshow"
      ],
      "execution_count": 11,
      "outputs": []
    },
    {
      "cell_type": "code",
      "metadata": {
        "id": "iMgKozTqFCtH"
      },
      "source": [
        "def LBPH(image, eps=1e-7):\n",
        "\n",
        "\t\tlbp = feature.local_binary_pattern(image, numPoints,\n",
        "\t\t\tradius, method=\"uniform\")\n",
        "\t\t(hist, _) = np.histogram(lbp.ravel(),\n",
        "\t\t\tbins=np.arange(0, numPoints + 3),\n",
        "\t\t\trange=(0, numPoints + 2))\n",
        "\n",
        "\t\thist = hist.astype(\"float\")\n",
        "\t\thist /= (hist.sum() + eps)\n",
        "\n",
        "\t\treturn hist"
      ],
      "execution_count": 12,
      "outputs": []
    },
    {
      "cell_type": "code",
      "metadata": {
        "id": "2urxbJ_uFHCv"
      },
      "source": [
        "numPoints = 24\n",
        "radius = 8\n",
        "detector = cv2.CascadeClassifier(\"/content/machine_learning/Classification/Face_Recognition/haarcascade_frontalface_default.xml\")\n",
        "\n",
        "data = []\n",
        "labels = []"
      ],
      "execution_count": 13,
      "outputs": []
    },
    {
      "cell_type": "code",
      "metadata": {
        "id": "ahZt54cpFysa"
      },
      "source": [
        "for imagePath in paths.list_images(\"/content/machine_learning/Classification/Face_Recognition/data/Train\"):\n",
        "\timage = cv2.imread(imagePath)\n",
        "\tprint (imagePath)\n",
        "\tgray = cv2.cvtColor(image, cv2.COLOR_BGR2GRAY)\n",
        "\tfaceRects = detector.detectMultiScale(gray, scaleFactor=1.05, minNeighbors=5, minSize=(30, 30), flags=cv2.CASCADE_SCALE_IMAGE)\n",
        "\tif len(faceRects)>0:\n",
        "\t\tfor (x, y, w, h) in faceRects:\n",
        "\t\t\tface_img = gray[y:y+h,x:x+w]\n",
        "\t\t\thist = LBPH(face_img)\n",
        "\t\t\tlabels.append(imagePath.split(\"/\")[-2])\n",
        "\t\t\tdata.append(hist)"
      ],
      "execution_count": null,
      "outputs": []
    },
    {
      "cell_type": "code",
      "metadata": {
        "id": "iFIsOgv1F6Km"
      },
      "source": [
        "model = RandomForestClassifier(n_estimators=20, random_state=42)\n",
        "model.fit(data, labels)\n",
        "f = open(\"classifier.cPickle\", \"wb\")\n",
        "f.write(cPickle.dumps(model))\n",
        "f.close()"
      ],
      "execution_count": 15,
      "outputs": []
    },
    {
      "cell_type": "code",
      "metadata": {
        "id": "AO6BND2VF__2"
      },
      "source": [
        "loaded_model = cPickle.load(open(\"classifier.cPickle\", 'rb'))"
      ],
      "execution_count": 16,
      "outputs": []
    },
    {
      "cell_type": "code",
      "metadata": {
        "id": "7BqLTnk8GCX1"
      },
      "source": [
        "for imagePath in paths.list_images(\"/content/machine_learning/Classification/Face_Recognition/data/val\"):\n",
        "\timage = cv2.imread(imagePath)\n",
        "\tgray = cv2.cvtColor(image, cv2.COLOR_BGR2GRAY)\n",
        "\tfaceRects = detector.detectMultiScale(gray, scaleFactor=1.05, minNeighbors=5, minSize=(30, 30), flags=cv2.CASCADE_SCALE_IMAGE)\n",
        "\tif len(faceRects)>0:\n",
        "\t\tfor (x, y, w, h) in faceRects:\n",
        "\t\t\tface_img = gray[y:y+h,x:x+w]\n",
        "\t\t\tcv2.rectangle(image, (x, y), (x + w, y + h), (255,0, 0), 3)\n",
        "\t\t\thist = LBPH(face_img)\n",
        "\t\t\tprediction = loaded_model.predict(hist.reshape(1, -1))[0]\n",
        "\t\t\tcv2.putText(image, prediction, (10, 30), cv2.FONT_HERSHEY_SIMPLEX,1.0, (0, 0, 255), 3)\n",
        "\t\t\tcv2_imshow(image)"
      ],
      "execution_count": null,
      "outputs": []
    }
  ]
}