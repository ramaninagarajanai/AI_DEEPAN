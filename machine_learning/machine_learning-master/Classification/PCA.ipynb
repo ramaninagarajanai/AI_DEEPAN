{
  "nbformat": 4,
  "nbformat_minor": 0,
  "metadata": {
    "colab": {
      "provenance": []
    },
    "kernelspec": {
      "name": "python3",
      "display_name": "Python 3"
    },
    "language_info": {
      "name": "python"
    }
  },
  "cells": [
    {
      "cell_type": "code",
      "execution_count": 1,
      "metadata": {
        "id": "Rn-YgceS6qbC"
      },
      "outputs": [],
      "source": [
        "import pandas as pd\n",
        "import numpy as np\n",
        "import matplotlib.pyplot as plt\n",
        "\n",
        "from sklearn.datasets import load_breast_cancer\n",
        "from sklearn.preprocessing import StandardScaler\n",
        "from sklearn.decomposition import PCA\n",
        "\n"
      ]
    },
    {
      "cell_type": "code",
      "source": [
        "cancer = load_breast_cancer(as_frame=True)\n",
        "\n",
        "print(cancer)\n",
        "\n",
        "df = pd.DataFrame(cancer['data'], columns=cancer['feature_names'])\n",
        "print(df)\n",
        "\n",
        "scalar = StandardScaler()\n",
        "scalar.fit(df)\n",
        "\n",
        "scalar_df = scalar.transform(df)\n",
        "\n",
        "print(scalar_df)\n",
        "\n",
        "pca = PCA(n_components=2)\n",
        "pca.fit(scalar_df)\n",
        "\n",
        "x=pca.transform(scalar_df)\n",
        "\n",
        "print(scalar_df.shape)\n",
        "print(x.shape)\n",
        "\n",
        "\n",
        "plt.figure(figsize=(8,6))\n",
        "plt.scatter(x[:,0], x[:,1], c=cancer['target'])\n",
        "plt.xlabel(\"First PC\")\n",
        "plt.xlabel(\"Second PC\")\n",
        "plt.show()"
      ],
      "metadata": {
        "id": "uSXCzS-_6zEt"
      },
      "execution_count": null,
      "outputs": []
    }
  ]
}