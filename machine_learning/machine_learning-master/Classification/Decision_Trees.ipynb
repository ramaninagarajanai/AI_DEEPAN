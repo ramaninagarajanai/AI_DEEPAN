{
  "nbformat": 4,
  "nbformat_minor": 0,
  "metadata": {
    "colab": {
      "name": "Decision_Trees.ipynb",
      "provenance": [],
      "include_colab_link": true
    },
    "kernelspec": {
      "name": "python3",
      "display_name": "Python 3"
    },
    "language_info": {
      "name": "python"
    }
  },
  "cells": [
    {
      "cell_type": "markdown",
      "metadata": {
        "id": "view-in-github",
        "colab_type": "text"
      },
      "source": [
        "<a href=\"https://colab.research.google.com/github/deepanrajm/machine_learning/blob/master/Classification/Decision_Trees.ipynb\" target=\"_parent\"><img src=\"https://colab.research.google.com/assets/colab-badge.svg\" alt=\"Open In Colab\"/></a>"
      ]
    },
    {
      "cell_type": "code",
      "execution_count": null,
      "metadata": {
        "id": "HneWJVi2aPxQ"
      },
      "outputs": [],
      "source": [
        "!git clone https://github.com/deepanrajm/machine_learning.git"
      ]
    },
    {
      "cell_type": "code",
      "source": [
        "from pandas import read_csv\n",
        "import numpy as np\n",
        "import sklearn\n",
        "from sklearn.metrics import classification_report\n",
        "from sklearn.tree import DecisionTreeClassifier\n",
        "from matplotlib import pyplot as plt\n",
        "from sklearn.model_selection import train_test_split\n",
        "from sklearn import tree"
      ],
      "metadata": {
        "id": "RdKPKjEgi55q"
      },
      "execution_count": 2,
      "outputs": []
    },
    {
      "cell_type": "code",
      "source": [
        "dataframe = read_csv(\"machine_learning/Classification/pima-indians-diabetes.csv\",header=None)\n",
        "dataframe.head()"
      ],
      "metadata": {
        "id": "ifgTZYQpjApy"
      },
      "execution_count": null,
      "outputs": []
    },
    {
      "cell_type": "code",
      "source": [
        "dataset = dataframe.values\n",
        "data = dataset[:,0:8].astype(float)\n",
        "labels = dataset[:,8]"
      ],
      "metadata": {
        "id": "goShUhXqmHz5"
      },
      "execution_count": 4,
      "outputs": []
    },
    {
      "cell_type": "code",
      "source": [
        "(trainData, testData, trainLabels, testLabels) = train_test_split(np.array(data),\n",
        "\tnp.array(labels), test_size=0.25, random_state=42)"
      ],
      "metadata": {
        "id": "Wlh5djsbjLsG"
      },
      "execution_count": 5,
      "outputs": []
    },
    {
      "cell_type": "code",
      "source": [
        "#splitter = best, random | max_features = int, auto, log, none | max_depth = int\n",
        "model = DecisionTreeClassifier(random_state=42,criterion='gini',max_features=2, max_depth = 15)"
      ],
      "metadata": {
        "id": "BsOYrJRrjPye"
      },
      "execution_count": 6,
      "outputs": []
    },
    {
      "cell_type": "code",
      "source": [
        "model.fit(trainData, trainLabels)"
      ],
      "metadata": {
        "id": "z9NQKkqEjhw5"
      },
      "execution_count": null,
      "outputs": []
    },
    {
      "cell_type": "code",
      "source": [
        "print(model.score(trainData, trainLabels))"
      ],
      "metadata": {
        "id": "3FF9tYscjlMc"
      },
      "execution_count": null,
      "outputs": []
    },
    {
      "cell_type": "code",
      "source": [
        "print(model.score(testData, testLabels))"
      ],
      "metadata": {
        "id": "rmfDjxVIjnDN"
      },
      "execution_count": null,
      "outputs": []
    },
    {
      "cell_type": "code",
      "source": [
        "predictions = model.predict(testData)"
      ],
      "metadata": {
        "id": "v3xbS0aVjoTi"
      },
      "execution_count": 10,
      "outputs": []
    },
    {
      "cell_type": "code",
      "source": [
        "print(classification_report(testLabels, predictions))"
      ],
      "metadata": {
        "id": "mJsxWe1QjqoP"
      },
      "execution_count": null,
      "outputs": []
    },
    {
      "cell_type": "code",
      "source": [
        "fig = plt.figure(figsize=(45,40))\n",
        "fig = tree.plot_tree(model)\n",
        "plt.show()"
      ],
      "metadata": {
        "id": "XG37pHLBjuIN"
      },
      "execution_count": null,
      "outputs": []
    }
  ]
}