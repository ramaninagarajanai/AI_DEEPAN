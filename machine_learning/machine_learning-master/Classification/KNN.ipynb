{
  "nbformat": 4,
  "nbformat_minor": 0,
  "metadata": {
    "colab": {
      "name": "KNN.ipynb",
      "provenance": [],
      "include_colab_link": true
    },
    "kernelspec": {
      "name": "python3",
      "display_name": "Python 3"
    },
    "language_info": {
      "name": "python"
    }
  },
  "cells": [
    {
      "cell_type": "markdown",
      "metadata": {
        "id": "view-in-github",
        "colab_type": "text"
      },
      "source": [
        "<a href=\"https://colab.research.google.com/github/deepanrajm/machine_learning/blob/master/Classification/KNN.ipynb\" target=\"_parent\"><img src=\"https://colab.research.google.com/assets/colab-badge.svg\" alt=\"Open In Colab\"/></a>"
      ]
    },
    {
      "cell_type": "code",
      "execution_count": null,
      "metadata": {
        "id": "HneWJVi2aPxQ"
      },
      "outputs": [],
      "source": [
        "!git clone https://github.com/deepanrajm/machine_learning.git"
      ]
    },
    {
      "cell_type": "code",
      "source": [
        "from pandas import read_csv\n",
        "import numpy as np\n",
        "import sklearn\n",
        "from sklearn.metrics import classification_report\n",
        "from sklearn.neighbors import KNeighborsClassifier\n",
        "from matplotlib import pyplot as plt\n",
        "from sklearn.model_selection import train_test_split"
      ],
      "metadata": {
        "id": "RdKPKjEgi55q"
      },
      "execution_count": 2,
      "outputs": []
    },
    {
      "cell_type": "code",
      "source": [
        "dataframe = read_csv(\"machine_learning/Classification/iris.csv\")\n",
        "dataframe.head()"
      ],
      "metadata": {
        "id": "ifgTZYQpjApy"
      },
      "execution_count": null,
      "outputs": []
    },
    {
      "cell_type": "code",
      "source": [
        "dataset = dataframe.values\n",
        "data = dataset[:,0:4].astype(float)\n",
        "labels = dataset[:,4]"
      ],
      "metadata": {
        "id": "goShUhXqmHz5"
      },
      "execution_count": 4,
      "outputs": []
    },
    {
      "cell_type": "code",
      "source": [
        "(trainData, testData, trainLabels, testLabels) = train_test_split(np.array(data),\n",
        "\tnp.array(labels), test_size=0.25, random_state=42)"
      ],
      "metadata": {
        "id": "Wlh5djsbjLsG"
      },
      "execution_count": 5,
      "outputs": []
    },
    {
      "cell_type": "code",
      "source": [
        "#weights = uniform, distance\n",
        "model = KNeighborsClassifier(n_neighbors=9,weights='distance')"
      ],
      "metadata": {
        "id": "BsOYrJRrjPye"
      },
      "execution_count": 6,
      "outputs": []
    },
    {
      "cell_type": "code",
      "source": [
        "model.fit(trainData, trainLabels)"
      ],
      "metadata": {
        "id": "z9NQKkqEjhw5"
      },
      "execution_count": null,
      "outputs": []
    },
    {
      "cell_type": "code",
      "source": [
        "print(model.score(trainData, trainLabels))"
      ],
      "metadata": {
        "id": "3FF9tYscjlMc"
      },
      "execution_count": null,
      "outputs": []
    },
    {
      "cell_type": "code",
      "source": [
        "print(model.score(testData, testLabels))"
      ],
      "metadata": {
        "id": "rmfDjxVIjnDN"
      },
      "execution_count": null,
      "outputs": []
    },
    {
      "cell_type": "code",
      "source": [
        "predictions = model.predict(testData)"
      ],
      "metadata": {
        "id": "v3xbS0aVjoTi"
      },
      "execution_count": 10,
      "outputs": []
    },
    {
      "cell_type": "code",
      "source": [
        "print(classification_report(testLabels, predictions))"
      ],
      "metadata": {
        "id": "mJsxWe1QjqoP"
      },
      "execution_count": null,
      "outputs": []
    }
  ]
}