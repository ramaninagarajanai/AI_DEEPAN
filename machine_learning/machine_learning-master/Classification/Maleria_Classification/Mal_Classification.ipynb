{
  "nbformat": 4,
  "nbformat_minor": 0,
  "metadata": {
    "colab": {
      "name": "Face_Recognition.ipynb",
      "provenance": []
    },
    "kernelspec": {
      "name": "python3",
      "display_name": "Python 3"
    }
  },
  "cells": [
    {
      "cell_type": "markdown",
      "metadata": {
        "id": "-b6fbXFiAdkv"
      },
      "source": [
        "# **Malaria Classification**\n",
        "\n"
      ]
    },
    {
      "cell_type": "code",
      "metadata": {
        "id": "3OGIIBuDEUVH"
      },
      "source": [
        "!git clone https://github.com/deepanrajm/machine_learning.git"
      ],
      "execution_count": null,
      "outputs": []
    },
    {
      "cell_type": "code",
      "metadata": {
        "id": "kZzChaosAOkI"
      },
      "source": [
        "from skimage import feature\n",
        "from sklearn.model_selection import train_test_split\n",
        "from sklearn.metrics import classification_report\n",
        "from sklearn.ensemble import RandomForestClassifier\n",
        "from imutils import paths\n",
        "import cv2\n",
        "import numpy as np\n",
        "import pickle as cPickle\n",
        "from google.colab.patches import cv2_imshow"
      ],
      "execution_count": 2,
      "outputs": []
    },
    {
      "cell_type": "code",
      "metadata": {
        "id": "iMgKozTqFCtH"
      },
      "source": [
        "def LBPH(image, eps=1e-7):\n",
        "\n",
        "\t\tlbp = feature.local_binary_pattern(image, numPoints,\n",
        "\t\t\tradius, method=\"uniform\")\n",
        "\t\t(hist, _) = np.histogram(lbp.ravel(),\n",
        "\t\t\tbins=np.arange(0, numPoints + 3),\n",
        "\t\t\trange=(0, numPoints + 2))\n",
        "\n",
        "\t\thist = hist.astype(\"float\")\n",
        "\t\thist /= (hist.sum() + eps)\n",
        "\n",
        "\t\treturn hist"
      ],
      "execution_count": 3,
      "outputs": []
    },
    {
      "cell_type": "code",
      "metadata": {
        "id": "2urxbJ_uFHCv"
      },
      "source": [
        "numPoints = 24\n",
        "radius = 8\n",
        "\n",
        "data = []\n",
        "labels = []"
      ],
      "execution_count": 4,
      "outputs": []
    },
    {
      "cell_type": "code",
      "metadata": {
        "id": "ahZt54cpFysa"
      },
      "source": [
        "for imagePath in paths.list_images(\"/content/machine_learning/Classification/Maleria_Classification\"):\n",
        "\timage = cv2.imread(imagePath)\n",
        "\tprint (imagePath)\n",
        "\tgray = cv2.cvtColor(image, cv2.COLOR_BGR2GRAY)\n",
        "\thist = LBPH(gray)\n",
        "\tlabels.append(imagePath.split(\"/\")[-2])\n",
        "\tdata.append(hist)"
      ],
      "execution_count": null,
      "outputs": []
    },
    {
      "cell_type": "code",
      "source": [
        "(trainData, testData, trainLabels, testLabels) = train_test_split(np.array(data),\n",
        "\tnp.array(labels), test_size=0.25, random_state=42)"
      ],
      "metadata": {
        "id": "r44S4ysicDrD"
      },
      "execution_count": 11,
      "outputs": []
    },
    {
      "cell_type": "code",
      "metadata": {
        "id": "iFIsOgv1F6Km"
      },
      "source": [
        "model = RandomForestClassifier(n_estimators=20, random_state=42)\n",
        "model.fit(trainData, trainLabels)\n",
        "f = open(\"classifier.cPickle\", \"wb\")\n",
        "f.write(cPickle.dumps(model))\n",
        "f.close()"
      ],
      "execution_count": 12,
      "outputs": []
    },
    {
      "cell_type": "code",
      "source": [
        "predictions = model.predict(testData)\n",
        "\n",
        "print(classification_report(testLabels, predictions))"
      ],
      "metadata": {
        "id": "4-imIKhCcbCu"
      },
      "execution_count": null,
      "outputs": []
    },
    {
      "cell_type": "code",
      "metadata": {
        "id": "AO6BND2VF__2"
      },
      "source": [
        "loaded_model = cPickle.load(open(\"classifier.cPickle\", 'rb'))"
      ],
      "execution_count": 7,
      "outputs": []
    },
    {
      "cell_type": "code",
      "metadata": {
        "id": "7BqLTnk8GCX1"
      },
      "source": [
        "imagePath = \"/content/machine_learning/Classification/Maleria_Classification/Uninfected/C3thin_original_IMG_20150608_162835_cell_144.png\"\n",
        "image = cv2.imread(imagePath)\n",
        "gray = cv2.cvtColor(image, cv2.COLOR_BGR2GRAY)\n",
        "hist = LBPH(gray)\n",
        "prediction = loaded_model.predict(hist.reshape(1, -1))[0]\n",
        "cv2.putText(image, prediction, (10, 30), cv2.FONT_HERSHEY_SIMPLEX,0.5, (0, 0, 255), 1)\n",
        "cv2_imshow(image)"
      ],
      "execution_count": null,
      "outputs": []
    }
  ]
}