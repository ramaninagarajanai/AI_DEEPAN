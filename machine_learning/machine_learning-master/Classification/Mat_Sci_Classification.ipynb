{
  "nbformat": 4,
  "nbformat_minor": 0,
  "metadata": {
    "colab": {
      "provenance": []
    },
    "kernelspec": {
      "name": "python3",
      "display_name": "Python 3"
    },
    "language_info": {
      "name": "python"
    }
  },
  "cells": [
    {
      "cell_type": "code",
      "execution_count": null,
      "metadata": {
        "id": "3Ned33bg4UPu"
      },
      "outputs": [],
      "source": [
        "!git clone https://github.com/deepanrajm/machine_learning.git"
      ]
    },
    {
      "cell_type": "code",
      "source": [
        "from pandas import read_csv\n",
        "import numpy as np\n",
        "import sklearn\n",
        "from sklearn.metrics import classification_report\n",
        "from sklearn.svm import SVC\n",
        "from sklearn.tree import DecisionTreeClassifier\n",
        "from sklearn.linear_model import LogisticRegression\n",
        "from sklearn.ensemble import RandomForestClassifier\n",
        "from sklearn.neighbors import KNeighborsClassifier\n",
        "from xgboost import XGBClassifier\n",
        "from sklearn.ensemble import  AdaBoostClassifier, BaggingClassifier\n",
        "from matplotlib import pyplot as plt\n",
        "from sklearn.model_selection import train_test_split\n",
        "from collections import Counter"
      ],
      "metadata": {
        "id": "WY7GTzRy4uk9"
      },
      "execution_count": 28,
      "outputs": []
    },
    {
      "cell_type": "markdown",
      "source": [
        "# Data 1"
      ],
      "metadata": {
        "id": "i-8rL-l3B43M"
      }
    },
    {
      "cell_type": "code",
      "source": [
        "dataframe = read_csv(\"machine_learning/Classification/material.csv\")\n",
        "dataframe.head()"
      ],
      "metadata": {
        "id": "QTjf7tSmB-Pr"
      },
      "execution_count": null,
      "outputs": []
    },
    {
      "cell_type": "code",
      "source": [
        "dataframe.info()"
      ],
      "metadata": {
        "id": "r--bHZtCB-P3"
      },
      "execution_count": null,
      "outputs": []
    },
    {
      "cell_type": "code",
      "source": [
        "dataframe.isnull().any().any()\n",
        "dataframe.isnull().sum().sum()"
      ],
      "metadata": {
        "id": "cg0mWn01B-P3"
      },
      "execution_count": null,
      "outputs": []
    },
    {
      "cell_type": "code",
      "source": [
        "dataset = dataframe.values\n",
        "data = dataset[:,1:7].astype(float)\n",
        "labels = dataset[:,7]"
      ],
      "metadata": {
        "id": "e7alHI_NB-P3"
      },
      "execution_count": 7,
      "outputs": []
    },
    {
      "cell_type": "code",
      "source": [
        "labels = labels.astype(int)"
      ],
      "metadata": {
        "id": "3kVIAIhhCYUv"
      },
      "execution_count": 11,
      "outputs": []
    },
    {
      "cell_type": "code",
      "source": [
        "(trainData, testData, trainLabels, testLabels) = train_test_split(np.array(data),\n",
        "\tnp.array(labels), test_size=0.25, random_state=42)"
      ],
      "metadata": {
        "id": "jJR957T7B-P4"
      },
      "execution_count": 12,
      "outputs": []
    },
    {
      "cell_type": "code",
      "source": [
        "model = SVC(kernel=\"linear\",C=1)\n",
        "model.fit(trainData, trainLabels)"
      ],
      "metadata": {
        "id": "c_S6TSfgB-P4"
      },
      "execution_count": null,
      "outputs": []
    },
    {
      "cell_type": "code",
      "source": [
        "print(model.score(trainData, trainLabels))"
      ],
      "metadata": {
        "id": "U_w8RKpDB-P4"
      },
      "execution_count": null,
      "outputs": []
    },
    {
      "cell_type": "code",
      "source": [
        "print(model.score(testData, testLabels))"
      ],
      "metadata": {
        "id": "PP-97mnHB-P5"
      },
      "execution_count": null,
      "outputs": []
    },
    {
      "cell_type": "code",
      "source": [
        "predictions = model.predict(testData)\n",
        "\n",
        "print(classification_report(testLabels, predictions))"
      ],
      "metadata": {
        "id": "QlDPsNb7B-P5"
      },
      "execution_count": null,
      "outputs": []
    },
    {
      "cell_type": "code",
      "source": [
        "#weights='distance'\n",
        "model = KNeighborsClassifier(n_neighbors=9,weights='uniform')\n",
        "model.fit(trainData, trainLabels)\n",
        "\n",
        "print(model.score(trainData, trainLabels))\n",
        "predictions = model.predict(testData)\n",
        "\n",
        "print(classification_report(testLabels, predictions))\n"
      ],
      "metadata": {
        "id": "RRVg0C1VB-P5"
      },
      "execution_count": null,
      "outputs": []
    },
    {
      "cell_type": "code",
      "source": [
        "#penality = l1,l2, elasticnet\n",
        "#solver = liblinear, sag, saga, lbfgs, newton-cg\n",
        "#max-iter = 100\n",
        "\n",
        "model = LogisticRegression(max_iter=150,solver = 'liblinear')\n",
        "model.fit(trainData, trainLabels)\n",
        "\n",
        "print(model.score(trainData, trainLabels))\n",
        "predictions = model.predict(testData)\n",
        "\n",
        "print(classification_report(testLabels, predictions))"
      ],
      "metadata": {
        "id": "A2I5A3W0B-P5"
      },
      "execution_count": null,
      "outputs": []
    },
    {
      "cell_type": "code",
      "source": [
        "\n",
        "#splitter = best, random | max_features = int, auto, log, none | max_depth = int\n",
        "model = DecisionTreeClassifier(random_state=42)#,criterion='gini',max_features=2, max_depth = 15)\n",
        "model.fit(trainData, trainLabels)\n",
        "\n",
        "print(model.score(trainData, trainLabels))\n",
        "predictions = model.predict(testData)\n",
        "\n",
        "print(classification_report(testLabels, predictions))"
      ],
      "metadata": {
        "id": "qhOtHcwqB-P5"
      },
      "execution_count": null,
      "outputs": []
    },
    {
      "cell_type": "code",
      "source": [
        "#splitter = best, random | max_features = int, auto, log, none | max_depth = int\n",
        "model = RandomForestClassifier(n_estimators=30, random_state=42)#,criterion='gini',max_depth=10)\n",
        "model.fit(trainData, trainLabels)\n",
        "\n",
        "print(model.score(trainData, trainLabels))\n",
        "predictions = model.predict(testData)\n",
        "\n",
        "print(classification_report(testLabels, predictions))"
      ],
      "metadata": {
        "id": "87krOoGSB-P6"
      },
      "execution_count": null,
      "outputs": []
    },
    {
      "cell_type": "code",
      "source": [
        "model = BaggingClassifier(n_estimators=10)\n",
        "model.fit(trainData, trainLabels)\n",
        "\n",
        "print(model.score(trainData, trainLabels))\n",
        "predictions = model.predict(testData)\n",
        "\n",
        "print(classification_report(testLabels, predictions))"
      ],
      "metadata": {
        "id": "qpGgep1QDb5Z"
      },
      "execution_count": null,
      "outputs": []
    },
    {
      "cell_type": "code",
      "source": [
        "model = AdaBoostClassifier()\n",
        "model.fit(trainData, trainLabels)\n",
        "\n",
        "print(model.score(trainData, trainLabels))\n",
        "predictions = model.predict(testData)\n",
        "\n",
        "print(classification_report(testLabels, predictions))"
      ],
      "metadata": {
        "id": "l3raqz3bB-P6"
      },
      "execution_count": null,
      "outputs": []
    },
    {
      "cell_type": "code",
      "source": [
        "model = XGBClassifier()\n",
        "model.fit(trainData, trainLabels)\n",
        "\n",
        "print(model.score(trainData, trainLabels))\n",
        "predictions = model.predict(testData)\n",
        "\n",
        "print(classification_report(testLabels, predictions))\n"
      ],
      "metadata": {
        "id": "pavYJUMGB-P7"
      },
      "execution_count": null,
      "outputs": []
    },
    {
      "cell_type": "markdown",
      "source": [
        "# Data 2"
      ],
      "metadata": {
        "id": "DBHyWsHCCG59"
      }
    },
    {
      "cell_type": "code",
      "source": [
        "dataframe = read_csv(\"machine_learning/Classification/Cleaned_Metalearning.csv\")\n",
        "dataframe.head()"
      ],
      "metadata": {
        "colab": {
          "base_uri": "https://localhost:8080/",
          "height": 206
        },
        "id": "XKIilQ344veB",
        "outputId": "1865528e-4b54-443c-cbc3-fa6e2c74db6e"
      },
      "execution_count": 32,
      "outputs": [
        {
          "output_type": "execute_result",
          "data": {
            "text/plain": [
              "   Unnamed: 0  Atomic Radius(Atomic unit)  Expansion Coefficient  \\\n",
              "0         0.0                        1.20                  0.000   \n",
              "1         1.0                        1.32                  0.006   \n",
              "2         2.0                        1.33                  0.008   \n",
              "3         3.0                        1.34                  0.008   \n",
              "4         4.0                        1.32                  0.008   \n",
              "\n",
              "   Electron Affinity(-ive)  Conductivity  Yield Strength  Outcome  \n",
              "0                     73.0          1.20     1213.355372      2.0  \n",
              "1                     17.0         21.84      136.809524      1.0  \n",
              "2                     16.0         28.14      179.362319      1.0  \n",
              "3                     16.0         55.20       57.607167      1.0  \n",
              "4                     16.0         47.76       59.913043      1.0  "
            ],
            "text/html": [
              "\n",
              "  <div id=\"df-fd4c0b60-8082-405f-8779-99b409e46ca7\" class=\"colab-df-container\">\n",
              "    <div>\n",
              "<style scoped>\n",
              "    .dataframe tbody tr th:only-of-type {\n",
              "        vertical-align: middle;\n",
              "    }\n",
              "\n",
              "    .dataframe tbody tr th {\n",
              "        vertical-align: top;\n",
              "    }\n",
              "\n",
              "    .dataframe thead th {\n",
              "        text-align: right;\n",
              "    }\n",
              "</style>\n",
              "<table border=\"1\" class=\"dataframe\">\n",
              "  <thead>\n",
              "    <tr style=\"text-align: right;\">\n",
              "      <th></th>\n",
              "      <th>Unnamed: 0</th>\n",
              "      <th>Atomic Radius(Atomic unit)</th>\n",
              "      <th>Expansion Coefficient</th>\n",
              "      <th>Electron Affinity(-ive)</th>\n",
              "      <th>Conductivity</th>\n",
              "      <th>Yield Strength</th>\n",
              "      <th>Outcome</th>\n",
              "    </tr>\n",
              "  </thead>\n",
              "  <tbody>\n",
              "    <tr>\n",
              "      <th>0</th>\n",
              "      <td>0.0</td>\n",
              "      <td>1.20</td>\n",
              "      <td>0.000</td>\n",
              "      <td>73.0</td>\n",
              "      <td>1.20</td>\n",
              "      <td>1213.355372</td>\n",
              "      <td>2.0</td>\n",
              "    </tr>\n",
              "    <tr>\n",
              "      <th>1</th>\n",
              "      <td>1.0</td>\n",
              "      <td>1.32</td>\n",
              "      <td>0.006</td>\n",
              "      <td>17.0</td>\n",
              "      <td>21.84</td>\n",
              "      <td>136.809524</td>\n",
              "      <td>1.0</td>\n",
              "    </tr>\n",
              "    <tr>\n",
              "      <th>2</th>\n",
              "      <td>2.0</td>\n",
              "      <td>1.33</td>\n",
              "      <td>0.008</td>\n",
              "      <td>16.0</td>\n",
              "      <td>28.14</td>\n",
              "      <td>179.362319</td>\n",
              "      <td>1.0</td>\n",
              "    </tr>\n",
              "    <tr>\n",
              "      <th>3</th>\n",
              "      <td>3.0</td>\n",
              "      <td>1.34</td>\n",
              "      <td>0.008</td>\n",
              "      <td>16.0</td>\n",
              "      <td>55.20</td>\n",
              "      <td>57.607167</td>\n",
              "      <td>1.0</td>\n",
              "    </tr>\n",
              "    <tr>\n",
              "      <th>4</th>\n",
              "      <td>4.0</td>\n",
              "      <td>1.32</td>\n",
              "      <td>0.008</td>\n",
              "      <td>16.0</td>\n",
              "      <td>47.76</td>\n",
              "      <td>59.913043</td>\n",
              "      <td>1.0</td>\n",
              "    </tr>\n",
              "  </tbody>\n",
              "</table>\n",
              "</div>\n",
              "    <div class=\"colab-df-buttons\">\n",
              "\n",
              "  <div class=\"colab-df-container\">\n",
              "    <button class=\"colab-df-convert\" onclick=\"convertToInteractive('df-fd4c0b60-8082-405f-8779-99b409e46ca7')\"\n",
              "            title=\"Convert this dataframe to an interactive table.\"\n",
              "            style=\"display:none;\">\n",
              "\n",
              "  <svg xmlns=\"http://www.w3.org/2000/svg\" height=\"24px\" viewBox=\"0 -960 960 960\">\n",
              "    <path d=\"M120-120v-720h720v720H120Zm60-500h600v-160H180v160Zm220 220h160v-160H400v160Zm0 220h160v-160H400v160ZM180-400h160v-160H180v160Zm440 0h160v-160H620v160ZM180-180h160v-160H180v160Zm440 0h160v-160H620v160Z\"/>\n",
              "  </svg>\n",
              "    </button>\n",
              "\n",
              "  <style>\n",
              "    .colab-df-container {\n",
              "      display:flex;\n",
              "      gap: 12px;\n",
              "    }\n",
              "\n",
              "    .colab-df-convert {\n",
              "      background-color: #E8F0FE;\n",
              "      border: none;\n",
              "      border-radius: 50%;\n",
              "      cursor: pointer;\n",
              "      display: none;\n",
              "      fill: #1967D2;\n",
              "      height: 32px;\n",
              "      padding: 0 0 0 0;\n",
              "      width: 32px;\n",
              "    }\n",
              "\n",
              "    .colab-df-convert:hover {\n",
              "      background-color: #E2EBFA;\n",
              "      box-shadow: 0px 1px 2px rgba(60, 64, 67, 0.3), 0px 1px 3px 1px rgba(60, 64, 67, 0.15);\n",
              "      fill: #174EA6;\n",
              "    }\n",
              "\n",
              "    .colab-df-buttons div {\n",
              "      margin-bottom: 4px;\n",
              "    }\n",
              "\n",
              "    [theme=dark] .colab-df-convert {\n",
              "      background-color: #3B4455;\n",
              "      fill: #D2E3FC;\n",
              "    }\n",
              "\n",
              "    [theme=dark] .colab-df-convert:hover {\n",
              "      background-color: #434B5C;\n",
              "      box-shadow: 0px 1px 3px 1px rgba(0, 0, 0, 0.15);\n",
              "      filter: drop-shadow(0px 1px 2px rgba(0, 0, 0, 0.3));\n",
              "      fill: #FFFFFF;\n",
              "    }\n",
              "  </style>\n",
              "\n",
              "    <script>\n",
              "      const buttonEl =\n",
              "        document.querySelector('#df-fd4c0b60-8082-405f-8779-99b409e46ca7 button.colab-df-convert');\n",
              "      buttonEl.style.display =\n",
              "        google.colab.kernel.accessAllowed ? 'block' : 'none';\n",
              "\n",
              "      async function convertToInteractive(key) {\n",
              "        const element = document.querySelector('#df-fd4c0b60-8082-405f-8779-99b409e46ca7');\n",
              "        const dataTable =\n",
              "          await google.colab.kernel.invokeFunction('convertToInteractive',\n",
              "                                                    [key], {});\n",
              "        if (!dataTable) return;\n",
              "\n",
              "        const docLinkHtml = 'Like what you see? Visit the ' +\n",
              "          '<a target=\"_blank\" href=https://colab.research.google.com/notebooks/data_table.ipynb>data table notebook</a>'\n",
              "          + ' to learn more about interactive tables.';\n",
              "        element.innerHTML = '';\n",
              "        dataTable['output_type'] = 'display_data';\n",
              "        await google.colab.output.renderOutput(dataTable, element);\n",
              "        const docLink = document.createElement('div');\n",
              "        docLink.innerHTML = docLinkHtml;\n",
              "        element.appendChild(docLink);\n",
              "      }\n",
              "    </script>\n",
              "  </div>\n",
              "\n",
              "\n",
              "<div id=\"df-8dafedc3-adaa-44d0-9113-8252eb3a5621\">\n",
              "  <button class=\"colab-df-quickchart\" onclick=\"quickchart('df-8dafedc3-adaa-44d0-9113-8252eb3a5621')\"\n",
              "            title=\"Suggest charts\"\n",
              "            style=\"display:none;\">\n",
              "\n",
              "<svg xmlns=\"http://www.w3.org/2000/svg\" height=\"24px\"viewBox=\"0 0 24 24\"\n",
              "     width=\"24px\">\n",
              "    <g>\n",
              "        <path d=\"M19 3H5c-1.1 0-2 .9-2 2v14c0 1.1.9 2 2 2h14c1.1 0 2-.9 2-2V5c0-1.1-.9-2-2-2zM9 17H7v-7h2v7zm4 0h-2V7h2v10zm4 0h-2v-4h2v4z\"/>\n",
              "    </g>\n",
              "</svg>\n",
              "  </button>\n",
              "\n",
              "<style>\n",
              "  .colab-df-quickchart {\n",
              "      --bg-color: #E8F0FE;\n",
              "      --fill-color: #1967D2;\n",
              "      --hover-bg-color: #E2EBFA;\n",
              "      --hover-fill-color: #174EA6;\n",
              "      --disabled-fill-color: #AAA;\n",
              "      --disabled-bg-color: #DDD;\n",
              "  }\n",
              "\n",
              "  [theme=dark] .colab-df-quickchart {\n",
              "      --bg-color: #3B4455;\n",
              "      --fill-color: #D2E3FC;\n",
              "      --hover-bg-color: #434B5C;\n",
              "      --hover-fill-color: #FFFFFF;\n",
              "      --disabled-bg-color: #3B4455;\n",
              "      --disabled-fill-color: #666;\n",
              "  }\n",
              "\n",
              "  .colab-df-quickchart {\n",
              "    background-color: var(--bg-color);\n",
              "    border: none;\n",
              "    border-radius: 50%;\n",
              "    cursor: pointer;\n",
              "    display: none;\n",
              "    fill: var(--fill-color);\n",
              "    height: 32px;\n",
              "    padding: 0;\n",
              "    width: 32px;\n",
              "  }\n",
              "\n",
              "  .colab-df-quickchart:hover {\n",
              "    background-color: var(--hover-bg-color);\n",
              "    box-shadow: 0 1px 2px rgba(60, 64, 67, 0.3), 0 1px 3px 1px rgba(60, 64, 67, 0.15);\n",
              "    fill: var(--button-hover-fill-color);\n",
              "  }\n",
              "\n",
              "  .colab-df-quickchart-complete:disabled,\n",
              "  .colab-df-quickchart-complete:disabled:hover {\n",
              "    background-color: var(--disabled-bg-color);\n",
              "    fill: var(--disabled-fill-color);\n",
              "    box-shadow: none;\n",
              "  }\n",
              "\n",
              "  .colab-df-spinner {\n",
              "    border: 2px solid var(--fill-color);\n",
              "    border-color: transparent;\n",
              "    border-bottom-color: var(--fill-color);\n",
              "    animation:\n",
              "      spin 1s steps(1) infinite;\n",
              "  }\n",
              "\n",
              "  @keyframes spin {\n",
              "    0% {\n",
              "      border-color: transparent;\n",
              "      border-bottom-color: var(--fill-color);\n",
              "      border-left-color: var(--fill-color);\n",
              "    }\n",
              "    20% {\n",
              "      border-color: transparent;\n",
              "      border-left-color: var(--fill-color);\n",
              "      border-top-color: var(--fill-color);\n",
              "    }\n",
              "    30% {\n",
              "      border-color: transparent;\n",
              "      border-left-color: var(--fill-color);\n",
              "      border-top-color: var(--fill-color);\n",
              "      border-right-color: var(--fill-color);\n",
              "    }\n",
              "    40% {\n",
              "      border-color: transparent;\n",
              "      border-right-color: var(--fill-color);\n",
              "      border-top-color: var(--fill-color);\n",
              "    }\n",
              "    60% {\n",
              "      border-color: transparent;\n",
              "      border-right-color: var(--fill-color);\n",
              "    }\n",
              "    80% {\n",
              "      border-color: transparent;\n",
              "      border-right-color: var(--fill-color);\n",
              "      border-bottom-color: var(--fill-color);\n",
              "    }\n",
              "    90% {\n",
              "      border-color: transparent;\n",
              "      border-bottom-color: var(--fill-color);\n",
              "    }\n",
              "  }\n",
              "</style>\n",
              "\n",
              "  <script>\n",
              "    async function quickchart(key) {\n",
              "      const quickchartButtonEl =\n",
              "        document.querySelector('#' + key + ' button');\n",
              "      quickchartButtonEl.disabled = true;  // To prevent multiple clicks.\n",
              "      quickchartButtonEl.classList.add('colab-df-spinner');\n",
              "      try {\n",
              "        const charts = await google.colab.kernel.invokeFunction(\n",
              "            'suggestCharts', [key], {});\n",
              "      } catch (error) {\n",
              "        console.error('Error during call to suggestCharts:', error);\n",
              "      }\n",
              "      quickchartButtonEl.classList.remove('colab-df-spinner');\n",
              "      quickchartButtonEl.classList.add('colab-df-quickchart-complete');\n",
              "    }\n",
              "    (() => {\n",
              "      let quickchartButtonEl =\n",
              "        document.querySelector('#df-8dafedc3-adaa-44d0-9113-8252eb3a5621 button');\n",
              "      quickchartButtonEl.style.display =\n",
              "        google.colab.kernel.accessAllowed ? 'block' : 'none';\n",
              "    })();\n",
              "  </script>\n",
              "</div>\n",
              "\n",
              "    </div>\n",
              "  </div>\n"
            ],
            "application/vnd.google.colaboratory.intrinsic+json": {
              "type": "dataframe",
              "variable_name": "dataframe",
              "summary": "{\n  \"name\": \"dataframe\",\n  \"rows\": 1999,\n  \"fields\": [\n    {\n      \"column\": \"Unnamed: 0\",\n      \"properties\": {\n        \"dtype\": \"number\",\n        \"std\": 581.8428940004334,\n        \"min\": 0.0,\n        \"max\": 1998.0,\n        \"num_unique_values\": 1919,\n        \"samples\": [\n          1616.0,\n          1450.0,\n          670.0\n        ],\n        \"semantic_type\": \"\",\n        \"description\": \"\"\n      }\n    },\n    {\n      \"column\": \"Atomic Radius(Atomic unit)\",\n      \"properties\": {\n        \"dtype\": \"number\",\n        \"std\": 0.09766459318577601,\n        \"min\": 1.06,\n        \"max\": 1.6,\n        \"num_unique_values\": 48,\n        \"samples\": [\n          1.39,\n          1.47,\n          1.45\n        ],\n        \"semantic_type\": \"\",\n        \"description\": \"\"\n      }\n    },\n    {\n      \"column\": \"Expansion Coefficient\",\n      \"properties\": {\n        \"dtype\": \"number\",\n        \"std\": 0.0029384628213977144,\n        \"min\": 0.0,\n        \"max\": 0.015,\n        \"num_unique_values\": 16,\n        \"samples\": [\n          0.0,\n          0.006,\n          0.003\n        ],\n        \"semantic_type\": \"\",\n        \"description\": \"\"\n      }\n    },\n    {\n      \"column\": \"Electron Affinity(-ive)\",\n      \"properties\": {\n        \"dtype\": \"number\",\n        \"std\": 16.779207922893853,\n        \"min\": 12.0,\n        \"max\": 86.0,\n        \"num_unique_values\": 73,\n        \"samples\": [\n          29.0,\n          76.0,\n          20.0\n        ],\n        \"semantic_type\": \"\",\n        \"description\": \"\"\n      }\n    },\n    {\n      \"column\": \"Conductivity\",\n      \"properties\": {\n        \"dtype\": \"number\",\n        \"std\": 16.210284591776958,\n        \"min\": 0.0,\n        \"max\": 187.59,\n        \"num_unique_values\": 955,\n        \"samples\": [\n          1.84,\n          8.73,\n          11.4\n        ],\n        \"semantic_type\": \"\",\n        \"description\": \"\"\n      }\n    },\n    {\n      \"column\": \"Yield Strength\",\n      \"properties\": {\n        \"dtype\": \"number\",\n        \"std\": 366.24929071629316,\n        \"min\": 3.451986755,\n        \"max\": 3826.644295,\n        \"num_unique_values\": 1830,\n        \"samples\": [\n          67.61764706,\n          92.76595745,\n          654.8210526\n        ],\n        \"semantic_type\": \"\",\n        \"description\": \"\"\n      }\n    },\n    {\n      \"column\": \"Outcome\",\n      \"properties\": {\n        \"dtype\": \"number\",\n        \"std\": 0.5840807022319547,\n        \"min\": 1.0,\n        \"max\": 3.0,\n        \"num_unique_values\": 3,\n        \"samples\": [\n          2.0,\n          1.0,\n          3.0\n        ],\n        \"semantic_type\": \"\",\n        \"description\": \"\"\n      }\n    }\n  ]\n}"
            }
          },
          "metadata": {},
          "execution_count": 32
        }
      ]
    },
    {
      "cell_type": "code",
      "source": [
        "dataframe.info()"
      ],
      "metadata": {
        "id": "kv-VbX5P4-bg"
      },
      "execution_count": null,
      "outputs": []
    },
    {
      "cell_type": "code",
      "source": [
        "dataframe.isnull().any().any()\n",
        "dataframe.isnull().sum().sum()"
      ],
      "metadata": {
        "id": "5_uMlaBB5-Bi"
      },
      "execution_count": null,
      "outputs": []
    },
    {
      "cell_type": "code",
      "source": [
        "dataframe.dropna(inplace = True)"
      ],
      "metadata": {
        "id": "FGsaimBZ6lkF"
      },
      "execution_count": 33,
      "outputs": []
    },
    {
      "cell_type": "code",
      "source": [
        "dataset = dataframe.values\n",
        "data = dataset[:,1:6].astype(float)\n",
        "labels = dataset[:,6]"
      ],
      "metadata": {
        "id": "iI-xErKT5Bjb"
      },
      "execution_count": 34,
      "outputs": []
    },
    {
      "cell_type": "code",
      "source": [
        "labels = labels.astype(int)"
      ],
      "metadata": {
        "id": "IOulUAur9u5p"
      },
      "execution_count": 35,
      "outputs": []
    },
    {
      "cell_type": "code",
      "source": [
        "(trainData, testData, trainLabels, testLabels) = train_test_split(np.array(data),\n",
        "\tnp.array(labels), test_size=0.25, random_state=42)"
      ],
      "metadata": {
        "id": "LLvfcJmT5OF2"
      },
      "execution_count": 36,
      "outputs": []
    },
    {
      "cell_type": "code",
      "source": [
        "model = SVC(kernel=\"linear\",C=1)\n",
        "model.fit(trainData, trainLabels)"
      ],
      "metadata": {
        "id": "64fyHI6E5jm0"
      },
      "execution_count": null,
      "outputs": []
    },
    {
      "cell_type": "code",
      "source": [
        "print(model.score(trainData, trainLabels))"
      ],
      "metadata": {
        "id": "Uq40TqTs63Cs"
      },
      "execution_count": null,
      "outputs": []
    },
    {
      "cell_type": "code",
      "source": [
        "print(model.score(testData, testLabels))"
      ],
      "metadata": {
        "id": "erySd39-65Pr"
      },
      "execution_count": null,
      "outputs": []
    },
    {
      "cell_type": "code",
      "source": [
        "predictions = model.predict(testData)\n",
        "\n",
        "print(classification_report(testLabels, predictions))"
      ],
      "metadata": {
        "id": "xGHf5yH-67DN"
      },
      "execution_count": null,
      "outputs": []
    },
    {
      "cell_type": "code",
      "source": [
        "#weights='distance'\n",
        "model = KNeighborsClassifier(n_neighbors=9,weights='uniform')\n",
        "model.fit(trainData, trainLabels)\n",
        "\n",
        "print(model.score(trainData, trainLabels))\n",
        "predictions = model.predict(testData)\n",
        "\n",
        "print(classification_report(testLabels, predictions))\n"
      ],
      "metadata": {
        "id": "oTqG_kKB7Z_k"
      },
      "execution_count": null,
      "outputs": []
    },
    {
      "cell_type": "code",
      "source": [
        "#penality = l1,l2, elasticnet\n",
        "#solver = liblinear, sag, saga, lbfgs, newton-cg\n",
        "#max-iter = 100\n",
        "\n",
        "model = LogisticRegression(max_iter=150,solver = 'liblinear')\n",
        "model.fit(trainData, trainLabels)\n",
        "\n",
        "print(model.score(trainData, trainLabels))\n",
        "predictions = model.predict(testData)\n",
        "\n",
        "print(classification_report(testLabels, predictions))"
      ],
      "metadata": {
        "id": "H0k1r-Ow7qnL"
      },
      "execution_count": null,
      "outputs": []
    },
    {
      "cell_type": "code",
      "source": [
        "\n",
        "#splitter = best, random | max_features = int, auto, log, none | max_depth = int\n",
        "model = DecisionTreeClassifier(random_state=42)#,criterion='gini',max_features=2, max_depth = 15)\n",
        "model.fit(trainData, trainLabels)\n",
        "\n",
        "print(model.score(trainData, trainLabels))\n",
        "predictions = model.predict(testData)\n",
        "\n",
        "print(classification_report(testLabels, predictions))"
      ],
      "metadata": {
        "id": "yunYnEK-8RuX"
      },
      "execution_count": null,
      "outputs": []
    },
    {
      "cell_type": "code",
      "source": [
        "#splitter = best, random | max_features = int, auto, log, none | max_depth = int\n",
        "model = RandomForestClassifier(n_estimators=30, random_state=42)#,criterion='gini',max_depth=10)\n",
        "model.fit(trainData, trainLabels)\n",
        "\n",
        "print(model.score(trainData, trainLabels))\n",
        "predictions = model.predict(testData)\n",
        "\n",
        "print(classification_report(testLabels, predictions))"
      ],
      "metadata": {
        "id": "NKRp2-6b794H"
      },
      "execution_count": null,
      "outputs": []
    },
    {
      "cell_type": "code",
      "source": [
        "model = BaggingClassifier(n_estimators=10)\n",
        "model.fit(trainData, trainLabels)\n",
        "\n",
        "print(model.score(trainData, trainLabels))\n",
        "predictions = model.predict(testData)\n",
        "\n",
        "print(classification_report(testLabels, predictions))"
      ],
      "metadata": {
        "id": "gAl2tmTjDoE-"
      },
      "execution_count": null,
      "outputs": []
    },
    {
      "cell_type": "code",
      "source": [
        "model = AdaBoostClassifier()\n",
        "model.fit(trainData, trainLabels)\n",
        "\n",
        "print(model.score(trainData, trainLabels))\n",
        "predictions = model.predict(testData)\n",
        "\n",
        "print(classification_report(testLabels, predictions))"
      ],
      "metadata": {
        "colab": {
          "base_uri": "https://localhost:8080/"
        },
        "id": "Dz3v7PTn8HKH",
        "outputId": "702f0494-1323-41fa-e434-1d07507da4dd"
      },
      "execution_count": 53,
      "outputs": [
        {
          "output_type": "stream",
          "name": "stdout",
          "text": [
            "0.8929812369701181\n",
            "              precision    recall  f1-score   support\n",
            "\n",
            "           1       0.91      0.95      0.93       373\n",
            "           2       0.68      0.59      0.63        71\n",
            "           3       0.75      0.58      0.66        36\n",
            "\n",
            "    accuracy                           0.87       480\n",
            "   macro avg       0.78      0.71      0.74       480\n",
            "weighted avg       0.86      0.87      0.86       480\n",
            "\n"
          ]
        }
      ]
    },
    {
      "cell_type": "code",
      "source": [
        "t_trainLabels = trainLabels - 1\n",
        "t_testLabels = testLabels - 1"
      ],
      "metadata": {
        "id": "kfVvHgyA_Isj"
      },
      "execution_count": 54,
      "outputs": []
    },
    {
      "cell_type": "code",
      "source": [
        "model = XGBClassifier()\n",
        "model.fit(trainData, t_trainLabels)\n",
        "\n",
        "print(model.score(trainData, t_trainLabels))\n",
        "predictions = model.predict(testData)\n",
        "\n",
        "print(classification_report(t_testLabels, predictions))\n"
      ],
      "metadata": {
        "colab": {
          "base_uri": "https://localhost:8080/"
        },
        "id": "HR6RW7TX9ck_",
        "outputId": "11ea5d1e-c951-4120-bf9a-69e93e12bac1"
      },
      "execution_count": 55,
      "outputs": [
        {
          "output_type": "stream",
          "name": "stdout",
          "text": [
            "0.9986101459346769\n",
            "              precision    recall  f1-score   support\n",
            "\n",
            "           0       0.92      0.98      0.95       373\n",
            "           1       0.77      0.58      0.66        71\n",
            "           2       0.90      0.72      0.80        36\n",
            "\n",
            "    accuracy                           0.90       480\n",
            "   macro avg       0.86      0.76      0.80       480\n",
            "weighted avg       0.89      0.90      0.89       480\n",
            "\n"
          ]
        }
      ]
    },
    {
      "cell_type": "code",
      "source": [
        "from imblearn.pipeline import Pipeline\n",
        "from imblearn.over_sampling import SMOTE\n",
        "from imblearn.over_sampling import BorderlineSMOTE\n",
        "from imblearn.over_sampling import SVMSMOTE\n",
        "from imblearn.over_sampling import ADASYN\n",
        "from matplotlib import pyplot\n",
        "from collections import Counter\n"
      ],
      "metadata": {
        "id": "mhMOR13QGLJn"
      },
      "execution_count": 88,
      "outputs": []
    },
    {
      "cell_type": "code",
      "source": [
        "print('Original dataset shape:', Counter(trainLabels))"
      ],
      "metadata": {
        "id": "APT7Ksd4HddT"
      },
      "execution_count": null,
      "outputs": []
    },
    {
      "cell_type": "code",
      "source": [
        "sm = SMOTE(random_state=0, sampling_strategy={1:1171, 2:260, 3:150})"
      ],
      "metadata": {
        "id": "M6UQuZvSGPBX"
      },
      "execution_count": 67,
      "outputs": []
    },
    {
      "cell_type": "code",
      "source": [
        "trainData_resampled, trainLabels_resampled = sm.fit_resample(trainData, trainLabels)"
      ],
      "metadata": {
        "id": "e6kXFsMzHEj6"
      },
      "execution_count": 69,
      "outputs": []
    },
    {
      "cell_type": "code",
      "source": [
        "print('Original dataset shape:', Counter(trainLabels))\n",
        "print('Resampled dataset shape:', Counter(trainLabels_resampled))"
      ],
      "metadata": {
        "id": "Vw0G1TVYFp7l"
      },
      "execution_count": null,
      "outputs": []
    },
    {
      "cell_type": "code",
      "source": [
        "model = AdaBoostClassifier()\n",
        "model.fit(trainData_resampled, trainLabels_resampled)\n",
        "\n",
        "print(model.score(trainData_resampled, trainLabels_resampled))\n",
        "predictions = model.predict(testData)\n",
        "\n",
        "print(classification_report(testLabels, predictions))"
      ],
      "metadata": {
        "id": "gLVOqU2jHm7d"
      },
      "execution_count": null,
      "outputs": []
    },
    {
      "cell_type": "code",
      "source": [
        "t_trainLabels = trainLabels_resampled - 1\n",
        "\n",
        "model = XGBClassifier()\n",
        "model.fit(trainData_resampled, t_trainLabels)\n",
        "\n",
        "print(model.score(trainData_resampled, t_trainLabels))\n",
        "predictions = model.predict(testData)\n",
        "\n",
        "print(classification_report(t_testLabels, predictions))"
      ],
      "metadata": {
        "id": "CNWFsHgJITWP"
      },
      "execution_count": null,
      "outputs": []
    },
    {
      "cell_type": "code",
      "source": [
        "sm = BorderlineSMOTE(random_state=0, sampling_strategy={1:1171, 2:260, 3:150})"
      ],
      "metadata": {
        "id": "VbknUfWWJ-Bs"
      },
      "execution_count": 74,
      "outputs": []
    },
    {
      "cell_type": "code",
      "source": [
        "print('Original dataset shape:', Counter(trainLabels))\n",
        "print('Resampled dataset shape:', Counter(trainLabels_resampled))"
      ],
      "metadata": {
        "id": "s6U12LMzKEQx"
      },
      "execution_count": null,
      "outputs": []
    },
    {
      "cell_type": "code",
      "source": [
        "t_trainLabels = trainLabels_resampled - 1\n",
        "\n",
        "model = XGBClassifier()\n",
        "model.fit(trainData_resampled, t_trainLabels)\n",
        "\n",
        "print(model.score(trainData_resampled, t_trainLabels))\n",
        "predictions = model.predict(testData)\n",
        "\n",
        "print(classification_report(t_testLabels, predictions))"
      ],
      "metadata": {
        "id": "YTNKTCutKEQ9"
      },
      "execution_count": null,
      "outputs": []
    },
    {
      "cell_type": "code",
      "source": [],
      "metadata": {
        "id": "a955KN-0KRez"
      },
      "execution_count": null,
      "outputs": []
    },
    {
      "cell_type": "code",
      "source": [
        "sm = SVMSMOTE(random_state=0, sampling_strategy={1:1171, 2:260, 3:150})"
      ],
      "metadata": {
        "id": "jZS5s5mYK6FM"
      },
      "execution_count": 85,
      "outputs": []
    },
    {
      "cell_type": "code",
      "source": [
        "print('Original dataset shape:', Counter(trainLabels))\n",
        "print('Resampled dataset shape:', Counter(trainLabels_resampled))"
      ],
      "metadata": {
        "id": "0vgfWWbbK6FM"
      },
      "execution_count": null,
      "outputs": []
    },
    {
      "cell_type": "code",
      "source": [
        "t_trainLabels = trainLabels_resampled - 1\n",
        "\n",
        "model = XGBClassifier()\n",
        "model.fit(trainData_resampled, t_trainLabels)\n",
        "\n",
        "print(model.score(trainData_resampled, t_trainLabels))\n",
        "predictions = model.predict(testData)\n",
        "\n",
        "print(classification_report(t_testLabels, predictions))"
      ],
      "metadata": {
        "id": "yQD2-sosK6FN"
      },
      "execution_count": null,
      "outputs": []
    },
    {
      "cell_type": "code",
      "source": [
        "sm = ADASYN(random_state=0, sampling_strategy={1:1171, 2:260, 3:150})"
      ],
      "metadata": {
        "id": "YCRUnhNELKV8"
      },
      "execution_count": 89,
      "outputs": []
    },
    {
      "cell_type": "code",
      "source": [
        "print('Original dataset shape:', Counter(trainLabels))\n",
        "print('Resampled dataset shape:', Counter(trainLabels_resampled))"
      ],
      "metadata": {
        "id": "Q0E7-bYrLKWI"
      },
      "execution_count": null,
      "outputs": []
    },
    {
      "cell_type": "code",
      "source": [
        "t_trainLabels = trainLabels_resampled - 1\n",
        "\n",
        "model = XGBClassifier()\n",
        "model.fit(trainData_resampled, t_trainLabels)\n",
        "\n",
        "print(model.score(trainData_resampled, t_trainLabels))\n",
        "predictions = model.predict(testData)\n",
        "\n",
        "print(classification_report(t_testLabels, predictions))"
      ],
      "metadata": {
        "id": "j-KfdGdjLKWJ"
      },
      "execution_count": null,
      "outputs": []
    }
  ]
}