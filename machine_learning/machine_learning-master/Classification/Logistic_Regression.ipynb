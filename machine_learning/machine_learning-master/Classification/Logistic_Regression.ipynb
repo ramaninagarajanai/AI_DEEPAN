{
  "nbformat": 4,
  "nbformat_minor": 0,
  "metadata": {
    "colab": {
      "name": "Logistic_Regression.ipynb",
      "provenance": [],
      "include_colab_link": true
    },
    "kernelspec": {
      "name": "python3",
      "display_name": "Python 3"
    },
    "language_info": {
      "name": "python"
    }
  },
  "cells": [
    {
      "cell_type": "markdown",
      "metadata": {
        "id": "view-in-github",
        "colab_type": "text"
      },
      "source": [
        "<a href=\"https://colab.research.google.com/github/deepanrajm/machine_learning/blob/master/Classification/Logistic_Regression.ipynb\" target=\"_parent\"><img src=\"https://colab.research.google.com/assets/colab-badge.svg\" alt=\"Open In Colab\"/></a>"
      ]
    },
    {
      "cell_type": "code",
      "execution_count": null,
      "metadata": {
        "id": "mNC-Q7KV6iXM"
      },
      "outputs": [],
      "source": [
        "!git clone https://github.com/deepanrajm/machine_learning.git"
      ]
    },
    {
      "cell_type": "code",
      "source": [
        "from pandas import read_csv\n",
        "import numpy as np\n",
        "import sklearn\n",
        "from sklearn.metrics import classification_report\n",
        "from sklearn.linear_model import LogisticRegression\n",
        "from matplotlib import pyplot as plt\n",
        "from sklearn.model_selection import train_test_split\n",
        "from sklearn.preprocessing import LabelEncoder"
      ],
      "metadata": {
        "id": "9mJaKOZ-6t8G"
      },
      "execution_count": 2,
      "outputs": []
    },
    {
      "cell_type": "code",
      "source": [
        "dataframe = read_csv(\"machine_learning/Classification/mobile_cleaned.csv\")\n",
        "dataframe.head()"
      ],
      "metadata": {
        "id": "LytTRleb62Qd"
      },
      "execution_count": null,
      "outputs": []
    },
    {
      "cell_type": "code",
      "source": [
        "dataset = dataframe.values\n",
        "\n",
        "\n",
        "data = dataset[1:,0:38]\n",
        "labels = dataset[1:,39]\n"
      ],
      "metadata": {
        "id": "YjI3xeWpBwd0"
      },
      "execution_count": 4,
      "outputs": []
    },
    {
      "cell_type": "code",
      "source": [
        "(trainData, testData, trainLabels, testLabels) = train_test_split(np.array(data),\n",
        "\tnp.array(labels), test_size=0.25, random_state=42)"
      ],
      "metadata": {
        "id": "cHK-Y5zmCbAw"
      },
      "execution_count": 5,
      "outputs": []
    },
    {
      "cell_type": "code",
      "source": [
        "#penality = l1,l2, elasticnet\n",
        "#solver = liblinear, sag, saga, lbfgs, newton-cg\n",
        "#max-iter = 100\n",
        "\n",
        "model = LogisticRegression(max_iter=150)#,solver = 'sag')"
      ],
      "metadata": {
        "id": "Dcx5YJwwCbbH"
      },
      "execution_count": 6,
      "outputs": []
    },
    {
      "cell_type": "code",
      "source": [
        "model.fit(trainData, trainLabels)"
      ],
      "metadata": {
        "id": "Gi_81LgWCj3A"
      },
      "execution_count": null,
      "outputs": []
    },
    {
      "cell_type": "code",
      "source": [
        "print(model.score(trainData, trainLabels))"
      ],
      "metadata": {
        "id": "Z3UGKRddCnG4"
      },
      "execution_count": null,
      "outputs": []
    },
    {
      "cell_type": "code",
      "source": [
        "print(model.score(testData, testLabels))"
      ],
      "metadata": {
        "id": "t85UtJYOCoKt"
      },
      "execution_count": null,
      "outputs": []
    },
    {
      "cell_type": "code",
      "source": [
        "predictions = model.predict(testData)"
      ],
      "metadata": {
        "id": "jELUCdAhColj"
      },
      "execution_count": 10,
      "outputs": []
    },
    {
      "cell_type": "code",
      "source": [
        "print(classification_report(testLabels, predictions))"
      ],
      "metadata": {
        "id": "ob5eEgGFCq5l"
      },
      "execution_count": null,
      "outputs": []
    }
  ]
}