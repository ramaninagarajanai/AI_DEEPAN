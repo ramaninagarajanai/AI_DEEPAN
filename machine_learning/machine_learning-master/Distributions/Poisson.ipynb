{
  "nbformat": 4,
  "nbformat_minor": 0,
  "metadata": {
    "colab": {
      "name": "Poisson.ipynb",
      "provenance": [],
      "collapsed_sections": []
    },
    "kernelspec": {
      "name": "python3",
      "display_name": "Python 3"
    },
    "language_info": {
      "name": "python"
    }
  },
  "cells": [
    {
      "cell_type": "markdown",
      "source": [
        "A new mobile phone has launched in the market with good features and compelling price. So, on an average 7 phones are being sold in a minute. \n",
        "\n",
        "So lets find for\n",
        "1. What is the probability of distribution for upto 10 phones being sold in a minute\n",
        "1. What is the probability of exactly 3 phones are sold in a minute\n",
        "2. What is the probability of less than 5 phones are sold in a minute\n",
        "3. What is teh probability of more than 4 phones are sold in a minute\n"
      ],
      "metadata": {
        "id": "NI6hrFXkRvo5"
      }
    },
    {
      "cell_type": "code",
      "execution_count": 1,
      "metadata": {
        "id": "6-RPyIKIOfOt"
      },
      "outputs": [],
      "source": [
        "import numpy as np\n",
        "import scipy.stats as stats\n",
        "import seaborn as sns"
      ]
    },
    {
      "cell_type": "code",
      "source": [
        "rate = 7"
      ],
      "metadata": {
        "id": "XYPYXOy4TUIY"
      },
      "execution_count": 2,
      "outputs": []
    },
    {
      "cell_type": "code",
      "source": [
        "n=np.arange(0,10)"
      ],
      "metadata": {
        "id": "KysQRxvOTnzY"
      },
      "execution_count": 3,
      "outputs": []
    },
    {
      "cell_type": "code",
      "source": [
        "poisson_dist = stats.poisson.pmf(n,rate)\n",
        "poisson_dist"
      ],
      "metadata": {
        "id": "XkwB0Yn7TsQL"
      },
      "execution_count": null,
      "outputs": []
    },
    {
      "cell_type": "code",
      "source": [
        "poisson_dist[3]"
      ],
      "metadata": {
        "id": "qa9ePGtPTw8v"
      },
      "execution_count": null,
      "outputs": []
    },
    {
      "cell_type": "code",
      "source": [
        "(poisson_dist[0]+poisson_dist[1]+poisson_dist[2]+poisson_dist[3]+poisson_dist[4])"
      ],
      "metadata": {
        "id": "E4nvpxTsT4Oe"
      },
      "execution_count": null,
      "outputs": []
    },
    {
      "cell_type": "code",
      "source": [
        "1 - (poisson_dist[0]+poisson_dist[1]+poisson_dist[2]+poisson_dist[3]+poisson_dist[4])"
      ],
      "metadata": {
        "id": "llVD1PudUBbo"
      },
      "execution_count": null,
      "outputs": []
    },
    {
      "cell_type": "code",
      "source": [
        "sns.set()\n",
        "sns.lineplot(n, poisson_dist)"
      ],
      "metadata": {
        "id": "KTCa2sIXUH7Z"
      },
      "execution_count": null,
      "outputs": []
    }
  ]
}