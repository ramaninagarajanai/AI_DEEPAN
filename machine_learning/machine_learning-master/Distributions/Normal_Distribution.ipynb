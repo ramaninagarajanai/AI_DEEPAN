{
  "nbformat": 4,
  "nbformat_minor": 0,
  "metadata": {
    "colab": {
      "name": "Normal_Distribution.ipynb",
      "provenance": [],
      "collapsed_sections": []
    },
    "kernelspec": {
      "name": "python3",
      "display_name": "Python 3"
    },
    "language_info": {
      "name": "python"
    }
  },
  "cells": [
    {
      "cell_type": "markdown",
      "source": [
        "The mean weight of a soap being manufactured will be 125 grams with Standard deviation of 20 grams\n",
        "\n",
        "So lets find,\n",
        "1. Probability of weight less than 115 grams\n",
        "2. Probability of weight more than 150 grams\n",
        "3. Probability of weight in between 115 to 150 grams\n"
      ],
      "metadata": {
        "id": "th3Nljj3Ye-j"
      }
    },
    {
      "cell_type": "code",
      "execution_count": 1,
      "metadata": {
        "id": "Sc8sAX8-VQuG"
      },
      "outputs": [],
      "source": [
        "import numpy as np\n",
        "import scipy.stats as stats\n",
        "import seaborn as sns"
      ]
    },
    {
      "cell_type": "code",
      "source": [
        "stats.norm.cdf(115,loc=125,scale=20)"
      ],
      "metadata": {
        "id": "bngxYerA1mXe"
      },
      "execution_count": null,
      "outputs": []
    },
    {
      "cell_type": "code",
      "source": [
        "1-stats.norm.cdf(150,loc=125, scale=20)"
      ],
      "metadata": {
        "id": "mZ9NGl011yvt"
      },
      "execution_count": null,
      "outputs": []
    },
    {
      "cell_type": "code",
      "source": [
        "stats.norm.cdf(150,loc=125,scale=20)-stats.norm.cdf(115,loc=125,scale=20)"
      ],
      "metadata": {
        "id": "gK-yf24116mO"
      },
      "execution_count": null,
      "outputs": []
    },
    {
      "cell_type": "code",
      "source": [
        "stats.norm.cdf(1)-stats.norm.cdf(-1)"
      ],
      "metadata": {
        "id": "3xzpXhYE2F39"
      },
      "execution_count": null,
      "outputs": []
    },
    {
      "cell_type": "code",
      "source": [
        "stats.norm.cdf(2)-stats.norm.cdf(-2)"
      ],
      "metadata": {
        "id": "pLAXmEa02HPi"
      },
      "execution_count": null,
      "outputs": []
    },
    {
      "cell_type": "code",
      "source": [
        "stats.norm.cdf(3)-stats.norm.cdf(-3)"
      ],
      "metadata": {
        "id": "5evIm1U52I6q"
      },
      "execution_count": null,
      "outputs": []
    }
  ]
}