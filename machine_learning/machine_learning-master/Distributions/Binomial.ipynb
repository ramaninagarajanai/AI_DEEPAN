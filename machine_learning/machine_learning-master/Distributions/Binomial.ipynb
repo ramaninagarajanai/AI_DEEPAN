{
  "nbformat": 4,
  "nbformat_minor": 0,
  "metadata": {
    "colab": {
      "name": "Binomial.ipynb",
      "provenance": []
    },
    "kernelspec": {
      "name": "python3",
      "display_name": "Python 3"
    },
    "language_info": {
      "name": "python"
    }
  },
  "cells": [
    {
      "cell_type": "markdown",
      "source": [
        "In product development scenario. 60% of the products developed are defect free. If 7 products are randomly taken for testing from the production. what will be the probability distribution"
      ],
      "metadata": {
        "id": "qZVbKiO3Ms9F"
      }
    },
    {
      "cell_type": "code",
      "execution_count": 13,
      "metadata": {
        "id": "A0ph6nt5MajE"
      },
      "outputs": [],
      "source": [
        "import numpy as np\n",
        "import scipy.stats as stats\n",
        "import seaborn as sns"
      ]
    },
    {
      "cell_type": "code",
      "source": [
        "n=7\n",
        "p=.6"
      ],
      "metadata": {
        "id": "uwmFURmGMpQv"
      },
      "execution_count": 14,
      "outputs": []
    },
    {
      "cell_type": "code",
      "source": [
        "k=np.arange(0,8)\n",
        "k"
      ],
      "metadata": {
        "id": "WoB4qGV0Noj_"
      },
      "execution_count": null,
      "outputs": []
    },
    {
      "cell_type": "code",
      "source": [
        "binomial_dist = stats.binom.pmf(k,n,p)\n",
        "binomial_dist"
      ],
      "metadata": {
        "id": "qVOfNzqoNpnm"
      },
      "execution_count": null,
      "outputs": []
    },
    {
      "cell_type": "code",
      "source": [
        "sns.set()\n",
        "sns.lineplot(k, binomial_dist)"
      ],
      "metadata": {
        "id": "LpyIfVnWN23E"
      },
      "execution_count": null,
      "outputs": []
    },
    {
      "cell_type": "code",
      "source": [
        "sum(binomial_dist)"
      ],
      "metadata": {
        "id": "PCCAMozPOU2w"
      },
      "execution_count": null,
      "outputs": []
    }
  ]
}