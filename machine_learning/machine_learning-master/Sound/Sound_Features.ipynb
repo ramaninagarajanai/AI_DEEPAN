{
  "nbformat": 4,
  "nbformat_minor": 0,
  "metadata": {
    "colab": {
      "name": "Untitled19.ipynb",
      "provenance": []
    },
    "kernelspec": {
      "name": "python3",
      "display_name": "Python 3"
    }
  },
  "cells": [
    {
      "cell_type": "markdown",
      "metadata": {
        "id": "de2wPO2OJUHk",
        "colab_type": "text"
      },
      "source": [
        "# **Sound Features**"
      ]
    },
    {
      "cell_type": "code",
      "metadata": {
        "id": "yMLVV-9bJ0lc",
        "colab_type": "code",
        "colab": {
          "base_uri": "https://localhost:8080/",
          "height": 134
        },
        "outputId": "6ab73b19-7aa5-4f7f-9881-efd2120fc40e"
      },
      "source": [
        "!git clone https://github.com/deepanrajm/machine_learning.git"
      ],
      "execution_count": 1,
      "outputs": [
        {
          "output_type": "stream",
          "text": [
            "Cloning into 'machine_learning'...\n",
            "remote: Enumerating objects: 477, done.\u001b[K\n",
            "remote: Counting objects: 100% (477/477), done.\u001b[K\n",
            "remote: Compressing objects: 100% (463/463), done.\u001b[K\n",
            "remote: Total 477 (delta 16), reused 470 (delta 9), pack-reused 0\u001b[K\n",
            "Receiving objects: 100% (477/477), 31.14 MiB | 28.37 MiB/s, done.\n",
            "Resolving deltas: 100% (16/16), done.\n"
          ],
          "name": "stdout"
        }
      ]
    },
    {
      "cell_type": "code",
      "metadata": {
        "id": "6tEKBJhrJPVt",
        "colab_type": "code",
        "colab": {}
      },
      "source": [
        "import librosa\n",
        "import matplotlib.pyplot as plt\n",
        "import librosa.display\n",
        "import numpy as np"
      ],
      "execution_count": 0,
      "outputs": []
    },
    {
      "cell_type": "code",
      "metadata": {
        "id": "T7CxnKjNJpo9",
        "colab_type": "code",
        "colab": {}
      },
      "source": [
        "y, sr = librosa.load ('machine_learning/Sound/normal/normal__175_1307987962616_B.wav')"
      ],
      "execution_count": 0,
      "outputs": []
    },
    {
      "cell_type": "code",
      "metadata": {
        "id": "WHFsmQmBJ6y3",
        "colab_type": "code",
        "colab": {}
      },
      "source": [
        "librosa.feature.chroma_stft(y=y, sr=sr)\n",
        "S = np.abs(librosa.stft(y))\n",
        "chroma = librosa.feature.chroma_stft(S=S, sr=sr)\n",
        "S = np.abs(librosa.stft(y, n_fft=4096))**2\n",
        "chroma = librosa.feature.chroma_stft(S=S, sr=sr)\n",
        "\n",
        "stft = np.abs(librosa.stft(y))\n",
        "mfccs = np.mean(librosa.feature.mfcc(y=y, sr=sr, n_mfcc=40).T,axis=0)\n",
        "mel = np.mean(librosa.feature.melspectrogram(y, sr=sr).T,axis=0)\n",
        "contrast = np.mean(librosa.feature.spectral_contrast(S=stft, sr=sr).T,axis=0)\n",
        "tonnetz = np.mean(librosa.feature.tonnetz(y=librosa.effects.harmonic(y), sr=sr).T,axis=0)\n"
      ],
      "execution_count": 0,
      "outputs": []
    },
    {
      "cell_type": "code",
      "metadata": {
        "id": "3v4F1T0-KD_S",
        "colab_type": "code",
        "colab": {}
      },
      "source": [
        "print (\"Chroma\")\n",
        "print (chroma)\n",
        "print (\"mfcc\")\n",
        "print (mfccs)\n",
        "print (\"mel\")\n",
        "print (mel)\n",
        "print (\"contrast\")\n",
        "print (contrast)\n",
        "print (\"tonnetz\")\n",
        "print (tonnetz)"
      ],
      "execution_count": 0,
      "outputs": []
    },
    {
      "cell_type": "code",
      "metadata": {
        "id": "9OJ2LquBKG_p",
        "colab_type": "code",
        "colab": {}
      },
      "source": [
        "plt.figure(figsize=(10, 4))\n",
        "librosa.display.specshow(chroma, y_axis='chroma', x_axis='time')\n",
        "plt.colorbar()\n",
        "plt.title('Chromagram')\n",
        "plt.tight_layout()\n",
        "plt.show()"
      ],
      "execution_count": 0,
      "outputs": []
    }
  ]
}