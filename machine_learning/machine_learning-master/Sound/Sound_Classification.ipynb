{
  "nbformat": 4,
  "nbformat_minor": 0,
  "metadata": {
    "colab": {
      "name": "Untitled18.ipynb",
      "provenance": [],
      "collapsed_sections": [],
      "toc_visible": true,
      "include_colab_link": true
    },
    "kernelspec": {
      "name": "python3",
      "display_name": "Python 3"
    }
  },
  "cells": [
    {
      "cell_type": "markdown",
      "metadata": {
        "id": "view-in-github",
        "colab_type": "text"
      },
      "source": [
        "<a href=\"https://colab.research.google.com/github/deepanrajm/machine_learning/blob/master/Sound/Sound_Classification.ipynb\" target=\"_parent\"><img src=\"https://colab.research.google.com/assets/colab-badge.svg\" alt=\"Open In Colab\"/></a>"
      ]
    },
    {
      "cell_type": "markdown",
      "metadata": {
        "id": "a30EIrglF6s0"
      },
      "source": [
        "# **Sound Classification**"
      ]
    },
    {
      "cell_type": "code",
      "metadata": {
        "id": "NJyFhnJIIMh4"
      },
      "source": [
        "!git clone https://github.com/deepanrajm/machine_learning.git"
      ],
      "execution_count": null,
      "outputs": []
    },
    {
      "cell_type": "code",
      "metadata": {
        "id": "CaWawpVlF2-2"
      },
      "source": [
        "import os\n",
        "import librosa\n",
        "import numpy as np\n",
        "from sklearn.ensemble import RandomForestClassifier"
      ],
      "execution_count": 2,
      "outputs": []
    },
    {
      "cell_type": "code",
      "metadata": {
        "id": "P-qlrA-fH9cn"
      },
      "source": [
        "def decodeFolder(category):\n",
        "\tprint(\"Starting decoding folder \"+category+\" ...\")\n",
        "\tlistOfFiles = os.listdir(category)\n",
        "\tarrays_sound = np.empty((0,193))\n",
        "\tfor file in listOfFiles:\n",
        "\t\tfilename = os.path.join(category,file)\n",
        "\t\tfeatures_sound = extract_feature(filename)\n",
        "\t\tprint(len(features_sound))\n",
        "\t\tarrays_sound = np.vstack((arrays_sound,features_sound))\n",
        "\treturn arrays_sound"
      ],
      "execution_count": 3,
      "outputs": []
    },
    {
      "cell_type": "code",
      "metadata": {
        "id": "L149een5IAZA"
      },
      "source": [
        "def extract_feature(file_name):\n",
        "\tprint(\"Extracting \"+file_name+\" ...\")\n",
        "\tX, sample_rate = librosa.load(file_name)\n",
        "\tstft = np.abs(librosa.stft(X))\n",
        "\tmfccs = np.mean(librosa.feature.mfcc(y=X, sr=sample_rate, n_mfcc=40).T,axis=0)\n",
        "\tchroma = np.mean(librosa.feature.chroma_stft(S=stft, sr=sample_rate).T,axis=0)\n",
        "\tmel = np.mean(librosa.feature.melspectrogram(X, sr=sample_rate).T,axis=0)\n",
        "\tcontrast = np.mean(librosa.feature.spectral_contrast(S=stft, sr=sample_rate).T,axis=0)\n",
        "\ttonnetz = np.mean(librosa.feature.tonnetz(y=librosa.effects.harmonic(X),sr=sample_rate).T,axis=0)\n",
        "\treturn np.hstack((mfccs,chroma,mel,contrast,tonnetz))"
      ],
      "execution_count": 4,
      "outputs": []
    },
    {
      "cell_type": "code",
      "metadata": {
        "id": "AKhExdwgIEqp"
      },
      "source": [
        "normal_sounds = decodeFolder(\"machine_learning/Sound/normal\")\n",
        "normal_labels = [0 for items in normal_sounds]"
      ],
      "execution_count": null,
      "outputs": []
    },
    {
      "cell_type": "code",
      "metadata": {
        "id": "d7Fq5QENJb3h"
      },
      "source": [
        "murmur_sounds = decodeFolder(\"machine_learning/Sound/murmur\")\n",
        "murmur_labels = [1 for items in murmur_sounds]"
      ],
      "execution_count": null,
      "outputs": []
    },
    {
      "cell_type": "code",
      "metadata": {
        "id": "JggbJxdkJdXI"
      },
      "source": [
        "train_sounds = np.concatenate((normal_sounds, murmur_sounds))\n",
        "train_labels = np.concatenate((normal_labels, murmur_labels))"
      ],
      "execution_count": 7,
      "outputs": []
    },
    {
      "cell_type": "code",
      "metadata": {
        "id": "Q6LDMEmiIGeg"
      },
      "source": [
        "test_sound = decodeFolder(\"machine_learning/Sound/test\")"
      ],
      "execution_count": null,
      "outputs": []
    },
    {
      "cell_type": "code",
      "metadata": {
        "id": "VcUetz-oIIoz"
      },
      "source": [
        "clf =RandomForestClassifier(n_estimators = 50,random_state=42,criterion='gini')\n",
        "clf.fit(train_sounds,train_labels)\n",
        "print(\"training done\")\n",
        "print(clf.predict(test_sound))"
      ],
      "execution_count": null,
      "outputs": []
    }
  ]
}