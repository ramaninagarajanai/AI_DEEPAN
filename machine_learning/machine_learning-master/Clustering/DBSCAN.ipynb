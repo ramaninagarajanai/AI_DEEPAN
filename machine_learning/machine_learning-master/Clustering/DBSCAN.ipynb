{
  "nbformat": 4,
  "nbformat_minor": 0,
  "metadata": {
    "colab": {
      "name": "DBSCAN.ipynb",
      "provenance": [],
      "include_colab_link": true
    },
    "kernelspec": {
      "name": "python3",
      "display_name": "Python 3"
    },
    "language_info": {
      "name": "python"
    }
  },
  "cells": [
    {
      "cell_type": "markdown",
      "metadata": {
        "id": "view-in-github",
        "colab_type": "text"
      },
      "source": [
        "<a href=\"https://colab.research.google.com/github/deepanrajm/machine_learning/blob/master/Clustering/DBSCAN.ipynb\" target=\"_parent\"><img src=\"https://colab.research.google.com/assets/colab-badge.svg\" alt=\"Open In Colab\"/></a>"
      ]
    },
    {
      "cell_type": "code",
      "execution_count": 1,
      "metadata": {
        "id": "wMDM9FHi16BH"
      },
      "outputs": [],
      "source": [
        "import matplotlib.pyplot as plt\n",
        "import seaborn as sns\n",
        "import numpy as np\n",
        "from sklearn.cluster import DBSCAN\n",
        "from pandas import read_csv"
      ]
    },
    {
      "cell_type": "code",
      "source": [
        "sns.set()"
      ],
      "metadata": {
        "id": "Foof9xR42D_e"
      },
      "execution_count": 2,
      "outputs": []
    },
    {
      "cell_type": "code",
      "source": [
        "!git clone https://github.com/deepanrajm/machine_learning.git"
      ],
      "metadata": {
        "id": "IPINcu-PgkMz"
      },
      "execution_count": null,
      "outputs": []
    },
    {
      "cell_type": "code",
      "source": [
        "dataframe = read_csv(\"machine_learning/Classification/iris.csv\")\n",
        "dataframe.head()"
      ],
      "metadata": {
        "id": "XzTKtCd6_Hc0"
      },
      "execution_count": null,
      "outputs": []
    },
    {
      "cell_type": "code",
      "source": [
        "dataset = dataframe.values\n",
        "data = dataset[:,0:4].astype(float)"
      ],
      "metadata": {
        "id": "98S5fI6K_NJJ"
      },
      "execution_count": 5,
      "outputs": []
    },
    {
      "cell_type": "code",
      "source": [
        "model = DBSCAN(eps=0.5, min_samples=5)\n",
        "model.fit(data)"
      ],
      "metadata": {
        "id": "HvdJpRLq_PfT"
      },
      "execution_count": null,
      "outputs": []
    },
    {
      "cell_type": "code",
      "source": [
        "labels = model.labels_\n",
        "print(labels)"
      ],
      "metadata": {
        "id": "NvLroNgn_l3V"
      },
      "execution_count": null,
      "outputs": []
    },
    {
      "cell_type": "code",
      "source": [
        "num_clusters = len(set(labels))\n",
        "unique_labels = set(labels)"
      ],
      "metadata": {
        "id": "tGL3KC33_vnd"
      },
      "execution_count": 8,
      "outputs": []
    },
    {
      "cell_type": "code",
      "source": [
        "fig, ax = plt.subplots()\n",
        "colors = plt.cm.rainbow(np.linspace(0, 1, len(unique_labels)))\n",
        "\n",
        "for cluster_label, color in zip(unique_labels, colors):\n",
        "\n",
        "    size = 150\n",
        "    if cluster_label == -1:\n",
        "        color = 'black'\n",
        "        size = 30\n",
        "\n",
        "    x_coords = data[:, 0]\n",
        "    y_coords = data[:, 1]\n",
        "    ax.scatter(x=x_coords, y=y_coords, c=color, edgecolor='k', s=size, alpha=0.5)\n",
        "\n",
        "ax.set_title('Number of clusters: {}'.format(num_clusters))\n",
        "plt.show()"
      ],
      "metadata": {
        "id": "bzirsinK_6AZ"
      },
      "execution_count": null,
      "outputs": []
    }
  ]
}