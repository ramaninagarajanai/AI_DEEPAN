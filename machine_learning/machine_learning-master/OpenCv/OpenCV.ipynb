{
  "nbformat": 4,
  "nbformat_minor": 0,
  "metadata": {
    "colab": {
      "name": "Untitled16.ipynb",
      "provenance": [],
      "collapsed_sections": [],
      "include_colab_link": true
    },
    "kernelspec": {
      "name": "python3",
      "display_name": "Python 3"
    }
  },
  "cells": [
    {
      "cell_type": "markdown",
      "metadata": {
        "id": "view-in-github",
        "colab_type": "text"
      },
      "source": [
        "<a href=\"https://colab.research.google.com/github/deepanrajm/machine_learning/blob/master/OpenCv/OpenCV.ipynb\" target=\"_parent\"><img src=\"https://colab.research.google.com/assets/colab-badge.svg\" alt=\"Open In Colab\"/></a>"
      ]
    },
    {
      "cell_type": "code",
      "metadata": {
        "id": "9Q-m7zp54A3Y",
        "outputId": "b79ad236-3f3b-441e-c975-ac7876ace40c",
        "colab": {
          "base_uri": "https://localhost:8080/"
        }
      },
      "source": [
        "!git clone https://github.com/deepanrajm/machine_learning.git"
      ],
      "execution_count": null,
      "outputs": [
        {
          "output_type": "stream",
          "name": "stdout",
          "text": [
            "Cloning into 'machine_learning'...\n",
            "remote: Enumerating objects: 72618, done.\u001b[K\n",
            "remote: Counting objects: 100% (70126/70126), done.\u001b[K\n",
            "remote: Compressing objects: 100% (70112/70112), done.\u001b[K\n",
            "remote: Total 72618 (delta 43), reused 70062 (delta 11), pack-reused 2492\n",
            "Receiving objects: 100% (72618/72618), 121.90 MiB | 28.29 MiB/s, done.\n",
            "Resolving deltas: 100% (104/104), done.\n",
            "Checking out files: 100% (3005/3005), done.\n"
          ]
        }
      ]
    },
    {
      "cell_type": "code",
      "metadata": {
        "id": "t9db6mZqD-YT",
        "outputId": "7eeabd63-a65b-4036-a48d-6d6b41f6c289",
        "colab": {
          "base_uri": "https://localhost:8080/"
        }
      },
      "source": [
        "!pip install opencv-python==3.4.3.18"
      ],
      "execution_count": null,
      "outputs": [
        {
          "output_type": "stream",
          "name": "stdout",
          "text": [
            "Collecting opencv-python==3.4.3.18\n",
            "  Downloading opencv_python-3.4.3.18-cp37-cp37m-manylinux1_x86_64.whl (25.0 MB)\n",
            "\u001b[K     |████████████████████████████████| 25.0 MB 1.5 MB/s \n",
            "\u001b[?25hRequirement already satisfied: numpy>=1.14.5 in /usr/local/lib/python3.7/dist-packages (from opencv-python==3.4.3.18) (1.21.6)\n",
            "Installing collected packages: opencv-python\n",
            "  Attempting uninstall: opencv-python\n",
            "    Found existing installation: opencv-python 4.1.2.30\n",
            "    Uninstalling opencv-python-4.1.2.30:\n",
            "      Successfully uninstalled opencv-python-4.1.2.30\n",
            "\u001b[31mERROR: pip's dependency resolver does not currently take into account all the packages that are installed. This behaviour is the source of the following dependency conflicts.\n",
            "albumentations 0.1.12 requires imgaug<0.2.7,>=0.2.5, but you have imgaug 0.2.9 which is incompatible.\u001b[0m\n",
            "Successfully installed opencv-python-3.4.3.18\n"
          ]
        }
      ]
    },
    {
      "cell_type": "markdown",
      "metadata": {
        "id": "yvutERDc22WB"
      },
      "source": [
        "# **Load Display and Save the image**"
      ]
    },
    {
      "cell_type": "code",
      "metadata": {
        "id": "vEIY375s1jL9"
      },
      "source": [
        "import cv2\n",
        "from google.colab.patches import cv2_imshow\n",
        " \n",
        "# load the image and show some basic information on it\n",
        "image = cv2.imread(\"machine_learning/OpenCv/images/bb.JPG\")"
      ],
      "execution_count": null,
      "outputs": []
    },
    {
      "cell_type": "code",
      "metadata": {
        "id": "wek4tBjA2FbJ"
      },
      "source": [
        "# show the image\n",
        "#image= cv2.cvtColor(image, cv2.COLOR_BGR2RGB)\n",
        "cv2_imshow(image)"
      ],
      "execution_count": null,
      "outputs": []
    },
    {
      "cell_type": "code",
      "metadata": {
        "id": "zGizO4sK2UOF",
        "colab": {
          "base_uri": "https://localhost:8080/",
          "height": 34
        },
        "outputId": "d90f7ee5-4649-40a8-c4d2-ccabbe13da92"
      },
      "source": [
        "# save the image -- OpenCV handles converting file types automatically\n",
        "cv2.imwrite(\"big_boss_1.jpg\", image)"
      ],
      "execution_count": null,
      "outputs": [
        {
          "output_type": "execute_result",
          "data": {
            "text/plain": [
              "True"
            ]
          },
          "metadata": {
            "tags": []
          },
          "execution_count": 3
        }
      ]
    },
    {
      "cell_type": "markdown",
      "metadata": {
        "id": "hNI1j8hU29IT"
      },
      "source": [
        "# **Drawing Functions**"
      ]
    },
    {
      "cell_type": "code",
      "metadata": {
        "id": "3-gMSPx32z4R"
      },
      "source": [
        "import numpy as np"
      ],
      "execution_count": null,
      "outputs": []
    },
    {
      "cell_type": "code",
      "metadata": {
        "id": "yvGidjuN3AXt"
      },
      "source": [
        "canvas = np.ones((500, 500, 3), dtype=\"uint8\")*255"
      ],
      "execution_count": null,
      "outputs": []
    },
    {
      "cell_type": "code",
      "metadata": {
        "id": "JUB9-RBZ3C9h"
      },
      "source": [
        "black = (0, 0, 0)\n",
        "cv2.line(canvas, (0, 0), (400, 400), black,3)\n",
        "cv2_imshow(canvas)"
      ],
      "execution_count": null,
      "outputs": []
    },
    {
      "cell_type": "code",
      "metadata": {
        "id": "0SJXnG143IW3"
      },
      "source": [
        "red =[0,0,255]\n",
        "cv2.rectangle(canvas, (150, 100), (100, 225), red, 5)\n",
        "cv2_imshow(canvas)"
      ],
      "execution_count": null,
      "outputs": []
    },
    {
      "cell_type": "code",
      "metadata": {
        "id": "NR31ZJqi3SZF"
      },
      "source": [
        "green = (0, 255, 0)\n",
        "cv2.rectangle(canvas, (300, 50), (425, 125), green, -1)\n",
        "cv2_imshow(canvas)"
      ],
      "execution_count": null,
      "outputs": []
    },
    {
      "cell_type": "code",
      "metadata": {
        "id": "WvMVJ61l3W9p"
      },
      "source": [
        "canvas = np.zeros((500, 500, 3), dtype=\"uint8\")"
      ],
      "execution_count": null,
      "outputs": []
    },
    {
      "cell_type": "code",
      "metadata": {
        "id": "7Oy5xXVn3cBs"
      },
      "source": [
        "for i in range(0, 25):\n",
        "\t# randomly generate a radius size between 5 and 200, generate a random\n",
        "\t# color, and then pick a random point on our canvas where the circle\n",
        "\t# will be drawn\n",
        "\tradius = np.random.randint(5, high=300)\n",
        "\tcolor = np.random.randint(0, high=256, size = (3,)).tolist()\n",
        "\tpt = np.random.randint(0, high=400, size = (2,))\n",
        "\n",
        "\t# draw our random circle\n",
        "\tcv2.circle(canvas, tuple(pt), radius, color, -1)\n",
        "\n",
        "# Show our masterpiece\n",
        "cv2_imshow(canvas)"
      ],
      "execution_count": null,
      "outputs": []
    },
    {
      "cell_type": "markdown",
      "metadata": {
        "id": "-Y0CY0ed4ycb"
      },
      "source": [
        "# **Write Text on image**"
      ]
    },
    {
      "cell_type": "code",
      "metadata": {
        "id": "czCMewtX3w9d"
      },
      "source": [
        "image = cv2.imread(\"machine_learning/OpenCv/images/big_boss.JPG\")\n",
        "cv2.putText(image, 'Big Boss 2', (30, 30), cv2.FONT_HERSHEY_SIMPLEX, 0.8, (0, 255, 0), 2)\n",
        "cv2_imshow(image)"
      ],
      "execution_count": null,
      "outputs": []
    },
    {
      "cell_type": "markdown",
      "metadata": {
        "id": "cpxq1exF4v2q"
      },
      "source": [
        "# **Translate**"
      ]
    },
    {
      "cell_type": "code",
      "metadata": {
        "id": "WQks-khb4tv8"
      },
      "source": [
        "import imutils"
      ],
      "execution_count": null,
      "outputs": []
    },
    {
      "cell_type": "code",
      "metadata": {
        "id": "6d8JyaXx43i7"
      },
      "source": [
        "image = cv2.imread(\"machine_learning/OpenCv/images/minion.jpg\")\n",
        "cv2_imshow(image)"
      ],
      "execution_count": null,
      "outputs": []
    },
    {
      "cell_type": "code",
      "metadata": {
        "id": "EsozQOVd5EWv"
      },
      "source": [
        "shifted = imutils.translate(image, 0, 100)\n",
        "cv2_imshow(shifted)"
      ],
      "execution_count": null,
      "outputs": []
    },
    {
      "cell_type": "markdown",
      "metadata": {
        "id": "zJAoQN9t5Ogg"
      },
      "source": [
        "# **Rotate Image**"
      ]
    },
    {
      "cell_type": "code",
      "metadata": {
        "id": "zbG0gjaF5OPd"
      },
      "source": [
        "rotated = imutils.rotate(image, 180)\n",
        "cv2_imshow(rotated)"
      ],
      "execution_count": null,
      "outputs": []
    },
    {
      "cell_type": "markdown",
      "metadata": {
        "id": "cktUadUm5d8S"
      },
      "source": [
        "# **Crop image**"
      ]
    },
    {
      "cell_type": "code",
      "metadata": {
        "id": "QZD4igqf5fuD"
      },
      "source": [
        "crop = image[10:300,10:300]\n",
        "cv2_imshow(crop)"
      ],
      "execution_count": null,
      "outputs": []
    },
    {
      "cell_type": "markdown",
      "metadata": {
        "id": "bZCC5b2f5j_4"
      },
      "source": [
        "# **Resize without aspect Ratio**"
      ]
    },
    {
      "cell_type": "code",
      "metadata": {
        "id": "ZgwvT_Yg5nBj"
      },
      "source": [
        "resized = cv2.resize(image, (500,500))\n",
        "cv2_imshow(resized)"
      ],
      "execution_count": null,
      "outputs": []
    },
    {
      "cell_type": "markdown",
      "metadata": {
        "id": "5pUSP4-h5rRz"
      },
      "source": [
        "# **Resize with aspect Ration**"
      ]
    },
    {
      "cell_type": "code",
      "metadata": {
        "id": "NisqiW6z5t8w"
      },
      "source": [
        "resized = imutils.resize(image, width=500)\n",
        "cv2_imshow(resized)"
      ],
      "execution_count": null,
      "outputs": []
    },
    {
      "cell_type": "markdown",
      "metadata": {
        "id": "Ju9rz19V524R"
      },
      "source": [
        "# **Flipping**"
      ]
    },
    {
      "cell_type": "code",
      "metadata": {
        "id": "KKX4d00Y55mo"
      },
      "source": [
        "flipped = cv2.flip(image, 1)\n",
        "cv2_imshow(flipped)"
      ],
      "execution_count": null,
      "outputs": []
    },
    {
      "cell_type": "code",
      "metadata": {
        "id": "bUzCRuXQ58XP"
      },
      "source": [
        "flipped = cv2.flip(image, 0)\n",
        "cv2_imshow(flipped)"
      ],
      "execution_count": null,
      "outputs": []
    },
    {
      "cell_type": "code",
      "metadata": {
        "id": "pPu2PQ2P6ABy"
      },
      "source": [
        "flipped = cv2.flip(image, -1)\n",
        "cv2_imshow( flipped)"
      ],
      "execution_count": null,
      "outputs": []
    },
    {
      "cell_type": "markdown",
      "metadata": {
        "id": "qNrDGqVm6ImP"
      },
      "source": [
        "# **Bitwise Operation**"
      ]
    },
    {
      "cell_type": "code",
      "metadata": {
        "id": "XbigQef-6Kpx"
      },
      "source": [
        "rectangle = np.zeros((300, 300), dtype = \"uint8\")\n",
        "cv2.rectangle(rectangle, (25, 25), (275, 275), 255, -1)\n",
        "cv2_imshow(rectangle)"
      ],
      "execution_count": null,
      "outputs": []
    },
    {
      "cell_type": "code",
      "metadata": {
        "id": "yT_guSxw6QHd"
      },
      "source": [
        "circle = np.zeros((300, 300), dtype = \"uint8\")\n",
        "cv2.circle(circle, (150, 150), 150, 255, -1)\n",
        "cv2_imshow(circle)"
      ],
      "execution_count": null,
      "outputs": []
    },
    {
      "cell_type": "code",
      "metadata": {
        "id": "Lm3lU0JA6T2I"
      },
      "source": [
        "bitwiseAnd = cv2.bitwise_and(rectangle, circle)\n",
        "cv2_imshow(bitwiseAnd)"
      ],
      "execution_count": null,
      "outputs": []
    },
    {
      "cell_type": "code",
      "metadata": {
        "id": "9QmOODO_6W9c"
      },
      "source": [
        "bitwiseOr = cv2.bitwise_or(rectangle, circle)\n",
        "cv2_imshow(bitwiseOr)"
      ],
      "execution_count": null,
      "outputs": []
    },
    {
      "cell_type": "code",
      "metadata": {
        "id": "RP1W97iy6Z_2"
      },
      "source": [
        "bitwiseXor = cv2.bitwise_xor(rectangle, circle)\n",
        "cv2_imshow(bitwiseXor)"
      ],
      "execution_count": null,
      "outputs": []
    },
    {
      "cell_type": "code",
      "metadata": {
        "id": "hAV1tJur6dS7"
      },
      "source": [
        "bitwiseNot = cv2.bitwise_not(circle)\n",
        "cv2_imshow(bitwiseNot)"
      ],
      "execution_count": null,
      "outputs": []
    },
    {
      "cell_type": "markdown",
      "metadata": {
        "id": "nWsPFuLC6h55"
      },
      "source": [
        "# **Masking**"
      ]
    },
    {
      "cell_type": "code",
      "metadata": {
        "id": "auGvtyF16j0y"
      },
      "source": [
        "mask = np.zeros(image.shape[:2], dtype=\"uint8\")\n",
        "cv2.rectangle(mask, (452, 243), (690, 590), 255, -1)\n",
        "cv2_imshow( mask)"
      ],
      "execution_count": null,
      "outputs": []
    },
    {
      "cell_type": "code",
      "metadata": {
        "id": "-zT58GQf6tpH"
      },
      "source": [
        "masked = cv2.bitwise_and(image, image, mask=mask)\n",
        "cv2_imshow(masked)"
      ],
      "execution_count": null,
      "outputs": []
    },
    {
      "cell_type": "code",
      "metadata": {
        "id": "8AHQW6YI6zfQ"
      },
      "source": [
        "mask = np.zeros(image.shape[:2], dtype=\"uint8\")\n",
        "cv2.circle(mask, (585, 98), 50, 255, -1)\n",
        "masked = cv2.bitwise_and(image, image, mask=mask)\n",
        "cv2_imshow(mask)\n",
        "cv2_imshow(masked)"
      ],
      "execution_count": null,
      "outputs": []
    },
    {
      "cell_type": "markdown",
      "metadata": {
        "id": "dcKqEWC07AWH"
      },
      "source": [
        "# **Smoothing and Blurring**"
      ]
    },
    {
      "cell_type": "markdown",
      "metadata": {
        "id": "UVSpqw687PGt"
      },
      "source": [
        "**Average Blurr**"
      ]
    },
    {
      "cell_type": "code",
      "metadata": {
        "id": "XrPuUFKR7CXr"
      },
      "source": [
        "blurred = cv2.blur(image, (3, 3))\n",
        "cv2_imshow(blurred)"
      ],
      "execution_count": null,
      "outputs": []
    },
    {
      "cell_type": "markdown",
      "metadata": {
        "id": "x8kD_i1u7RQi"
      },
      "source": [
        "**Gaussian Blur**"
      ]
    },
    {
      "cell_type": "code",
      "metadata": {
        "id": "9q69pszk7TFs"
      },
      "source": [
        "blurred = cv2.GaussianBlur(image, (3, 3), 0)\n",
        "cv2_imshow(blurred)"
      ],
      "execution_count": null,
      "outputs": []
    },
    {
      "cell_type": "markdown",
      "metadata": {
        "id": "IPX1tWf47Zs-"
      },
      "source": [
        "**Median Blur**"
      ]
    },
    {
      "cell_type": "code",
      "metadata": {
        "id": "uBgmydZk7a3A"
      },
      "source": [
        "blurred = cv2.medianBlur(image, 3)\n",
        "cv2_imshow(blurred)"
      ],
      "execution_count": null,
      "outputs": []
    },
    {
      "cell_type": "markdown",
      "metadata": {
        "id": "3PNsToXa7sGi"
      },
      "source": [
        "# **Thresholding**"
      ]
    },
    {
      "cell_type": "code",
      "metadata": {
        "id": "fylar-4f7w3d"
      },
      "source": [
        "image = cv2.imread(\"machine_learning/OpenCv/images/opencv_logo.png\")\n",
        "blurred = cv2.cvtColor(image, cv2.COLOR_BGR2GRAY)\n",
        "cv2_imshow(image)"
      ],
      "execution_count": null,
      "outputs": []
    },
    {
      "cell_type": "code",
      "metadata": {
        "id": "tEn8kIjS8DW3"
      },
      "source": [
        "# check; if a pixel value is greater than our threshold (in this\n",
        "# case, 200), we set it to be BLACK, otherwise it is WHITE.\n",
        "(T, threshInv) = cv2.threshold(blurred, 100, 255, cv2.THRESH_BINARY_INV)\n",
        "cv2_imshow(threshInv)"
      ],
      "execution_count": null,
      "outputs": []
    },
    {
      "cell_type": "code",
      "metadata": {
        "id": "jFds8bqv8HXo"
      },
      "source": [
        "(T, thresh) = cv2.threshold(blurred, 100, 255, cv2.THRESH_BINARY)\n",
        "cv2_imshow(thresh)"
      ],
      "execution_count": null,
      "outputs": []
    },
    {
      "cell_type": "code",
      "metadata": {
        "id": "wqXEa5lO8NTj"
      },
      "source": [
        "cv2_imshow(cv2.bitwise_and(image, image, mask=threshInv))"
      ],
      "execution_count": null,
      "outputs": []
    },
    {
      "cell_type": "markdown",
      "metadata": {
        "id": "Mo_qNGCL8d1T"
      },
      "source": [
        "**Otsu Thresholding**"
      ]
    },
    {
      "cell_type": "code",
      "metadata": {
        "id": "5vcZ2rsX8f7D"
      },
      "source": [
        "(T, threshInv) = cv2.threshold(blurred, 0, 255,cv2.THRESH_BINARY_INV | cv2.THRESH_OTSU)\n",
        "cv2_imshow(threshInv)"
      ],
      "execution_count": null,
      "outputs": []
    },
    {
      "cell_type": "code",
      "metadata": {
        "id": "bmdpA6vH8l6P"
      },
      "source": [
        "cv2_imshow(cv2.bitwise_and(image, image, mask=threshInv))"
      ],
      "execution_count": null,
      "outputs": []
    },
    {
      "cell_type": "markdown",
      "source": [
        "# Gradients"
      ],
      "metadata": {
        "id": "KISNe11e2Pnc"
      }
    },
    {
      "cell_type": "code",
      "source": [
        "image = cv2.imread(\"machine_learning/OpenCv/images/bricks.png\",0)\n",
        "cv2_imshow(image)"
      ],
      "metadata": {
        "id": "BaGKKznq-4b0"
      },
      "execution_count": null,
      "outputs": []
    },
    {
      "cell_type": "code",
      "source": [
        "gX = cv2.Sobel(image, ddepth=cv2.CV_64F, dx=1, dy=0)\n",
        "gY = cv2.Sobel(image, ddepth=cv2.CV_64F, dx=0, dy=1)\n",
        "\n",
        "gX = cv2.convertScaleAbs(gX)\n",
        "gY = cv2.convertScaleAbs(gY)\n",
        "\n",
        "sobelCombined = cv2.addWeighted(gX, 0.5, gY, 0.5, 0)\n",
        "\n",
        "cv2_imshow(gX)\n",
        "cv2_imshow(gY)\n",
        "cv2_imshow(sobelCombined)"
      ],
      "metadata": {
        "id": "OtzwQYFe2Rio"
      },
      "execution_count": null,
      "outputs": []
    },
    {
      "cell_type": "markdown",
      "source": [
        "# Edge"
      ],
      "metadata": {
        "id": "jy7m5dTN-8x5"
      }
    },
    {
      "cell_type": "code",
      "source": [
        "image = cv2.imread(\"machine_learning/OpenCv/images/license_plate.png\")"
      ],
      "metadata": {
        "id": "P20XkwhGC2ma"
      },
      "execution_count": null,
      "outputs": []
    },
    {
      "cell_type": "code",
      "source": [
        "wide = cv2.Canny(image, 10, 200)\n",
        "cv2_imshow(wide)"
      ],
      "metadata": {
        "id": "zZIiwyL1CsQY"
      },
      "execution_count": null,
      "outputs": []
    },
    {
      "cell_type": "code",
      "source": [
        "mid = cv2.Canny(image, 30, 150)\n",
        "cv2_imshow(mid)"
      ],
      "metadata": {
        "id": "Elie45I2DA-4"
      },
      "execution_count": null,
      "outputs": []
    },
    {
      "cell_type": "code",
      "source": [
        "tight = cv2.Canny(image, 245, 254)\n",
        "cv2_imshow(tight)"
      ],
      "metadata": {
        "id": "N8c7iN_tDEGw"
      },
      "execution_count": null,
      "outputs": []
    },
    {
      "cell_type": "code",
      "source": [
        "auto = imutils.auto_canny(image)\n",
        "cv2_imshow(auto)"
      ],
      "metadata": {
        "id": "gAXE_3ZQDKE3"
      },
      "execution_count": null,
      "outputs": []
    },
    {
      "cell_type": "markdown",
      "metadata": {
        "id": "joU9hz9u84KF"
      },
      "source": [
        "# **Contour**"
      ]
    },
    {
      "cell_type": "code",
      "metadata": {
        "id": "iDxwyFRV86-A"
      },
      "source": [
        "image = cv2.imread(\"machine_learning/OpenCv/images/basic_shapes.png\")\n",
        "gray = cv2.cvtColor(image, cv2.COLOR_BGR2GRAY)\n",
        "cv2_imshow(image)"
      ],
      "execution_count": null,
      "outputs": []
    },
    {
      "cell_type": "markdown",
      "metadata": {
        "id": "9SGnVky59Vfq"
      },
      "source": [
        "**Internal contour**"
      ]
    },
    {
      "cell_type": "code",
      "metadata": {
        "id": "6vDH8vRG9MQh"
      },
      "source": [
        "cnts = cv2.findContours(gray.copy(), cv2.RETR_LIST, cv2.CHAIN_APPROX_SIMPLE)\n",
        "cnts = cnts[0] if imutils.is_cv2() else cnts[1]\n",
        "clone = image.copy()\n",
        "cv2.drawContours(clone, cnts, -1, (0, 255, 0), 2)"
      ],
      "execution_count": null,
      "outputs": []
    },
    {
      "cell_type": "code",
      "metadata": {
        "id": "9xvVcy5N9N7h"
      },
      "source": [
        "cv2_imshow(clone)"
      ],
      "execution_count": null,
      "outputs": []
    },
    {
      "cell_type": "markdown",
      "metadata": {
        "id": "_vL7nCCP9YdY"
      },
      "source": [
        "**External Contour**"
      ]
    },
    {
      "cell_type": "code",
      "metadata": {
        "id": "AJ5JyLVr9Urw"
      },
      "source": [
        "cnts = cv2.findContours(gray.copy(), cv2.RETR_EXTERNAL, cv2.CHAIN_APPROX_SIMPLE)\n",
        "cnts = cnts[0] if imutils.is_cv2() else cnts[1]\n",
        "cv2.drawContours(clone, cnts, -1, (0, 255, 0), 2)"
      ],
      "execution_count": null,
      "outputs": []
    },
    {
      "cell_type": "code",
      "metadata": {
        "id": "dxCTp4GY9ek6"
      },
      "source": [
        "for c in cnts:\n",
        "\t# construct a mask by drawing only the current contour\n",
        "\tmask = np.zeros(gray.shape, dtype=\"uint8\")\n",
        "\tcv2.drawContours(mask, [c], -1, 255, -1)\n",
        "\n",
        "\t# show the images\n",
        "\t#cv2.imshow(\"Image\", image)\n",
        "\t#cv2.imshow(\"Mask\", mask)\n",
        "\tcv2_imshow(cv2.bitwise_and(image, image, mask=mask))"
      ],
      "execution_count": null,
      "outputs": []
    },
    {
      "cell_type": "markdown",
      "metadata": {
        "id": "0g_q10_P9sBG"
      },
      "source": [
        "# **License Plate Detection**"
      ]
    },
    {
      "cell_type": "code",
      "metadata": {
        "id": "q2rl9zil9u9S"
      },
      "source": [
        "image = cv2.imread(\"machine_learning/OpenCv/images/1.jpg\")\n",
        "image = imutils.resize(image, width=500)\n",
        "gray = cv2.cvtColor(image, cv2.COLOR_BGR2GRAY)"
      ],
      "execution_count": null,
      "outputs": []
    },
    {
      "cell_type": "code",
      "metadata": {
        "id": "GgBFimFd95x-"
      },
      "source": [
        "cv2_imshow(image)"
      ],
      "execution_count": null,
      "outputs": []
    },
    {
      "cell_type": "code",
      "metadata": {
        "id": "z9hsqx4j98eg"
      },
      "source": [
        "(T, threshInv) = cv2.threshold(gray, 0, 255,cv2.THRESH_BINARY_INV | cv2.THRESH_OTSU)\n",
        "cv2_imshow(threshInv)"
      ],
      "execution_count": null,
      "outputs": []
    },
    {
      "cell_type": "code",
      "metadata": {
        "id": "7gFnNGZB9gn9"
      },
      "source": [
        "cnts = cv2.findContours(threshInv.copy(), cv2.RETR_LIST, cv2.CHAIN_APPROX_SIMPLE)\n",
        "cnts = cnts[0] if imutils.is_cv2() else cnts[1]\n",
        "clone = image.copy()\n",
        "\n",
        "for cnt in cnts:\n",
        "\tx,y,w,h = cv2.boundingRect(cnt)\n",
        "\t\n",
        "\tif (w<120 and w>90 and h<70 and h>30):\n",
        "\t\tprint (x,y,w,h)\n",
        "\t\tcv2.rectangle(image,(x,y),(x+w,y+h),(0,255,0),2)\n",
        "\t\tcv2_imshow(image)"
      ],
      "execution_count": null,
      "outputs": []
    },
    {
      "cell_type": "code",
      "source": [
        "(T, threshInv) = cv2.threshold(gray, 0, 255,cv2.THRESH_BINARY_INV | cv2.THRESH_OTSU)\n",
        "cv2_imshow(threshInv)\n",
        "\n",
        "threshInv = cv2.erode(threshInv,kernel, iterations=3)\n",
        "cv2_imshow(threshInv)"
      ],
      "metadata": {
        "id": "DkGez4QeVK7D"
      },
      "execution_count": null,
      "outputs": []
    },
    {
      "cell_type": "code",
      "source": [
        "threshInv = cv2.dilate(threshInv, kernel, iterations=3)\n",
        "cv2_imshow(threshInv)"
      ],
      "metadata": {
        "id": "ufTaisTLVa6n"
      },
      "execution_count": null,
      "outputs": []
    }
  ]
}