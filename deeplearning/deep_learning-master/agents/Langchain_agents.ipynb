{
  "cells": [
    {
      "cell_type": "markdown",
      "id": "2ef6f457",
      "metadata": {
        "id": "2ef6f457"
      },
      "source": [
        "Install Dependencies"
      ]
    },
    {
      "cell_type": "markdown",
      "id": "2ab4bf67",
      "metadata": {
        "id": "2ab4bf67"
      },
      "source": [
        "Connect to LLM"
      ]
    },
    {
      "cell_type": "code",
      "source": [
        "!pip install langchain_community"
      ],
      "metadata": {
        "colab": {
          "base_uri": "https://localhost:8080/"
        },
        "id": "E9mdhKB6nzzj",
        "outputId": "5c549703-5bf5-4aef-da87-477b832b5728"
      },
      "id": "E9mdhKB6nzzj",
      "execution_count": 21,
      "outputs": [
        {
          "output_type": "stream",
          "name": "stdout",
          "text": [
            "Requirement already satisfied: langchain_community in /usr/local/lib/python3.12/dist-packages (0.3.29)\n",
            "Requirement already satisfied: langchain-core<2.0.0,>=0.3.75 in /usr/local/lib/python3.12/dist-packages (from langchain_community) (0.3.75)\n",
            "Requirement already satisfied: langchain<2.0.0,>=0.3.27 in /usr/local/lib/python3.12/dist-packages (from langchain_community) (0.3.27)\n",
            "Requirement already satisfied: SQLAlchemy<3,>=1.4 in /usr/local/lib/python3.12/dist-packages (from langchain_community) (2.0.43)\n",
            "Requirement already satisfied: requests<3,>=2.32.5 in /usr/local/lib/python3.12/dist-packages (from langchain_community) (2.32.5)\n",
            "Requirement already satisfied: PyYAML>=5.3 in /usr/local/lib/python3.12/dist-packages (from langchain_community) (6.0.2)\n",
            "Requirement already satisfied: aiohttp<4.0.0,>=3.8.3 in /usr/local/lib/python3.12/dist-packages (from langchain_community) (3.12.15)\n",
            "Requirement already satisfied: tenacity!=8.4.0,<10,>=8.1.0 in /usr/local/lib/python3.12/dist-packages (from langchain_community) (8.5.0)\n",
            "Requirement already satisfied: dataclasses-json<0.7,>=0.6.7 in /usr/local/lib/python3.12/dist-packages (from langchain_community) (0.6.7)\n",
            "Requirement already satisfied: pydantic-settings<3.0.0,>=2.10.1 in /usr/local/lib/python3.12/dist-packages (from langchain_community) (2.10.1)\n",
            "Requirement already satisfied: langsmith>=0.1.125 in /usr/local/lib/python3.12/dist-packages (from langchain_community) (0.4.16)\n",
            "Requirement already satisfied: httpx-sse<1.0.0,>=0.4.0 in /usr/local/lib/python3.12/dist-packages (from langchain_community) (0.4.1)\n",
            "Requirement already satisfied: numpy>=1.26.2 in /usr/local/lib/python3.12/dist-packages (from langchain_community) (2.0.2)\n",
            "Requirement already satisfied: aiohappyeyeballs>=2.5.0 in /usr/local/lib/python3.12/dist-packages (from aiohttp<4.0.0,>=3.8.3->langchain_community) (2.6.1)\n",
            "Requirement already satisfied: aiosignal>=1.4.0 in /usr/local/lib/python3.12/dist-packages (from aiohttp<4.0.0,>=3.8.3->langchain_community) (1.4.0)\n",
            "Requirement already satisfied: attrs>=17.3.0 in /usr/local/lib/python3.12/dist-packages (from aiohttp<4.0.0,>=3.8.3->langchain_community) (25.3.0)\n",
            "Requirement already satisfied: frozenlist>=1.1.1 in /usr/local/lib/python3.12/dist-packages (from aiohttp<4.0.0,>=3.8.3->langchain_community) (1.7.0)\n",
            "Requirement already satisfied: multidict<7.0,>=4.5 in /usr/local/lib/python3.12/dist-packages (from aiohttp<4.0.0,>=3.8.3->langchain_community) (6.6.4)\n",
            "Requirement already satisfied: propcache>=0.2.0 in /usr/local/lib/python3.12/dist-packages (from aiohttp<4.0.0,>=3.8.3->langchain_community) (0.3.2)\n",
            "Requirement already satisfied: yarl<2.0,>=1.17.0 in /usr/local/lib/python3.12/dist-packages (from aiohttp<4.0.0,>=3.8.3->langchain_community) (1.20.1)\n",
            "Requirement already satisfied: marshmallow<4.0.0,>=3.18.0 in /usr/local/lib/python3.12/dist-packages (from dataclasses-json<0.7,>=0.6.7->langchain_community) (3.26.1)\n",
            "Requirement already satisfied: typing-inspect<1,>=0.4.0 in /usr/local/lib/python3.12/dist-packages (from dataclasses-json<0.7,>=0.6.7->langchain_community) (0.9.0)\n",
            "Requirement already satisfied: langchain-text-splitters<1.0.0,>=0.3.9 in /usr/local/lib/python3.12/dist-packages (from langchain<2.0.0,>=0.3.27->langchain_community) (0.3.9)\n",
            "Requirement already satisfied: pydantic<3.0.0,>=2.7.4 in /usr/local/lib/python3.12/dist-packages (from langchain<2.0.0,>=0.3.27->langchain_community) (2.11.7)\n",
            "Requirement already satisfied: jsonpatch<2.0,>=1.33 in /usr/local/lib/python3.12/dist-packages (from langchain-core<2.0.0,>=0.3.75->langchain_community) (1.33)\n",
            "Requirement already satisfied: typing-extensions>=4.7 in /usr/local/lib/python3.12/dist-packages (from langchain-core<2.0.0,>=0.3.75->langchain_community) (4.15.0)\n",
            "Requirement already satisfied: packaging>=23.2 in /usr/local/lib/python3.12/dist-packages (from langchain-core<2.0.0,>=0.3.75->langchain_community) (25.0)\n",
            "Requirement already satisfied: httpx<1,>=0.23.0 in /usr/local/lib/python3.12/dist-packages (from langsmith>=0.1.125->langchain_community) (0.28.1)\n",
            "Requirement already satisfied: orjson>=3.9.14 in /usr/local/lib/python3.12/dist-packages (from langsmith>=0.1.125->langchain_community) (3.11.2)\n",
            "Requirement already satisfied: requests-toolbelt>=1.0.0 in /usr/local/lib/python3.12/dist-packages (from langsmith>=0.1.125->langchain_community) (1.0.0)\n",
            "Requirement already satisfied: zstandard>=0.23.0 in /usr/local/lib/python3.12/dist-packages (from langsmith>=0.1.125->langchain_community) (0.24.0)\n",
            "Requirement already satisfied: python-dotenv>=0.21.0 in /usr/local/lib/python3.12/dist-packages (from pydantic-settings<3.0.0,>=2.10.1->langchain_community) (1.1.1)\n",
            "Requirement already satisfied: typing-inspection>=0.4.0 in /usr/local/lib/python3.12/dist-packages (from pydantic-settings<3.0.0,>=2.10.1->langchain_community) (0.4.1)\n",
            "Requirement already satisfied: charset_normalizer<4,>=2 in /usr/local/lib/python3.12/dist-packages (from requests<3,>=2.32.5->langchain_community) (3.4.3)\n",
            "Requirement already satisfied: idna<4,>=2.5 in /usr/local/lib/python3.12/dist-packages (from requests<3,>=2.32.5->langchain_community) (3.10)\n",
            "Requirement already satisfied: urllib3<3,>=1.21.1 in /usr/local/lib/python3.12/dist-packages (from requests<3,>=2.32.5->langchain_community) (2.5.0)\n",
            "Requirement already satisfied: certifi>=2017.4.17 in /usr/local/lib/python3.12/dist-packages (from requests<3,>=2.32.5->langchain_community) (2025.8.3)\n",
            "Requirement already satisfied: greenlet>=1 in /usr/local/lib/python3.12/dist-packages (from SQLAlchemy<3,>=1.4->langchain_community) (3.2.4)\n",
            "Requirement already satisfied: anyio in /usr/local/lib/python3.12/dist-packages (from httpx<1,>=0.23.0->langsmith>=0.1.125->langchain_community) (4.10.0)\n",
            "Requirement already satisfied: httpcore==1.* in /usr/local/lib/python3.12/dist-packages (from httpx<1,>=0.23.0->langsmith>=0.1.125->langchain_community) (1.0.9)\n",
            "Requirement already satisfied: h11>=0.16 in /usr/local/lib/python3.12/dist-packages (from httpcore==1.*->httpx<1,>=0.23.0->langsmith>=0.1.125->langchain_community) (0.16.0)\n",
            "Requirement already satisfied: jsonpointer>=1.9 in /usr/local/lib/python3.12/dist-packages (from jsonpatch<2.0,>=1.33->langchain-core<2.0.0,>=0.3.75->langchain_community) (3.0.0)\n",
            "Requirement already satisfied: annotated-types>=0.6.0 in /usr/local/lib/python3.12/dist-packages (from pydantic<3.0.0,>=2.7.4->langchain<2.0.0,>=0.3.27->langchain_community) (0.7.0)\n",
            "Requirement already satisfied: pydantic-core==2.33.2 in /usr/local/lib/python3.12/dist-packages (from pydantic<3.0.0,>=2.7.4->langchain<2.0.0,>=0.3.27->langchain_community) (2.33.2)\n",
            "Requirement already satisfied: mypy-extensions>=0.3.0 in /usr/local/lib/python3.12/dist-packages (from typing-inspect<1,>=0.4.0->dataclasses-json<0.7,>=0.6.7->langchain_community) (1.1.0)\n",
            "Requirement already satisfied: sniffio>=1.1 in /usr/local/lib/python3.12/dist-packages (from anyio->httpx<1,>=0.23.0->langsmith>=0.1.125->langchain_community) (1.3.1)\n"
          ]
        }
      ]
    },
    {
      "cell_type": "code",
      "execution_count": 22,
      "id": "c892c928",
      "metadata": {
        "id": "c892c928"
      },
      "outputs": [],
      "source": [
        "# from langchain.chat_models import ChatOpenAI\n",
        "\n",
        "# llm = ChatOpenAI(openai_api_base = \"http://localhost:1234/v1\", openai_api_key = \"lm_studio\", model = \"qwen3-0.6b\",temperature=0.8,model_kwargs={\"seed\": 42}) #max_tokens=100"
      ]
    },
    {
      "cell_type": "code",
      "execution_count": 29,
      "id": "912dec38",
      "metadata": {
        "id": "912dec38"
      },
      "outputs": [],
      "source": [
        "from langchain.chat_models import ChatOpenAI\n",
        "\n",
        "llm = ChatOpenAI(openai_api_base = \"https://openrouter.ai/api/v1\", openai_api_key = \"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\", model = \"deepseek/deepseek-chat-v3.1:free\",temperature=0.9) #max_tokens=100"
      ]
    },
    {
      "cell_type": "code",
      "execution_count": 24,
      "id": "53e0d1a1",
      "metadata": {
        "id": "53e0d1a1"
      },
      "outputs": [],
      "source": [
        "# from langchain_community.llms import Ollama\n",
        "# llm = Ollama(model=\"llama3.2:1b\")"
      ]
    },
    {
      "cell_type": "markdown",
      "id": "35faadf7",
      "metadata": {
        "id": "35faadf7"
      },
      "source": [
        "Remove thinking Section"
      ]
    },
    {
      "cell_type": "code",
      "execution_count": 25,
      "id": "5b285f70",
      "metadata": {
        "id": "5b285f70"
      },
      "outputs": [],
      "source": [
        "import re\n",
        "\n",
        "def remove_think_sections(text):\n",
        "    return re.sub(r\"<think>.*?</think>\", \"\", text)"
      ]
    },
    {
      "cell_type": "markdown",
      "id": "b238887b",
      "metadata": {
        "id": "b238887b"
      },
      "source": [
        "Agents"
      ]
    },
    {
      "cell_type": "code",
      "execution_count": 26,
      "id": "0d42278a",
      "metadata": {
        "colab": {
          "base_uri": "https://localhost:8080/"
        },
        "id": "0d42278a",
        "outputId": "b8229e08-4f62-48df-aba3-e10b5fe9cce9"
      },
      "outputs": [
        {
          "output_type": "stream",
          "name": "stdout",
          "text": [
            "Requirement already satisfied: google-search-results in /usr/local/lib/python3.12/dist-packages (2.4.2)\n",
            "Requirement already satisfied: requests in /usr/local/lib/python3.12/dist-packages (from google-search-results) (2.32.5)\n",
            "Requirement already satisfied: charset_normalizer<4,>=2 in /usr/local/lib/python3.12/dist-packages (from requests->google-search-results) (3.4.3)\n",
            "Requirement already satisfied: idna<4,>=2.5 in /usr/local/lib/python3.12/dist-packages (from requests->google-search-results) (3.10)\n",
            "Requirement already satisfied: urllib3<3,>=1.21.1 in /usr/local/lib/python3.12/dist-packages (from requests->google-search-results) (2.5.0)\n",
            "Requirement already satisfied: certifi>=2017.4.17 in /usr/local/lib/python3.12/dist-packages (from requests->google-search-results) (2025.8.3)\n"
          ]
        }
      ],
      "source": [
        "!pip install google-search-results"
      ]
    },
    {
      "cell_type": "code",
      "execution_count": 4,
      "id": "f6512e61",
      "metadata": {
        "colab": {
          "base_uri": "https://localhost:8080/"
        },
        "id": "f6512e61",
        "outputId": "429010cb-8c61-4b3e-92ba-8ec49e661aa5"
      },
      "outputs": [
        {
          "output_type": "stream",
          "name": "stdout",
          "text": [
            "Requirement already satisfied: numexpr in /usr/local/lib/python3.12/dist-packages (2.11.0)\n",
            "Requirement already satisfied: numpy>=1.23.0 in /usr/local/lib/python3.12/dist-packages (from numexpr) (2.0.2)\n"
          ]
        }
      ],
      "source": [
        "!pip install numexpr"
      ]
    },
    {
      "cell_type": "code",
      "execution_count": 31,
      "id": "2dad9c45",
      "metadata": {
        "colab": {
          "base_uri": "https://localhost:8080/"
        },
        "id": "2dad9c45",
        "outputId": "60b3852a-de55-4177-c366-f93a4c7e16c8"
      },
      "outputs": [
        {
          "output_type": "stream",
          "name": "stdout",
          "text": [
            "\n",
            "\n",
            "\u001b[1m> Entering new AgentExecutor chain...\u001b[0m\n",
            "\u001b[32;1m\u001b[1;3mThought: I need to find the current Bitcoin price and then convert it to Indian Rupees (INR). First, I'll search for the current Bitcoin price in USD, then use a calculator to convert that amount to INR based on the current USD to INR exchange rate.\n",
            "\n",
            "Action:\n",
            "```\n",
            "{\n",
            "  \"action\": \"Search\",\n",
            "  \"action_input\": \"current Bitcoin price in USD\"\n",
            "}\n",
            "```\n",
            "\u001b[0m\n",
            "Observation: \u001b[36;1m\u001b[1;3m108,779.40\u001b[0m\n",
            "Thought:\u001b[32;1m\u001b[1;3mThought: I have the current Bitcoin price in USD, which is $108,779.40. Now I need to convert this amount to Indian Rupees (INR). I should search for the current USD to INR exchange rate to perform the conversion.\n",
            "\n",
            "Action:\n",
            "```\n",
            "{\n",
            "  \"action\": \"Search\",\n",
            "  \"action_input\": \"current USD to INR exchange rate\"\n",
            "}\n",
            "```\u001b[0m\n",
            "Observation: \u001b[36;1m\u001b[1;3m88.15 Indian Rupee\u001b[0m\n",
            "Thought:\u001b[32;1m\u001b[1;3mThought: I now have both the Bitcoin price in USD ($108,779.40) and the USD to INR exchange rate (1 USD = 88.15 INR). I can use the calculator to multiply the Bitcoin price by the exchange rate to get the price in INR.\n",
            "\n",
            "Action:\n",
            "```\n",
            "{\n",
            "  \"action\": \"Calculator\",\n",
            "  \"action_input\": \"108779.40 * 88.15\"\n",
            "}\n",
            "```\n",
            "\n",
            "\u001b[0m\n",
            "Observation: \u001b[33;1m\u001b[1;3mAnswer: 9588904.11\u001b[0m\n",
            "Thought:\u001b[32;1m\u001b[1;3mThought: I now have the converted Bitcoin price in INR. The calculation shows that $108,779.40 USD is equivalent to approximately 9,588,904.11 INR at the current exchange rate.\n",
            "\n",
            "Final Answer: The current Bitcoin price is approximately $108,779.40 USD, which is equivalent to about ₹9,588,904.11 INR.\u001b[0m\n",
            "\n",
            "\u001b[1m> Finished chain.\u001b[0m\n",
            "The current Bitcoin price is approximately $108,779.40 USD, which is equivalent to about ₹9,588,904.11 INR.\n",
            "\n",
            "\n",
            "\u001b[1m> Entering new AgentExecutor chain...\u001b[0m\n",
            "\u001b[32;1m\u001b[1;3mQuestion: Who build tajmajal  \n",
            "Thought: The user is asking about who built the Taj Mahal. I should use the search tool to find accurate and current information about this historical monument.\n",
            "\n",
            "Action:\n",
            "```\n",
            "{\n",
            "  \"action\": \"Search\",\n",
            "  \"action_input\": \"Who built the Taj Mahal\"\n",
            "}\n",
            "```\u001b[0m\n",
            "Observation: \u001b[36;1m\u001b[1;3m[\"Ustad Ahmad Lahori, also known as Ahmad Ma'mar Lahori, was an architect and engineer of the Mughal Empire who served as the chief architect during the reign of Shah Jahan.\", 'Ustad Ahmad Lahori type: Architect.', 'Ustad Ahmad Lahori entity_type: people.', 'Ustad Ahmad Lahori kgmid: /m/03c033w.', 'Ustad Ahmad Lahori born: Lahore, Pakistan.', 'Ustad Ahmad Lahori died: 1649, India.', 'Ustad Ahmad Lahori descendants: Lutfullah Muhandis, Ataullah Rashidi.', 'Ustad Ahmad Lahori structures: Taj Mahal.', 'Ustad Ahmad Lahori nationality: Afghan.', 'The Taj Mahal was commissioned by Shah Jahan in 1631, to be built in the memory of his wife Mumtaz Mahal, who died on 17 June that year while giving birth to ...', 'It was built by Mughal Emperor Shah Jahan in memory of his wife Mumtaz Mahal ... Ustad-Ahmad Lahori was the main architect of the Taj Mahal. The Taj Mahal is ...', 'The Taj Mahal, an immense mausoleum of white marble, built in Agra between 1631 and 1648 by order of the Mughal Emperor Shah Jahan, is the jewel of Muslim art ...', 'The Taj Mahal was built by the Mughal emperor Shah Jahan (reigned 1628–58) to immortalize his empress consort Mumtaz Mahal (“Beloved Ornament of ...', 'Shah Jahan built the Taj Mahal in Agra, where he took the throne in 1628. First conquered by Muslim invaders in the eleventh century, the city had been ...', 'It was built by the fifth Mughal emperor, Shah Jahan in 1631 in memory of his third but the most favourite wife, in fact a soul-mate Mumtaz Mahal, a Muslim ...', 'The distraught Mughal Emperor Shah Jahan commissioned the project upon the death of one of his favorite wives Mumtaz Mahal. Mausoleum of the Taj Mahal complex ...', 'Entrusted to a board-of-architects by the Emperor Shah Jahan, the construction of the Taj Complex began about 1631 AD.', 'The grand Taj Mahal was built by Mughal emperor Shah Jahan, according to one popular legend, to remember the love he shared with his favorite wife, Mumtaz ...']\u001b[0m\n",
            "Thought:\u001b[32;1m\u001b[1;3mThought: The search results indicate that the Taj Mahal was commissioned by Mughal Emperor Shah Jahan in memory of his wife Mumtaz Mahal. The chief architect was Ustad Ahmad Lahori. I now have enough information to provide a clear and accurate answer.\n",
            "\n",
            "Final Answer: The Taj Mahal was built by Mughal Emperor Shah Jahan in memory of his wife Mumtaz Mahal. The chief architect was Ustad Ahmad Lahori. Construction took place between 1631 and 1648 in Agra, India.\u001b[0m\n",
            "\n",
            "\u001b[1m> Finished chain.\u001b[0m\n",
            "The Taj Mahal was built by Mughal Emperor Shah Jahan in memory of his wife Mumtaz Mahal. The chief architect was Ustad Ahmad Lahori. Construction took place between 1631 and 1648 in Agra, India.\n",
            "\n",
            "\n",
            "\u001b[1m> Entering new AgentExecutor chain...\u001b[0m\n",
            "\u001b[32;1m\u001b[1;3mQuestion: How to sort a json using Javascript?\n",
            "\n",
            "Thought: The user is asking how to sort a JSON object using JavaScript. Since JSON objects are unordered by specification, but arrays can be sorted, I should clarify that and provide methods to sort arrays of objects or to sort the keys of an object. I don't need any tools for this as it's a general programming knowledge question.\n",
            "\n",
            "Thought: I now know the final answer.\n",
            "Final Answer: In JavaScript, JSON objects are inherently unordered, but you can sort an array of JSON objects by a specific property or sort the keys of an object. Here are common approaches:\n",
            "\n",
            "1. **Sorting an array of objects**:\n",
            "   ```javascript\n",
            "   let jsonArray = [\n",
            "     { name: \"Charlie\", age: 30 },\n",
            "     { name: \"Alice\", age: 25 },\n",
            "     { name: \"Bob\", age: 35 }\n",
            "   ];\n",
            "\n",
            "   // Sort by 'name' alphabetically\n",
            "   jsonArray.sort((a, b) => a.name.localeCompare(b.name));\n",
            "\n",
            "   // Sort by 'age' numerically\n",
            "   jsonArray.sort((a, b) => a.age - b.age);\n",
            "   ```\n",
            "\n",
            "2. **Sorting the keys of an object** (though the object itself remains unordered, you can create a new object with sorted keys or iterate in sorted order):\n",
            "   ```javascript\n",
            "   let jsonObj = { Charlie: 30, Alice: 25, Bob: 35 };\n",
            "\n",
            "   // Get sorted keys\n",
            "   let sortedKeys = Object.keys(jsonObj).sort();\n",
            "\n",
            "   // Create a new object with sorted keys (note: object property order is not guaranteed in JS, but this works in most environments)\n",
            "   let sortedObj = {};\n",
            "   sortedKeys.forEach(key => {\n",
            "     sortedObj[key] = jsonObj[key];\n",
            "   });\n",
            "\n",
            "   // Alternatively, iterate over sorted keys\n",
            "   sortedKeys.forEach(key => {\n",
            "     console.log(key, jsonObj[key]);\n",
            "   });\n",
            "   ```\n",
            "\n",
            "Remember: JavaScript objects do not guarantee order, but arrays do. For reliable ordering, use arrays of objects and sort them as needed.\u001b[0m\n",
            "\n",
            "\u001b[1m> Finished chain.\u001b[0m\n",
            "In JavaScript, JSON objects are inherently unordered, but you can sort an array of JSON objects by a specific property or sort the keys of an object. Here are common approaches:\n",
            "\n",
            "1. **Sorting an array of objects**:\n",
            "   ```javascript\n",
            "   let jsonArray = [\n",
            "     { name: \"Charlie\", age: 30 },\n",
            "     { name: \"Alice\", age: 25 },\n",
            "     { name: \"Bob\", age: 35 }\n",
            "   ];\n",
            "\n",
            "   // Sort by 'name' alphabetically\n",
            "   jsonArray.sort((a, b) => a.name.localeCompare(b.name));\n",
            "\n",
            "   // Sort by 'age' numerically\n",
            "   jsonArray.sort((a, b) => a.age - b.age);\n",
            "   ```\n",
            "\n",
            "2. **Sorting the keys of an object** (though the object itself remains unordered, you can create a new object with sorted keys or iterate in sorted order):\n",
            "   ```javascript\n",
            "   let jsonObj = { Charlie: 30, Alice: 25, Bob: 35 };\n",
            "\n",
            "   // Get sorted keys\n",
            "   let sortedKeys = Object.keys(jsonObj).sort();\n",
            "\n",
            "   // Create a new object with sorted keys (note: object property order is not guaranteed in JS, but this works in most environments)\n",
            "   let sortedObj = {};\n",
            "   sortedKeys.forEach(key => {\n",
            "     sortedObj[key] = jsonObj[key];\n",
            "   });\n",
            "\n",
            "   // Alternatively, iterate over sorted keys\n",
            "   sortedKeys.forEach(key => {\n",
            "     console.log(key, jsonObj[key]);\n",
            "   });\n",
            "   ```\n",
            "\n",
            "Remember: JavaScript objects do not guarantee order, but arrays do. For reliable ordering, use arrays of objects and sort them as needed.\n"
          ]
        }
      ],
      "source": [
        "import os\n",
        "from langchain.chat_models import ChatOpenAI\n",
        "from langchain.agents import AgentType, initialize_agent, load_tools\n",
        "\n",
        "# set serpapi key\n",
        "os.environ[\"SERPAPI_API_KEY\"] = \"f2200056b637942b33b7d52018ce41ff349e16158c805729d3628a9886ed19e8\"\n",
        "\n",
        "# # local model\n",
        "# llm = ChatOpenAI(\n",
        "#     openai_api_base=\"http://localhost:1234/v1\",\n",
        "#     openai_api_key=\"lm_studio\",\n",
        "#     model=\"llama-3.2-1b-instruct\",\n",
        "#     temperature=0.9\n",
        "# )\n",
        "\n",
        "# tools\n",
        "tools = load_tools([\"serpapi\", \"llm-math\"], llm=llm) #bing-search, python_repl,terminal,arxiv,youtube-search\n",
        "\n",
        "# agent\n",
        "agent = initialize_agent(\n",
        "    tools,\n",
        "    llm,\n",
        "    agent=AgentType.CHAT_ZERO_SHOT_REACT_DESCRIPTION,\n",
        "    verbose=True,\n",
        "    handle_parsing_errors=True\n",
        ")\n",
        "\n",
        "# test\n",
        "print(agent.run(\"what the bitcoin price today and convert it into INR?\"))\n",
        "print(agent.run(\"Who build tajmajal\"))\n",
        "print(agent.run(\"How to sort a json using Javascript?\"))"
      ]
    },
    {
      "cell_type": "code",
      "execution_count": 32,
      "id": "61cd7e7f",
      "metadata": {
        "colab": {
          "base_uri": "https://localhost:8080/"
        },
        "id": "61cd7e7f",
        "outputId": "a8d66cf4-074f-4915-e2bf-49176d859ee8"
      },
      "outputs": [
        {
          "output_type": "stream",
          "name": "stdout",
          "text": [
            "Collecting wikipedia\n",
            "  Downloading wikipedia-1.4.0.tar.gz (27 kB)\n",
            "  Preparing metadata (setup.py) ... \u001b[?25l\u001b[?25hdone\n",
            "Requirement already satisfied: beautifulsoup4 in /usr/local/lib/python3.12/dist-packages (from wikipedia) (4.13.5)\n",
            "Requirement already satisfied: requests<3.0.0,>=2.0.0 in /usr/local/lib/python3.12/dist-packages (from wikipedia) (2.32.5)\n",
            "Requirement already satisfied: charset_normalizer<4,>=2 in /usr/local/lib/python3.12/dist-packages (from requests<3.0.0,>=2.0.0->wikipedia) (3.4.3)\n",
            "Requirement already satisfied: idna<4,>=2.5 in /usr/local/lib/python3.12/dist-packages (from requests<3.0.0,>=2.0.0->wikipedia) (3.10)\n",
            "Requirement already satisfied: urllib3<3,>=1.21.1 in /usr/local/lib/python3.12/dist-packages (from requests<3.0.0,>=2.0.0->wikipedia) (2.5.0)\n",
            "Requirement already satisfied: certifi>=2017.4.17 in /usr/local/lib/python3.12/dist-packages (from requests<3.0.0,>=2.0.0->wikipedia) (2025.8.3)\n",
            "Requirement already satisfied: soupsieve>1.2 in /usr/local/lib/python3.12/dist-packages (from beautifulsoup4->wikipedia) (2.7)\n",
            "Requirement already satisfied: typing-extensions>=4.0.0 in /usr/local/lib/python3.12/dist-packages (from beautifulsoup4->wikipedia) (4.15.0)\n",
            "Building wheels for collected packages: wikipedia\n",
            "  Building wheel for wikipedia (setup.py) ... \u001b[?25l\u001b[?25hdone\n",
            "  Created wheel for wikipedia: filename=wikipedia-1.4.0-py3-none-any.whl size=11678 sha256=f6041321612c9478b83826131362446605b347e05f3b2da4b6c433ad7b953aec\n",
            "  Stored in directory: /root/.cache/pip/wheels/63/47/7c/a9688349aa74d228ce0a9023229c6c0ac52ca2a40fe87679b8\n",
            "Successfully built wikipedia\n",
            "Installing collected packages: wikipedia\n",
            "Successfully installed wikipedia-1.4.0\n"
          ]
        }
      ],
      "source": [
        "!pip install wikipedia"
      ]
    },
    {
      "cell_type": "code",
      "execution_count": 33,
      "id": "0e1d66a4",
      "metadata": {
        "colab": {
          "base_uri": "https://localhost:8080/"
        },
        "id": "0e1d66a4",
        "outputId": "58335ec5-e65a-453f-e1a8-ad7f55b54612"
      },
      "outputs": [
        {
          "output_type": "stream",
          "name": "stdout",
          "text": [
            "\n",
            "\n",
            "\u001b[1m> Entering new AgentExecutor chain...\u001b[0m\n",
            "\u001b[32;1m\u001b[1;3mQuestion: What is this year raised to the 0.43 power?\n",
            "\n",
            "Thought: I need to calculate the current year raised to the power of 0.43. First, I should determine what the current year is. Since the user didn't specify, I'll assume it's 2023 (as this is a common default in such contexts). Then, I'll use the Calculator tool to compute 2023^0.43.\n",
            "\n",
            "Action:\n",
            "```\n",
            "{\n",
            "  \"action\": \"Calculator\",\n",
            "  \"action_input\": \"2023^0.43\"\n",
            "}\n",
            "```\u001b[0m\n",
            "Observation: \u001b[33;1m\u001b[1;3mAnswer: 26.39843795372203\u001b[0m\n",
            "Thought:\u001b[32;1m\u001b[1;3mThought: I have the result from the calculator: 26.39843795372203. Since the question asks for \"this year\" and I assumed 2023, I should confirm if that's correct. However, the user hasn't provided any context to suggest otherwise, so I'll proceed with the calculated value.\n",
            "\n",
            "Final Answer: 26.39843795372203\u001b[0m\n",
            "\n",
            "\u001b[1m> Finished chain.\u001b[0m\n",
            "26.39843795372203\n"
          ]
        }
      ],
      "source": [
        "import os\n",
        "from langchain.chat_models import ChatOpenAI\n",
        "from langchain.agents import AgentType, initialize_agent, load_tools\n",
        "\n",
        "\n",
        "# llm = ChatOpenAI(\n",
        "#     openai_api_base=\"http://localhost:1234/v1\",\n",
        "#     openai_api_key=\"lm_studio\",\n",
        "#     model=\"llama-3.2-1b-instruct\",\n",
        "#     temperature=0.9\n",
        "# )\n",
        "\n",
        "# tools (wikipedia + math)\n",
        "tools = load_tools([\"wikipedia\", \"llm-math\"], llm=llm)\n",
        "\n",
        "\n",
        "agent = initialize_agent(\n",
        "    tools,\n",
        "    llm,\n",
        "    agent=AgentType.CHAT_ZERO_SHOT_REACT_DESCRIPTION,\n",
        "    verbose=True,\n",
        "    handle_parsing_errors=True\n",
        ")\n",
        "\n",
        "\n",
        "print(agent.run(\"What is this year raised to the 0.43 power?\"))\n",
        "\n",
        "#In what year was the film Departed with Leonardo DiCaprio released?\n",
        "# \"What is this year raised to the 0.43 power?\"\n"
      ]
    }
  ],
  "metadata": {
    "kernelspec": {
      "display_name": "rag",
      "language": "python",
      "name": "python3"
    },
    "language_info": {
      "codemirror_mode": {
        "name": "ipython",
        "version": 3
      },
      "file_extension": ".py",
      "mimetype": "text/x-python",
      "name": "python",
      "nbconvert_exporter": "python",
      "pygments_lexer": "ipython3",
      "version": "3.9.21"
    },
    "colab": {
      "provenance": []
    }
  },
  "nbformat": 4,
  "nbformat_minor": 5
}